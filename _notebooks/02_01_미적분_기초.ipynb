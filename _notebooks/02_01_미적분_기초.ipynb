{
 "cells": [
  {
   "cell_type": "markdown",
   "metadata": {},
   "source": [
    "# 01. 미적분 기초 (1)\n",
    "> 머신러닝에 반드시 필요한 미적분의 기초 이론을 배웁니다.\n",
    "\n",
    "- toc: true \n",
    "- badges: true\n",
    "- comments: true\n",
    "- categories: [Day 2]\n",
    "- permalink: /calculus_theory\n",
    "- exec: colab"
   ]
  },
  {
   "cell_type": "markdown",
   "metadata": {},
   "source": [
    "미적분은 우리가 머신러닝을 하면서 최적해를 구하기 위해 사용하는 일종의 Tool입니다. 이미 미적분에 대한 내용은 배우셨겠지만, 여기에서 다시한번 개념을 짚고 넘어가도록 하겠습니다."
   ]
  },
  {
   "cell_type": "markdown",
   "metadata": {},
   "source": [
    "<br><br>\n",
    "\n",
    "### 1. 원의 넓이를 구해보자.\n",
    "원의 넓이는 잘 아시다시피 $\\pi r^2$입니다. 그런데 왜 $\\pi r^2$일까요? 한번 반지름 3인 원의 넓이를 직접 떠올려봅시다. 원의 넓이를 곧바로 구할 수는 없기 때문에 한번 쪼개서 구해보도록 합시다.\n",
    "<br><br>\n",
    "\n",
    "\n",
    "#### 1.1. 어떻게 잘라낼까?\n",
    "\n",
    "![img](https://github.com/gusdnd852/bigdata-lecture/blob/master/_notebooks/img/Day2/22.jpg?raw=true)\n",
    "\n",
    "다양한 방법으로 원을 잘라낼 수 있습니다. 그러나 우리는 결론적으로 가장 오른쪽과 같이 잘라내는 방법을 사용할 것입니다. 저렇게 자르면 **각 잘라진 면이 하나의 원띠처럼 나올 것이기 때문이고, 그 원띠를 잘라내면 곡선이 없어서 계산하기 수월**할 것입니다. 만약 첫번째나 두번째, 네번째 처럼 자른다면 끝 부분에 곡선부분이 있어서 계산하기 어려워 보입니다.\n",
    "<br><br>\n",
    "\n",
    "#### 1.2. 그렇다면 각각의 링의 넓이는 어떻게 구할까?\n",
    "\n",
    "![img](https://github.com/gusdnd852/bigdata-lecture/blob/master/_notebooks/img/Day2/23.gif?raw=true)\n",
    "\n",
    "우리가 위와 같은 각각의 링의 넓이를 구하고, 이 넓이를 모두 더하면 최종적으로 원의 넓이를 알 수 있게 됩니다. 링 하나를 쭉 펴면 평행사변형이 된다만, **그냥 윗변과 아랫변이 같다고 놓고** 계산해봅시다. 이는 그냥 간단하게 생각하기 위함입니다. 어차피 정확한 값이 아니라 근사 값을 구할 것이기 때문입니다.\n",
    "<br><br>\n",
    "\n",
    "![img](https://github.com/gusdnd852/bigdata-lecture/blob/master/_notebooks/img/Day2/24.gif?raw=true)\n",
    "\n",
    "하나의 띠의 가로 길이는 $2 \\pi r$입니다. 그것은 $\\pi$의 정의입니다. 그렇다면 세로 길이는 무엇일까요? 우리는 여기에서 미적분학의 표기인 $dr$이라는 표현을 사용해봅시다. $dr$은 0.1과 같은 작은 숫자입니다.\n",
    "<br><br>\n",
    "\n",
    "\n",
    "![img](https://github.com/gusdnd852/bigdata-lecture/blob/master/_notebooks/img/Day2/24.gif?raw=true)\n",
    "\n",
    "따라서 사각형이라고 가정한 원띠의 넓이는 가로 x 세로인 $2 \\pi r \\times dr$이 됩니다.\n",
    "<br><br>\n",
    "\n",
    "![img](https://github.com/gusdnd852/bigdata-lecture/blob/master/_notebooks/img/Day2/26.gif?raw=true)\n",
    "\n",
    "아까도 말했지만 이 넓이는 근차시입니다. 따라서 완벽하지 않습니다. **그러나 $dr$의 크기를 줄이면 줄일 수록 윗변과 아랫변의 길이는 비슷**해지기 때문에 점점 정확한 값이 됩니다. 자, 이 사각형 띠들의 넓이를 모두 더하면 곧 원의 넓이가 됩니다. 그렇다면 이 사각형 띠들의 넓이를 모두 어떻게 더할까요?\n",
    "<br><br>\n",
    "\n",
    "#### 1.3. 어떻게 작은 사각형 띠들을 더할까\n",
    "\n",
    "![img](https://github.com/gusdnd852/bigdata-lecture/blob/master/_notebooks/img/Day2/27.gif?raw=true)\n",
    "\n",
    "위와 같은 수직선을 생각할 수 있을 것입니다. 가장 작은 띠의 반지름은 0에 가까울 것이고, 가장 큰 띠의 반지름은 3에 가까울 것입니다. \n",
    "<br><br>\n",
    "\n",
    "![img](https://github.com/gusdnd852/bigdata-lecture/blob/master/_notebooks/img/Day2/28.gif?raw=true)\n",
    "\n",
    "그리고 수직선을 잘게 쪼개 하나의 단위를 $dr$이라고 생각하고 거기에 사각형 띠를 하나 놓을 수 있습니다.\n",
    "<br><br>\n",
    "\n",
    "![img](https://github.com/gusdnd852/bigdata-lecture/blob/master/_notebooks/img/Day2/29.gif?raw=true)\n",
    "\n",
    "이렇게 모든 사각형 띠를 놓으면 위와 같은 형태를 생각할 수 있습니다.\n",
    "<br><br>\n",
    "\n",
    "![img](https://github.com/gusdnd852/bigdata-lecture/blob/master/_notebooks/img/Day2/30.gif?raw=true)\n",
    "\n",
    "각 사각형 띠는 밑변이 $dr$ 높이가 $2 \\pi r$이 되고, 이렇게 쌓은 사각형 띠들의  넓이는 위에서 말한 것 처럼 $2 \\pi r \\times dr$이 됩니다.\n",
    "<br><br>\n",
    "\n",
    "![img](https://github.com/gusdnd852/bigdata-lecture/blob/master/_notebooks/img/Day2/31.gif?raw=true)\n",
    "\n",
    "가장 큰 사각형 띠는 반지름이 3정도 되기 때문에 $2 \\pi r \\times dr$은 대략 18정도 됩니다. 화면을 넘어가기 때문에 y축의 범위를 변경시켜서 보기 편하게 해봅시다.\n",
    "<br><br>\n",
    "\n",
    "![img](https://github.com/gusdnd852/bigdata-lecture/blob/master/_notebooks/img/Day2/32.gif?raw=true)\n",
    "\n",
    "각 사각형 띠들의 높이를 하나의 직선으로 표시할 수 있고 그 직선은 $y = 2\\pi r$이 됩니다.\n",
    "<br><br>"
   ]
  }
 ],
 "metadata": {
  "kernelspec": {
   "display_name": "Python 3",
   "language": "python",
   "name": "python3"
  },
  "language_info": {
   "codemirror_mode": {
    "name": "ipython",
    "version": 3
   },
   "file_extension": ".py",
   "mimetype": "text/x-python",
   "name": "python",
   "nbconvert_exporter": "python",
   "pygments_lexer": "ipython3",
   "version": "3.6.7"
  }
 },
 "nbformat": 4,
 "nbformat_minor": 4
}
