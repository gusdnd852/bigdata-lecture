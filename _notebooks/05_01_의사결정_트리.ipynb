{
 "cells": [
  {
   "cell_type": "markdown",
   "metadata": {},
   "source": [
    "# 01. 의사결정 트리 알고리즘\n",
    "> 트리기반 모델인 의사결정 트리 알고리즘을 배워보고 실습을 진행해봅시다.\n",
    "\n",
    "- toc: true \n",
    "- badges: true\n",
    "- comments: true\n",
    "- categories: [Day 5]\n",
    "- permalink: /decision_tree\n",
    "- exec: colab"
   ]
  },
  {
   "cell_type": "markdown",
   "metadata": {},
   "source": [
    "<br>\n",
    "\n",
    "### 1. 트리란?\n",
    "\n",
    "의사결정 트리는 트리기반의 머신러닝 모델입니다. 그러나 컴퓨터 사이언스를 배우지 않은 여러분은 '트리'라는 자료구조를 잘 모르실테니 우선 '트리'에 대해 먼저 설명드리겠습니다.\n",
    "<br><br>\n",
    "\n",
    "![](https://s3.ap-northeast-2.amazonaws.com/learn.codestate.com/sos/Data+Structure/Advanced%20Data%20Structures/Untitled%204.png)\n",
    "\n",
    "트리는 '노드'로 구성된 계층적 자료구조입니다. '노드'는 위 그림에 있는 숫자가 써진 동그라미 하나를 의미합니다. 트리에는 루트(최상위 노드)가 존재하고, 루트에서부터 시작해서 자식노드들이 아래로 뻗어나가게 됩니다. 각 노드는 여러개의 자식노드를 가질 수 있는데, 최대 N개까지만 가질 수 있는 트리를 N진 트리라고 합니다. 예를 들어 위 그림처럼 각 노드가 최대 2개의 자식노드를 가질 수 있으면 그런 트리를 이진트리라고 합니다.\n",
    "<br><br>\n",
    "\n",
    "\n"
   ]
  },
  {
   "cell_type": "markdown",
   "metadata": {},
   "source": [
    "### 2. 의사결정 트리 알고리즘이란?\n",
    "\n",
    "의사결정 트리 알고리즘은 트리 구조를 이용한 매우 직관적인  머신러닝 모델로, 분류와 회귀가 모두 가능한 지도학습 모델입니다. 아래의 예시를 봅시다. <br><br>\n",
    "\n",
    "![](https://github.com/gusdnd852/bigdata-lecture/blob/master/_notebooks/img/Day5/01.jpg?raw=true)\n",
    "\n",
    "만약 여러분에게 겨울에 찍은 가족 사진을 분류해볼래? 라고 말한다면 여러분은 어떤 기준으로 이미지를 분류해내실 건가요? <br><br>\n",
    "\n",
    "![](https://github.com/gusdnd852/bigdata-lecture/blob/master/_notebooks/img/Day5/02.jpg?raw=true)\n",
    "\n",
    "가장 먼저 '사진'을 찾아달라고 했기 때문에, '사진'이 아닌 '그림(만화)'를 걸러낼 수 있습니다.\n",
    "<br><br>\n",
    "\n",
    "![](https://github.com/gusdnd852/bigdata-lecture/blob/master/_notebooks/img/Day5/03.jpg?raw=true)\n",
    "\n",
    "그리고 나서 위 처럼 '겨울'사진이 아닌 사진을 걸러낼 수 있습니다.\n",
    "<br><br>\n",
    "\n",
    "![](https://github.com/gusdnd852/bigdata-lecture/blob/master/_notebooks/img/Day5/04.jpg?raw=true)\n",
    "\n",
    "마지막으로 사진에 여러명의 사람들이 있는 저 한 장의 사진을 겨울 가족 사진일 것이라고 분류해낼 수 있습니다.\n",
    "<br><br>"
   ]
  }
 ],
 "metadata": {
  "kernelspec": {
   "display_name": "Python 3",
   "language": "python",
   "name": "python3"
  },
  "language_info": {
   "codemirror_mode": {
    "name": "ipython",
    "version": 3
   },
   "file_extension": ".py",
   "mimetype": "text/x-python",
   "name": "python",
   "nbconvert_exporter": "python",
   "pygments_lexer": "ipython3",
   "version": "3.6.7"
  }
 },
 "nbformat": 4,
 "nbformat_minor": 4
}
