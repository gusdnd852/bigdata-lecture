{
 "cells": [
  {
   "cell_type": "markdown",
   "metadata": {},
   "source": [
    "# 03. 군집분석\n",
    "> 비지도학습 기법인 군집 분석에 대해 배워보고 실습해봅시다.\n",
    "\n",
    "- toc: true \n",
    "- badges: true\n",
    "- comments: true\n",
    "- categories: [Day 5]\n",
    "- permalink: /clustering\n",
    "- exec: colab"
   ]
  },
  {
   "cell_type": "markdown",
   "metadata": {},
   "source": [
    "### 1. 군집 분석이란?\n",
    "  \n",
    "![](https://github.com/gusdnd852/bigdata-lecture/blob/master/_notebooks/img/Day5/cst00.png?raw=true)\n",
    "\n",
    "군집 분석(Clustering analysis)은 주어진 데이터들을 특성에 따라 유사한 것끼리 묶음으로써 각 유형별 특징을 분석하는 기법을 말합니다. 군집 분석의 가장 대표적인 예로 '고객 세분화 (customer segmentation)' 가 있습니다. 다양한 유형의 고객들을 같은 유형끼리 묶어주는 것을 말합니다.\n",
    "<br><br>\n",
    "\n",
    "![](https://github.com/gusdnd852/bigdata-lecture/blob/master/_notebooks/img/Day5/cst01.png?raw=true)\n",
    "\n",
    "예를 들어, 어떤 게임 유저들의 일주일동안 획득한 경험치양과 플레이 시간을 집계하였더니 아래 그림의 왼쪽에 있는 것처럼 확인이 되었다고 해보죠. 이 때 군집 분석을 이용하면 오른쪽 그림처럼 '경험치 획득량과 플레이 시간이 모두 낮은 유형', '경험치 획득량은 높지만 플레이 시간은 낮은 유형', '경험치 획득량은 낮지만 플레이 시간은 높은 유형', '경험치 획득량과 플레이 시간이 모두 높은 유형' 을 자동으로 묶어줄 수 있습니다."
   ]
  },
  {
   "cell_type": "markdown",
   "metadata": {},
   "source": [
    "<br>\n",
    "\n",
    "### 2. 군집 분석의 목적\n",
    "\n",
    "그렇다면 왜 군집분석을 하는 것일까요? 군집 분석을 하면 전체 데이터를 속성이 비슷한 개체끼리 분류할 수 있습니다. 그리고 이렇게 카테고리별로 개체를 잘 분류하면 관리 편의성 및 효율성이 좋아집니다. 물건을 정리할 때를 생각해 보면 아마 쉽게 이해하실 수 있을 것 같네요. 아래에 있는 왼쪽 그림처럼 여러 물건들을 정리할 때 비슷한 물건끼리 정리해 놓으면 나중에 물건을 찾을 때 쉽게 찾을 수 있겠죠. \n",
    "\n",
    "![](https://github.com/gusdnd852/bigdata-lecture/blob/master/_notebooks/img/Day5/cst02.png?raw=true)\n",
    "<br><br>\n",
    "\n",
    "마찬가지로 만약 어떤 쇼핑몰에서 이용 고객들을 비슷한 유형끼리 잘 분류해 놓는다면 이후에 고객에게 어떤 상품을 추천하거나 서비스를 제공할 때 오른쪽 그림처럼 비슷한 유형의 고객 정보를 활용하여 적절한 서비스를 제공할 수 있을 것입니다.\n",
    "<br><br>\n",
    "\n",
    "#### 2.1. 평균의 함정\n",
    "\n",
    "또한 우리가 군집 분석을 이용해 데이터를 잘 묶을 수 있다면 소위 말하는 '평균의 함정'에 빠지지 않고 잘 대처할 수 있습니다. **'평균의 함정'란 어떤 집단의 평균이 집단에 속한 각 개체의 특성을 잘 반영해 주지 못하는 현상**을 말합니다. '평균의 함정'과 관련해 유명한 일화 중 하나가 미국 전투기 조종석 디자인에 대한 이야기입니다. 1940년대에 미국 공군에서는 전투기 운행 사고가 줄지 않는 원인을 찾기 위해 고심하고 있었습니다. 그런데 원인을 분석해 보니 전투기 조종석의 디자인에 문제가 있었음이 밝혀졌죠. \n",
    "<br><br>\n",
    "\n",
    "![](https://i.pinimg.com/originals/5c/47/db/5c47db6b3c2ed1c486aff86539e4f8d5.jpg)\n",
    "\n",
    "당시 전투기 조종석은 수천 명의 공군 조종사들의 신체 치수를 측정한 후 이들의 평균값을 참고하여 설계되었습니다. 그런데 길버트 대니얼스라는 학자가 실제 조종사들의 신체 치수와 이 평균값을 비교해 보니 평균에 딱 들어맞는 조종사들이 한 명도 없다는 것을 발견한 것입니다. 따라서 모든 조종사들은 자신의 몸에 맞지 않는 불편한 조종석에서 비행을 해야 했고 이로 인한 조종 실수 때문에 사고가 빈번했던 것입니다. \n",
    "<br><br>\n",
    "\n",
    "![](https://github.com/gusdnd852/bigdata-lecture/blob/master/_notebooks/img/Day5/cst03.png?raw=true)\n",
    "\n",
    "이것은 마치 아래에 있는 왼쪽 그림과 비슷합니다. 전체의 평균이 정작 각 개체들의 실제값과 큰 차이가 있는 상태인 것이죠. 이런 문제를 해결하려면 오른쪽 그림처럼 군집 분석을 통해 비슷한 유형끼리 먼저 묶은 후 각 유형별 평균을 구해서 사용해야 합니다. \n",
    "<br><br>\n",
    "\n",
    "#### 2.2. 심슨의 역설\n",
    "\n",
    "더 나아가 적절한 군집화 없이 데이터를 이용할 경우 자칫 실제 현상과 반대되는 판단을 할수도 있습니다. 1973년에 U.C. 버클리 대학교는 바로 이런 문제로 인해 구설수에 오른 적이 있습니다. 당시 버클리 대학의 남녀 신입생 합격률은 아래 표와 같습니다.\n",
    "\n",
    "![](https://github.com/gusdnd852/bigdata-lecture/blob/master/_notebooks/img/Day5/cst04.png?raw=true)\n",
    "<br><br>\n",
    "\n",
    "위 자료에 의하면 남학생에 비해 여학생의 합격률이 상대적으로 낮죠. 그래서 버클리 대학교는 언론 및 대중으로부터 남녀 차별을 하고 있다는 의심을 받게 되었죠. 그런데 학과별로 세분화해서 자료를 집계했더니 아래와 같이 나타났습니다(전체자료 중 인원이 가장 많은 상위 6개 학과만 표시한 자료입니다).  \n",
    "\n",
    "![](https://github.com/gusdnd852/bigdata-lecture/blob/master/_notebooks/img/Day5/cst05.png?raw=true)\n",
    "<br><br>\n",
    "\n",
    "보시다시피 이렇게 학과별로 세분화된 자료를 보면 여학생의 합격률이 남학생의 합격률에 비해 높은 학과가 더 많습니다. 그런데 **전체 신입생 기준으로 볼 때는 더 낮은 것처럼 보였던 이유는 학과별 입학 정원이 달랐기 때문**입니다. 즉, 여학생들은 남학생들에 비해 입학 정원이 적은 학과에 지원자가 몰리는 바람에 전체 합격률이 낮았던 것이죠.\n",
    "<br><br>\n",
    "\n",
    "이렇게 전체 통계량과 여러 그룹을 나눠서 구한 통계량이 서로 반대되는 특성을 갖는 현상을 '심슨의 역설(Simpson's paradox)' 라고 부릅니다. 이런 현상을 피하기 위해서는 전체 데이터를 적절히 분류하여 구한 통계량과 전체 통계량을 같이 비교하는 것이 필요합니다. 그리고 이렇게 전체 데이터를 적절히 몇 개의 그룹으로 분류할 때 군집 분석은 굉장히 유용한 도구입니다. \n",
    "<br><br>\n",
    "\n",
    "#### 2.3. 개인화 vs 획일화\n",
    "\n",
    "더 나아가 군집 분석은 개인화와 획일화 사이의 적절한 균형점을 제공해 줄 수 있습니다. 요즘은 소위 말하는 '빅데이터 분석' 이 유행하면서 개인화 서비스가 널리 도입되고 있습니다. 그러나 실제 개개인이 갖고 있는 다양한 특성 및 욕구를 정확히 파악하여 서비스한다는 것은 결코 쉬운 일이 아닙니다. 따라서 **각 개체를 따로 분리하여 분석하거나 관리하기 보다는 적정 수준의 유사성을 갖는 개체끼리 그룹을 묶어서 관리하는 것이 더 효율적**입니다. \n",
    "\n",
    "![](https://github.com/gusdnd852/bigdata-lecture/blob/master/_notebooks/img/Day5/cst06.png?raw=true)\n",
    "<br><br>\n"
   ]
  },
  {
   "cell_type": "code",
   "execution_count": null,
   "metadata": {},
   "outputs": [],
   "source": []
  }
 ],
 "metadata": {
  "kernelspec": {
   "display_name": "Python 3",
   "language": "python",
   "name": "python3"
  },
  "language_info": {
   "codemirror_mode": {
    "name": "ipython",
    "version": 3
   },
   "file_extension": ".py",
   "mimetype": "text/x-python",
   "name": "python",
   "nbconvert_exporter": "python",
   "pygments_lexer": "ipython3",
   "version": "3.6.7"
  }
 },
 "nbformat": 4,
 "nbformat_minor": 4
}
