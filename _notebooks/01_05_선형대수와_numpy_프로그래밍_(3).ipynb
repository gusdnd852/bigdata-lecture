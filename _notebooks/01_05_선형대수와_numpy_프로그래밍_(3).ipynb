{
 "cells": [
  {
   "cell_type": "markdown",
   "metadata": {},
   "source": [
    "# 05. 선형대수와 Numpy 프로그래밍 (3)\n",
    "> 머신러닝에 꼭 필요한 선형대수학 개념들을 배우고 이를 Numpy로 구현하는 방법을 배워봅시다.\n",
    "\n",
    "- toc: true \n",
    "- badges: true\n",
    "- comments: true\n",
    "- categories: [Day 1]\n",
    "- permalink: /linear_algebra_with_numpy_3\n",
    "- exec: colab"
   ]
  },
  {
   "cell_type": "markdown",
   "metadata": {},
   "source": [
    "이제 여러분은 선형대수의 프레임워크로 생각할 수 있게 되었습니다. 이제 행렬보다 상위 차원 존재인 텐서에 대해 배우고, 데이터를 자르고 붙이고 돌리는 방법들에 대해 배워봅시다. 이러한 함수들은 실제로 꽤나 유용하며, 이런 함수들을 잘 모르면 산술 프로그래밍 자체가 불가능하니 잘 봐주셔야합니다."
   ]
  },
  {
   "cell_type": "markdown",
   "metadata": {},
   "source": [
    "### 1. Tensor\n",
    "\n",
    "행렬은 기본적으로 벡터가 여러개 쌓여서 만들어진 구조입니다. (기저벡터들이 변환되고 난 뒤의 위치를 가로로 쌓아놓은 구조) 따라서 (n, 1)의 Shape를 갖는 벡터들이 m개 쌓이면 Shape이 (n, m)인 행렬이 되는 방식이였습니다.\n",
    "\n",
    "![img](https://github.com/gusdnd852/bigdata-lecture/blob/master/_notebooks/img/Day1/70.png?raw=true)\n",
    "\n",
    "그러나 이러한 행렬이 쌓여서 3차원 큐브와 같은 자료를 만들면 어떻게 될까요? 또 그 3차원 큐브가 쌓여서 4차원 데이터를 만들어내면 어떻게 될까요? 이 때 데이터 자체가 몇개의 방향(차원)으로 존재하는지를 우리는 \"랭크(Rank)\"라고 부릅니다. <br><br>\n",
    "\n",
    "![img](https://github.com/gusdnd852/bigdata-lecture/blob/master/_notebooks/img/Day1/69.png?raw=true)\n",
    "\n",
    "스칼라는 랭크가 0, 벡터는 랭크가 1, 행렬은 랭크가 2입니다. 그리고 랭크가 3이상인 모든 데이터들을 \"텐서\"라고 부르며, "
   ]
  },
  {
   "cell_type": "markdown",
   "metadata": {},
   "source": [
    "### 1. Transpose\n",
    "<br>\n",
    "\n",
    "$\\begin{bmatrix} 1 & 2 & 3 \\\\ 4 & 5 & 6 \\end{bmatrix}^T$ = $\\begin{bmatrix} 1 & 4 \\\\ 2 & 5 \\\\ 3 & 6 \\end{bmatrix}$\n",
    "\n",
    "트랜스포즈 연산은 행렬을 뒤집는 것을 의미합니다. 만약 Shape가 (2, 3)인 행렬이였다면 뒤집고나서는 Shape가 (3, 2)가 됩니다. "
   ]
  }
 ],
 "metadata": {
  "kernelspec": {
   "display_name": "Python 3",
   "language": "python",
   "name": "python3"
  },
  "language_info": {
   "codemirror_mode": {
    "name": "ipython",
    "version": 3
   },
   "file_extension": ".py",
   "mimetype": "text/x-python",
   "name": "python",
   "nbconvert_exporter": "python",
   "pygments_lexer": "ipython3",
   "version": "3.6.7"
  }
 },
 "nbformat": 4,
 "nbformat_minor": 4
}
