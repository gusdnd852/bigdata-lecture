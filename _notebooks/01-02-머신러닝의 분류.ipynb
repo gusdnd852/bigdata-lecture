{
 "cells": [
  {
   "cell_type": "markdown",
   "metadata": {
    "colab_type": "text",
    "id": "gAbZ0ocqJgel"
   },
   "source": [
    "# 머신러닝의 종류\n",
    "> 머신러닝의 여러가지 종류에 대해 알아봅시다.\n",
    "\n",
    "- toc: true \n",
    "- badges: true\n",
    "- comments: true\n",
    "- categories: [Day 1]\n",
    "- permalink: /kinds_of_machine_learning\n",
    "- exec: colab"
   ]
  },
  {
   "cell_type": "markdown",
   "metadata": {},
   "source": [
    "![img](https://post-phinf.pstatic.net/MjAxODA4MDJfMjE1/MDAxNTMzMTg1NTE0MTMz.gONCk2zIvr6T1V4zVSza4PMXDZold_Ub4KwGFd8aF1Eg.eCAfQh9s_PIgJMVicFfEVQG1Vx6Yoe8DmFPEBlpZOakg.JPEG/image_4722008581533185470963.jpg?type=w1200)\n",
    "- 머신러닝엔 크게 3가지 분류가 있고 자세하게 구분하면 그보다 많게 분류할 수 있습니다.\n",
    "- 3가지 대분류인 지도학습, 비지도학습, 강화학습에 대해 알아봅시다.\n",
    "- 더욱 세밀한 분류인 준지도학습, 퓨샷학습, 제로샷학습에 대해서도 알아봅시다.\n"
   ]
  },
  {
   "cell_type": "markdown",
   "metadata": {
    "colab_type": "text",
    "id": "5tvSeUTOghAv"
   },
   "source": [
    "\n",
    "### 1. 지도 학습 (Supervised Learning)\n",
    "![img](https://post-phinf.pstatic.net/MjAxODA4MDJfMjc1/MDAxNTMzMTg1NTQwMDcw.rDJmkQSchSqyhifIOpV5EJg5DeDx71XYgWXW07JUE3Ig.vDvL6PDJixUx5livk3llUwKeBUgSrT3l1TgCNRCuXxIg.JPEG/2%EC%A7%80%EB%8F%84%ED%95%99%EC%8A%B5.jpg?type=w1200)\n",
    "지도학습은 데이터와 정답이 제공되는 경우를 말합니다. 그래서 \"지도 (Superviesed)\"라고 합니다. 위 그림처럼 사람이 직접 \"이 동물은 기린이야. 이 동물은 고양이야\" 처럼 사람이 컴퓨터를 지도하는 방법입니다. 다음과 같은 데이터셋의 형태라면 지도학습을 적용할 수 있습니다.<br><br><br>\n"
   ]
  },
  {
   "cell_type": "markdown",
   "metadata": {
    "colab_type": "text",
    "id": "sJ5-1MkfR5aQ"
   },
   "source": [
    "\n",
    "### 1) 분류 (Classification)\n",
    "데이터를 보고 그 데이터가 속한 클래스를 정확하게 맞추는 문제를 분류문제 (Classification)이라고 하며, 분류문제는 지도학습의 가장 대표적인 예시입니다. 응용분야는 문서분류(Document Classification), 이미지분류(Image Classification), 암진단(분류, Cancer Diagnosis), 감정분류(Sentimental Analysis) 등이 있습니다. 아래 예시를 통해 자세히 배워봅시다. \n",
    "\n",
    "#### 1-1) 비만 분류 예제"
   ]
  },
  {
   "cell_type": "code",
   "execution_count": 1,
   "metadata": {
    "colab": {
     "base_uri": "https://localhost:8080/",
     "height": 284
    },
    "colab_type": "code",
    "executionInfo": {
     "elapsed": 1114,
     "status": "ok",
     "timestamp": 1594568631830,
     "user": {
      "displayName": "고현웅",
      "photoUrl": "",
      "userId": "01574346278563741173"
     },
     "user_tz": -540
    },
    "id": "6d5_HUqzUMrw",
    "outputId": "420c7f53-7184-4775-9539-42a819f5140c"
   },
   "outputs": [
    {
     "data": {
      "text/html": [
       "<div>\n",
       "<style scoped>\n",
       "    .dataframe tbody tr th:only-of-type {\n",
       "        vertical-align: middle;\n",
       "    }\n",
       "\n",
       "    .dataframe tbody tr th {\n",
       "        vertical-align: top;\n",
       "    }\n",
       "\n",
       "    .dataframe thead th {\n",
       "        text-align: right;\n",
       "    }\n",
       "</style>\n",
       "<table border=\"1\" class=\"dataframe\">\n",
       "  <thead>\n",
       "    <tr style=\"text-align: right;\">\n",
       "      <th></th>\n",
       "      <th>이름</th>\n",
       "      <th>신장</th>\n",
       "      <th>몸무게</th>\n",
       "      <th>비만(정답)</th>\n",
       "    </tr>\n",
       "  </thead>\n",
       "  <tbody>\n",
       "    <tr>\n",
       "      <th>0</th>\n",
       "      <td>도람푸</td>\n",
       "      <td>177</td>\n",
       "      <td>76</td>\n",
       "      <td>정상</td>\n",
       "    </tr>\n",
       "    <tr>\n",
       "      <th>1</th>\n",
       "      <td>핵정은</td>\n",
       "      <td>165</td>\n",
       "      <td>85</td>\n",
       "      <td>비만</td>\n",
       "    </tr>\n",
       "    <tr>\n",
       "      <th>2</th>\n",
       "      <td>김병만</td>\n",
       "      <td>165</td>\n",
       "      <td>61</td>\n",
       "      <td>정상</td>\n",
       "    </tr>\n",
       "    <tr>\n",
       "      <th>3</th>\n",
       "      <td>김준현</td>\n",
       "      <td>180</td>\n",
       "      <td>105</td>\n",
       "      <td>비만</td>\n",
       "    </tr>\n",
       "    <tr>\n",
       "      <th>4</th>\n",
       "      <td>오지헌</td>\n",
       "      <td>178</td>\n",
       "      <td>72</td>\n",
       "      <td>정상</td>\n",
       "    </tr>\n",
       "    <tr>\n",
       "      <th>5</th>\n",
       "      <td>유재석</td>\n",
       "      <td>176</td>\n",
       "      <td>71</td>\n",
       "      <td>정상</td>\n",
       "    </tr>\n",
       "    <tr>\n",
       "      <th>6</th>\n",
       "      <td>유민상</td>\n",
       "      <td>180</td>\n",
       "      <td>110</td>\n",
       "      <td>비만</td>\n",
       "    </tr>\n",
       "    <tr>\n",
       "      <th>7</th>\n",
       "      <td>나비만</td>\n",
       "      <td>168</td>\n",
       "      <td>83</td>\n",
       "      <td>???</td>\n",
       "    </tr>\n",
       "  </tbody>\n",
       "</table>\n",
       "</div>"
      ],
      "text/plain": [
       "    이름   신장  몸무게 비만(정답)\n",
       "0  도람푸  177   76     정상\n",
       "1  핵정은  165   85     비만\n",
       "2  김병만  165   61     정상\n",
       "3  김준현  180  105     비만\n",
       "4  오지헌  178   72     정상\n",
       "5  유재석  176   71     정상\n",
       "6  유민상  180  110     비만\n",
       "7  나비만  168   83    ???"
      ]
     },
     "execution_count": 1,
     "metadata": {},
     "output_type": "execute_result"
    }
   ],
   "source": [
    "import pandas as pd\n",
    "\n",
    "weight_df = pd.DataFrame(\n",
    "    columns=['이름', '신장' , '몸무게', '비만(정답)'],\n",
    "\n",
    "    data=[['도람푸', 177, 76, '정상'],\n",
    "          ['핵정은', 165, 85, '비만'],\n",
    "          ['김병만', 165, 61, '정상'],     \n",
    "          ['김준현', 180, 105, '비만'],    \n",
    "          ['오지헌', 178, 72, '정상'],    \n",
    "          ['유재석', 176, 71, '정상'],    \n",
    "          ['유민상', 180, 110, '비만'],\n",
    "          ['나비만', 168, 83, '???']]\n",
    ")\n",
    "\n",
    "weight_df.head(10)"
   ]
  },
  {
   "cell_type": "markdown",
   "metadata": {
    "colab_type": "text",
    "id": "ympHyvyuVbsf"
   },
   "source": [
    "만약 우리가 직접 어떤 사람(7번 나비만)의 정보를 입력받아서 비만인지 아닌지 구분하는 시스템이 되어본다고 가정합시다. 이 때 우리는 비만의 기준을 알기 위해서 기존에 우리가 가지고 있던 데이터를 보고 판단을 수행해야합니다. 때문에 비만의 기준을 알려면 데이터들에 어떤 경우엔 정상이고 어떤 경우엔 비만인지 반드시 적혀있어야 그걸 보고 판단할 수 있습니다. 그러나 우리는 사전에 비만이 무엇인지에 대한 배경지식이 있기 때문에 비만(정답) 열 없이도 키와 몸무게만 보고도 판단 가능해보입니다. 다음과 같은 예제를 봅시다. \n"
   ]
  },
  {
   "cell_type": "markdown",
   "metadata": {
    "colab_type": "text",
    "id": "LjhJe_0KjqGq"
   },
   "source": [
    "#### 1-2) 과일 등급 분류 예시 "
   ]
  },
  {
   "cell_type": "code",
   "execution_count": 2,
   "metadata": {
    "colab": {
     "base_uri": "https://localhost:8080/",
     "height": 195
    },
    "colab_type": "code",
    "executionInfo": {
     "elapsed": 981,
     "status": "ok",
     "timestamp": 1594570028732,
     "user": {
      "displayName": "고현웅",
      "photoUrl": "",
      "userId": "01574346278563741173"
     },
     "user_tz": -540
    },
    "id": "MzxDW-zbjoxq",
    "outputId": "a963de7f-4bbf-46b7-c291-f9ecb4aa6fa4"
   },
   "outputs": [
    {
     "data": {
      "text/html": [
       "<div>\n",
       "<style scoped>\n",
       "    .dataframe tbody tr th:only-of-type {\n",
       "        vertical-align: middle;\n",
       "    }\n",
       "\n",
       "    .dataframe tbody tr th {\n",
       "        vertical-align: top;\n",
       "    }\n",
       "\n",
       "    .dataframe thead th {\n",
       "        text-align: right;\n",
       "    }\n",
       "</style>\n",
       "<table border=\"1\" class=\"dataframe\">\n",
       "  <thead>\n",
       "    <tr style=\"text-align: right;\">\n",
       "      <th></th>\n",
       "      <th>농장</th>\n",
       "      <th>당도</th>\n",
       "      <th>수분함유량</th>\n",
       "      <th>등급(정답)</th>\n",
       "    </tr>\n",
       "  </thead>\n",
       "  <tbody>\n",
       "    <tr>\n",
       "      <th>0</th>\n",
       "      <td>농장A</td>\n",
       "      <td>35.2</td>\n",
       "      <td>16.3</td>\n",
       "      <td>1등급</td>\n",
       "    </tr>\n",
       "    <tr>\n",
       "      <th>1</th>\n",
       "      <td>농장A</td>\n",
       "      <td>8.9</td>\n",
       "      <td>6.5</td>\n",
       "      <td>2등급</td>\n",
       "    </tr>\n",
       "    <tr>\n",
       "      <th>2</th>\n",
       "      <td>농장B</td>\n",
       "      <td>8.4</td>\n",
       "      <td>44.5</td>\n",
       "      <td>3등급</td>\n",
       "    </tr>\n",
       "    <tr>\n",
       "      <th>3</th>\n",
       "      <td>농장C</td>\n",
       "      <td>27.4</td>\n",
       "      <td>20.1</td>\n",
       "      <td>4등급</td>\n",
       "    </tr>\n",
       "    <tr>\n",
       "      <th>4</th>\n",
       "      <td>농장D</td>\n",
       "      <td>24.0</td>\n",
       "      <td>25.2</td>\n",
       "      <td>???</td>\n",
       "    </tr>\n",
       "  </tbody>\n",
       "</table>\n",
       "</div>"
      ],
      "text/plain": [
       "    농장    당도  수분함유량 등급(정답)\n",
       "0  농장A  35.2   16.3    1등급\n",
       "1  농장A   8.9    6.5    2등급\n",
       "2  농장B   8.4   44.5    3등급\n",
       "3  농장C  27.4   20.1    4등급\n",
       "4  농장D  24.0   25.2    ???"
      ]
     },
     "execution_count": 2,
     "metadata": {},
     "output_type": "execute_result"
    }
   ],
   "source": [
    "fruit_df = pd.DataFrame(\n",
    "    columns=['농장', '당도' , '수분함유량', '등급(정답)'],\n",
    "\n",
    "    data=[['농장A', 35.2, 16.3, '1등급'],\n",
    "          ['농장A', 8.9, 6.5, '2등급'],\n",
    "          ['농장B', 8.4, 44.5, '3등급'],     \n",
    "          ['농장C', 27.4, 20.1, '4등급'],\n",
    "          ['농장D', 24.0, 25.2, '???']]\n",
    ")\n",
    "\n",
    "fruit_df.head(10)"
   ]
  },
  {
   "cell_type": "markdown",
   "metadata": {
    "colab_type": "text",
    "id": "Wh60TeThkPN7"
   },
   "source": [
    "위 데이터를 보고 농장D에서 나온 과일의 등급을 예상해봅시다. 컴퓨터가 비만 데이터를 바라보면 아마 여러분이 위 데이터를 바라본 모습일 것입니다. 이 데이터를 받고나서 위 문제를 푸는데, 등급(정답) 열이 있기 때문에  그나마 이 과일이 1 ~ 2 등급 언저리쯤 되고 3등급 아닐거라고 생각 할 수 있습니다. 그런데 등급(정답)열이 주어지지 않으면 이 문제를 어떻게 풀 수 있을까요? "
   ]
  },
  {
   "cell_type": "markdown",
   "metadata": {
    "colab_type": "text",
    "id": "EGWR7B21kYFT"
   },
   "source": [
    "#### 1-3) 잘못된 과일 등급 분류 예시 (정답열이 없는 경우)"
   ]
  },
  {
   "cell_type": "code",
   "execution_count": 3,
   "metadata": {
    "colab": {
     "base_uri": "https://localhost:8080/",
     "height": 195
    },
    "colab_type": "code",
    "executionInfo": {
     "elapsed": 1079,
     "status": "ok",
     "timestamp": 1594568631834,
     "user": {
      "displayName": "고현웅",
      "photoUrl": "",
      "userId": "01574346278563741173"
     },
     "user_tz": -540
    },
    "id": "p1kKC7YzkabP",
    "outputId": "dc5eb57b-1600-4ccf-8288-5f1fe3ef7334"
   },
   "outputs": [
    {
     "data": {
      "text/html": [
       "<div>\n",
       "<style scoped>\n",
       "    .dataframe tbody tr th:only-of-type {\n",
       "        vertical-align: middle;\n",
       "    }\n",
       "\n",
       "    .dataframe tbody tr th {\n",
       "        vertical-align: top;\n",
       "    }\n",
       "\n",
       "    .dataframe thead th {\n",
       "        text-align: right;\n",
       "    }\n",
       "</style>\n",
       "<table border=\"1\" class=\"dataframe\">\n",
       "  <thead>\n",
       "    <tr style=\"text-align: right;\">\n",
       "      <th></th>\n",
       "      <th>농장</th>\n",
       "      <th>당도</th>\n",
       "      <th>수분함유량</th>\n",
       "    </tr>\n",
       "  </thead>\n",
       "  <tbody>\n",
       "    <tr>\n",
       "      <th>0</th>\n",
       "      <td>농장A</td>\n",
       "      <td>35.2</td>\n",
       "      <td>16.3</td>\n",
       "    </tr>\n",
       "    <tr>\n",
       "      <th>1</th>\n",
       "      <td>농장A</td>\n",
       "      <td>8.9</td>\n",
       "      <td>6.5</td>\n",
       "    </tr>\n",
       "    <tr>\n",
       "      <th>2</th>\n",
       "      <td>농장B</td>\n",
       "      <td>8.4</td>\n",
       "      <td>44.5</td>\n",
       "    </tr>\n",
       "    <tr>\n",
       "      <th>3</th>\n",
       "      <td>농장C</td>\n",
       "      <td>27.4</td>\n",
       "      <td>20.1</td>\n",
       "    </tr>\n",
       "    <tr>\n",
       "      <th>4</th>\n",
       "      <td>농장D</td>\n",
       "      <td>24.0</td>\n",
       "      <td>25.2</td>\n",
       "    </tr>\n",
       "  </tbody>\n",
       "</table>\n",
       "</div>"
      ],
      "text/plain": [
       "    농장    당도  수분함유량\n",
       "0  농장A  35.2   16.3\n",
       "1  농장A   8.9    6.5\n",
       "2  농장B   8.4   44.5\n",
       "3  농장C  27.4   20.1\n",
       "4  농장D  24.0   25.2"
      ]
     },
     "execution_count": 3,
     "metadata": {},
     "output_type": "execute_result"
    }
   ],
   "source": [
    "fruit_df.drop('등급(정답)', axis=1)"
   ]
  },
  {
   "cell_type": "markdown",
   "metadata": {
    "colab_type": "text",
    "id": "yRLRxLrZkjEY"
   },
   "source": [
    "컴퓨터가 봐도 마찬가지입니다. 컴퓨터는 비만이 무엇인지, 과육이 무엇인지 모르는 고철덩어리이기 때문에 정확하게 1등급인지 2등급인지 3등급인지, 비만인지 정상인지 맞춰야하는 문제라면 반드시 미리 정답도 함께 알려줘야만 합니다. 컴퓨터가 아무리 똑똑해도 정확하게 분류하는 문제의 경우는 반드시 정답이 포함된 데이터 셋을 줘야만 풀 수 있습니다. (여러분이 위처럼 정답 열이 없는 문제는 푸는게 거의 불가능 한 것과 마찬가지 입니다.) 또, 신경써야 할 부분이 있습니다. 아래의 예시도 봅시다."
   ]
  },
  {
   "cell_type": "markdown",
   "metadata": {
    "colab_type": "text",
    "id": "iQ9zTqQtlCxi"
   },
   "source": [
    "#### 1-4) 잘못된 비만 분류 예제 (분류 불가능한 데이터)"
   ]
  },
  {
   "cell_type": "code",
   "execution_count": 4,
   "metadata": {
    "colab": {
     "base_uri": "https://localhost:8080/",
     "height": 314
    },
    "colab_type": "code",
    "executionInfo": {
     "elapsed": 780,
     "status": "ok",
     "timestamp": 1594569496240,
     "user": {
      "displayName": "고현웅",
      "photoUrl": "",
      "userId": "01574346278563741173"
     },
     "user_tz": -540
    },
    "id": "4sLdgd6VkaWI",
    "outputId": "435bd1b0-d6f8-4928-8d23-734820a0f0de"
   },
   "outputs": [
    {
     "data": {
      "text/html": [
       "<div>\n",
       "<style scoped>\n",
       "    .dataframe tbody tr th:only-of-type {\n",
       "        vertical-align: middle;\n",
       "    }\n",
       "\n",
       "    .dataframe tbody tr th {\n",
       "        vertical-align: top;\n",
       "    }\n",
       "\n",
       "    .dataframe thead th {\n",
       "        text-align: right;\n",
       "    }\n",
       "</style>\n",
       "<table border=\"1\" class=\"dataframe\">\n",
       "  <thead>\n",
       "    <tr style=\"text-align: right;\">\n",
       "      <th></th>\n",
       "      <th>이름</th>\n",
       "      <th>신장</th>\n",
       "      <th>몸무게</th>\n",
       "      <th>비만(정답)</th>\n",
       "    </tr>\n",
       "  </thead>\n",
       "  <tbody>\n",
       "    <tr>\n",
       "      <th>0</th>\n",
       "      <td>이수근</td>\n",
       "      <td>165</td>\n",
       "      <td>64</td>\n",
       "      <td>비만</td>\n",
       "    </tr>\n",
       "    <tr>\n",
       "      <th>1</th>\n",
       "      <td>김병만</td>\n",
       "      <td>165</td>\n",
       "      <td>61</td>\n",
       "      <td>정상</td>\n",
       "    </tr>\n",
       "    <tr>\n",
       "      <th>2</th>\n",
       "      <td>오나미</td>\n",
       "      <td>155</td>\n",
       "      <td>50</td>\n",
       "      <td>비만</td>\n",
       "    </tr>\n",
       "    <tr>\n",
       "      <th>3</th>\n",
       "      <td>박나래</td>\n",
       "      <td>150</td>\n",
       "      <td>50</td>\n",
       "      <td>정상</td>\n",
       "    </tr>\n",
       "    <tr>\n",
       "      <th>4</th>\n",
       "      <td>윤미래</td>\n",
       "      <td>162</td>\n",
       "      <td>60</td>\n",
       "      <td>정상</td>\n",
       "    </tr>\n",
       "    <tr>\n",
       "      <th>5</th>\n",
       "      <td>김다미</td>\n",
       "      <td>157</td>\n",
       "      <td>52</td>\n",
       "      <td>정상</td>\n",
       "    </tr>\n",
       "    <tr>\n",
       "      <th>6</th>\n",
       "      <td>박수홍</td>\n",
       "      <td>175</td>\n",
       "      <td>70</td>\n",
       "      <td>비만</td>\n",
       "    </tr>\n",
       "    <tr>\n",
       "      <th>7</th>\n",
       "      <td>김국진</td>\n",
       "      <td>172</td>\n",
       "      <td>70</td>\n",
       "      <td>정상</td>\n",
       "    </tr>\n",
       "    <tr>\n",
       "      <th>8</th>\n",
       "      <td>김슬기</td>\n",
       "      <td>157</td>\n",
       "      <td>51</td>\n",
       "      <td>???</td>\n",
       "    </tr>\n",
       "  </tbody>\n",
       "</table>\n",
       "</div>"
      ],
      "text/plain": [
       "    이름   신장  몸무게 비만(정답)\n",
       "0  이수근  165   64     비만\n",
       "1  김병만  165   61     정상\n",
       "2  오나미  155   50     비만\n",
       "3  박나래  150   50     정상\n",
       "4  윤미래  162   60     정상\n",
       "5  김다미  157   52     정상\n",
       "6  박수홍  175   70     비만\n",
       "7  김국진  172   70     정상\n",
       "8  김슬기  157   51    ???"
      ]
     },
     "execution_count": 4,
     "metadata": {},
     "output_type": "execute_result"
    }
   ],
   "source": [
    "wrong_weight_df = pd.DataFrame(\n",
    "    columns=['이름', '신장' , '몸무게', '비만(정답)'],\n",
    "\n",
    "    data=[['이수근', 165, 64, '비만'],\n",
    "          ['김병만', 165, 61, '정상'],\n",
    "          ['오나미', 155, 50, '비만'],     \n",
    "          ['박나래', 150, 50, '정상'],\n",
    "          ['윤미래', 162, 60, '정상'],     \n",
    "          ['김다미', 157, 52, '정상'],     \n",
    "          ['박수홍', 175, 70, '비만'],     \n",
    "          ['김국진', 172, 70, '정상'],     \n",
    "          ['김슬기', 157, 51, '???']]\n",
    ")\n",
    "\n",
    "wrong_weight_df.head(10)"
   ]
  },
  {
   "cell_type": "markdown",
   "metadata": {
    "colab_type": "text",
    "id": "Ra9O-Gtgla2x"
   },
   "source": [
    "컴퓨터에게 어떤 걸 구분시키려면 그 데이터 클래스 간의 구분이 확실하게 되어야합니다. 우리가 컴퓨터의 입장이 된다고 생각해봅시다. 위와 같은 문제는 컴퓨터도 찍을 수 밖에 없습니다. (정확도는 당연히 기대할 수 없겠죠?) 나중에 더 자세히 말하겠지만 컴퓨터가 분류(Classification) 문제를 보면 아래처럼 학습합니다.\n",
    "\n",
    "![image](https://user-images.githubusercontent.com/38183241/83531750-50bc1600-a528-11ea-877a-ccf5d6f2d0b7.png)\n",
    "\n",
    "데이터들을 잘 보고, 구분 될만한 곳에 선을 긋는 것입니다. 그래서 선 왼쪽으로는 비만, 선 오른쪽으로는 정상으로 보는 것입니다. 실제로 구분이 잘 되는 데이터와 안되는 데이터를 비교해봅시다.\n"
   ]
  },
  {
   "cell_type": "code",
   "execution_count": 5,
   "metadata": {
    "colab": {},
    "colab_type": "code",
    "executionInfo": {
     "elapsed": 791,
     "status": "ok",
     "timestamp": 1594569314793,
     "user": {
      "displayName": "고현웅",
      "photoUrl": "",
      "userId": "01574346278563741173"
     },
     "user_tz": -540
    },
    "id": "oTXaffQoqsy8"
   },
   "outputs": [],
   "source": [
    "from matplotlib import pyplot as plt\n",
    "\n",
    "\n",
    "def draw_graph(data, boundary, title):\n",
    "  \"\"\"\n",
    "  정상과 비만 데이터를 그래프로 표시하는 함수입니다.\n",
    "\n",
    "  :param data: 표시할 데이터프레임\n",
    "  :param boundary: 데이터 클래스를 구분하는 선\n",
    "  \"\"\"\n",
    "\n",
    "  normal_people = data[data['비만(정답)']=='정상']\n",
    "  fat_people = data[data['비만(정답)'] == '비만']\n",
    "  qeury_person = data[data['비만(정답)'] == '???']\n",
    "\n",
    "  plt.scatter(normal_people['신장'], normal_people['몸무게'], label='normal') \n",
    "  # 정상 데이터\n",
    "  plt.scatter(fat_people['신장'], fat_people['몸무게'], label='fat') \n",
    "  # 비만 데이터\n",
    "  plt.scatter(qeury_person['신장'], qeury_person['몸무게'], label='question') \n",
    "  # 쿼리 데이터 (맞출 문제)\n",
    "  plt.plot(*boundary) \n",
    "  # 데이터 클래스를 구분할 수 있는 선\n",
    "\n",
    "  plt.title(title)\n",
    "  plt.xlabel('height')\n",
    "  plt.ylabel('weight')\n",
    "  plt.legend(loc='lower right')\n",
    "  plt.show()\n",
    "  plt.close()"
   ]
  },
  {
   "cell_type": "code",
   "execution_count": 6,
   "metadata": {
    "colab": {
     "base_uri": "https://localhost:8080/",
     "height": 284
    },
    "colab_type": "code",
    "executionInfo": {
     "elapsed": 809,
     "status": "ok",
     "timestamp": 1594569335949,
     "user": {
      "displayName": "고현웅",
      "photoUrl": "",
      "userId": "01574346278563741173"
     },
     "user_tz": -540
    },
    "id": "bkM0gkDjpexX",
    "outputId": "0482d699-6f96-48bf-cef3-6399fbdd47a3"
   },
   "outputs": [
    {
     "data": {
      "text/html": [
       "<div>\n",
       "<style scoped>\n",
       "    .dataframe tbody tr th:only-of-type {\n",
       "        vertical-align: middle;\n",
       "    }\n",
       "\n",
       "    .dataframe tbody tr th {\n",
       "        vertical-align: top;\n",
       "    }\n",
       "\n",
       "    .dataframe thead th {\n",
       "        text-align: right;\n",
       "    }\n",
       "</style>\n",
       "<table border=\"1\" class=\"dataframe\">\n",
       "  <thead>\n",
       "    <tr style=\"text-align: right;\">\n",
       "      <th></th>\n",
       "      <th>이름</th>\n",
       "      <th>신장</th>\n",
       "      <th>몸무게</th>\n",
       "      <th>비만(정답)</th>\n",
       "    </tr>\n",
       "  </thead>\n",
       "  <tbody>\n",
       "    <tr>\n",
       "      <th>0</th>\n",
       "      <td>도람푸</td>\n",
       "      <td>177</td>\n",
       "      <td>76</td>\n",
       "      <td>정상</td>\n",
       "    </tr>\n",
       "    <tr>\n",
       "      <th>1</th>\n",
       "      <td>핵정은</td>\n",
       "      <td>165</td>\n",
       "      <td>85</td>\n",
       "      <td>비만</td>\n",
       "    </tr>\n",
       "    <tr>\n",
       "      <th>2</th>\n",
       "      <td>김병만</td>\n",
       "      <td>165</td>\n",
       "      <td>61</td>\n",
       "      <td>정상</td>\n",
       "    </tr>\n",
       "    <tr>\n",
       "      <th>3</th>\n",
       "      <td>김준현</td>\n",
       "      <td>180</td>\n",
       "      <td>105</td>\n",
       "      <td>비만</td>\n",
       "    </tr>\n",
       "    <tr>\n",
       "      <th>4</th>\n",
       "      <td>오지헌</td>\n",
       "      <td>178</td>\n",
       "      <td>72</td>\n",
       "      <td>정상</td>\n",
       "    </tr>\n",
       "    <tr>\n",
       "      <th>5</th>\n",
       "      <td>유재석</td>\n",
       "      <td>176</td>\n",
       "      <td>71</td>\n",
       "      <td>정상</td>\n",
       "    </tr>\n",
       "    <tr>\n",
       "      <th>6</th>\n",
       "      <td>유민상</td>\n",
       "      <td>180</td>\n",
       "      <td>110</td>\n",
       "      <td>비만</td>\n",
       "    </tr>\n",
       "    <tr>\n",
       "      <th>7</th>\n",
       "      <td>나비만</td>\n",
       "      <td>168</td>\n",
       "      <td>83</td>\n",
       "      <td>???</td>\n",
       "    </tr>\n",
       "  </tbody>\n",
       "</table>\n",
       "</div>"
      ],
      "text/plain": [
       "    이름   신장  몸무게 비만(정답)\n",
       "0  도람푸  177   76     정상\n",
       "1  핵정은  165   85     비만\n",
       "2  김병만  165   61     정상\n",
       "3  김준현  180  105     비만\n",
       "4  오지헌  178   72     정상\n",
       "5  유재석  176   71     정상\n",
       "6  유민상  180  110     비만\n",
       "7  나비만  168   83    ???"
      ]
     },
     "execution_count": 6,
     "metadata": {},
     "output_type": "execute_result"
    }
   ],
   "source": [
    "# 구분이 가능한 데이터입니다.\n",
    "weight_df.head(10)"
   ]
  },
  {
   "cell_type": "code",
   "execution_count": 7,
   "metadata": {
    "colab": {
     "base_uri": "https://localhost:8080/",
     "height": 295
    },
    "colab_type": "code",
    "executionInfo": {
     "elapsed": 934,
     "status": "ok",
     "timestamp": 1594569317148,
     "user": {
      "displayName": "고현웅",
      "photoUrl": "",
      "userId": "01574346278563741173"
     },
     "user_tz": -540
    },
    "id": "ydgKeCFgl8Xj",
    "outputId": "726e9008-dda7-4d6b-ef08-9f25f249a146"
   },
   "outputs": [
    {
     "data": {
      "image/png": "[encoded data removed]",
      "text/plain": [
       "<Figure size 432x288 with 1 Axes>"
      ]
     },
     "metadata": {
      "needs_background": "light"
     },
     "output_type": "display_data"
    }
   ],
   "source": [
    "# 구분이 가능한 데이터입니다.\n",
    "draw_graph(weight_df, ([160, 185], [70, 90]), title='Proper Dataset')"
   ]
  },
  {
   "cell_type": "markdown",
   "metadata": {
    "colab_type": "text",
    "id": "ewO6c5j3rlok"
   },
   "source": [
    "위와 같은 데이터는 두 클래스를 나눌 수 있는 구분선이 분명해 보입니다. 그러면 우리가 머신러닝 모델을 만들 때, 저 선을 찾아내면 성공적으로 비만 분류 모델을 만들어낼 수 있습니다. 녹색으로 표시된 7번 나비만은 선보다 위쪽에 있기 때문에 비만으로 분류해낼 수 있습니다. 그러나 아래와 같은 데이터는 어떨까요?"
   ]
  },
  {
   "cell_type": "code",
   "execution_count": 8,
   "metadata": {
    "colab": {
     "base_uri": "https://localhost:8080/",
     "height": 314
    },
    "colab_type": "code",
    "executionInfo": {
     "elapsed": 773,
     "status": "ok",
     "timestamp": 1594569502321,
     "user": {
      "displayName": "고현웅",
      "photoUrl": "",
      "userId": "01574346278563741173"
     },
     "user_tz": -540
    },
    "id": "HIcVpk_Mqfns",
    "outputId": "34b82db4-4cad-4c4e-b863-2abaa3887036"
   },
   "outputs": [
    {
     "data": {
      "text/html": [
       "<div>\n",
       "<style scoped>\n",
       "    .dataframe tbody tr th:only-of-type {\n",
       "        vertical-align: middle;\n",
       "    }\n",
       "\n",
       "    .dataframe tbody tr th {\n",
       "        vertical-align: top;\n",
       "    }\n",
       "\n",
       "    .dataframe thead th {\n",
       "        text-align: right;\n",
       "    }\n",
       "</style>\n",
       "<table border=\"1\" class=\"dataframe\">\n",
       "  <thead>\n",
       "    <tr style=\"text-align: right;\">\n",
       "      <th></th>\n",
       "      <th>이름</th>\n",
       "      <th>신장</th>\n",
       "      <th>몸무게</th>\n",
       "      <th>비만(정답)</th>\n",
       "    </tr>\n",
       "  </thead>\n",
       "  <tbody>\n",
       "    <tr>\n",
       "      <th>0</th>\n",
       "      <td>이수근</td>\n",
       "      <td>165</td>\n",
       "      <td>64</td>\n",
       "      <td>비만</td>\n",
       "    </tr>\n",
       "    <tr>\n",
       "      <th>1</th>\n",
       "      <td>김병만</td>\n",
       "      <td>165</td>\n",
       "      <td>61</td>\n",
       "      <td>정상</td>\n",
       "    </tr>\n",
       "    <tr>\n",
       "      <th>2</th>\n",
       "      <td>오나미</td>\n",
       "      <td>155</td>\n",
       "      <td>50</td>\n",
       "      <td>비만</td>\n",
       "    </tr>\n",
       "    <tr>\n",
       "      <th>3</th>\n",
       "      <td>박나래</td>\n",
       "      <td>150</td>\n",
       "      <td>50</td>\n",
       "      <td>정상</td>\n",
       "    </tr>\n",
       "    <tr>\n",
       "      <th>4</th>\n",
       "      <td>윤미래</td>\n",
       "      <td>162</td>\n",
       "      <td>60</td>\n",
       "      <td>정상</td>\n",
       "    </tr>\n",
       "    <tr>\n",
       "      <th>5</th>\n",
       "      <td>김다미</td>\n",
       "      <td>157</td>\n",
       "      <td>52</td>\n",
       "      <td>정상</td>\n",
       "    </tr>\n",
       "    <tr>\n",
       "      <th>6</th>\n",
       "      <td>박수홍</td>\n",
       "      <td>175</td>\n",
       "      <td>70</td>\n",
       "      <td>비만</td>\n",
       "    </tr>\n",
       "    <tr>\n",
       "      <th>7</th>\n",
       "      <td>김국진</td>\n",
       "      <td>172</td>\n",
       "      <td>70</td>\n",
       "      <td>정상</td>\n",
       "    </tr>\n",
       "    <tr>\n",
       "      <th>8</th>\n",
       "      <td>김슬기</td>\n",
       "      <td>157</td>\n",
       "      <td>51</td>\n",
       "      <td>???</td>\n",
       "    </tr>\n",
       "  </tbody>\n",
       "</table>\n",
       "</div>"
      ],
      "text/plain": [
       "    이름   신장  몸무게 비만(정답)\n",
       "0  이수근  165   64     비만\n",
       "1  김병만  165   61     정상\n",
       "2  오나미  155   50     비만\n",
       "3  박나래  150   50     정상\n",
       "4  윤미래  162   60     정상\n",
       "5  김다미  157   52     정상\n",
       "6  박수홍  175   70     비만\n",
       "7  김국진  172   70     정상\n",
       "8  김슬기  157   51    ???"
      ]
     },
     "execution_count": 8,
     "metadata": {},
     "output_type": "execute_result"
    }
   ],
   "source": [
    "# 구분이 불가능한 데이터입니다.\n",
    "wrong_weight_df.head(10)"
   ]
  },
  {
   "cell_type": "code",
   "execution_count": 9,
   "metadata": {
    "colab": {
     "base_uri": "https://localhost:8080/",
     "height": 295
    },
    "colab_type": "code",
    "executionInfo": {
     "elapsed": 807,
     "status": "ok",
     "timestamp": 1594569504223,
     "user": {
      "displayName": "고현웅",
      "photoUrl": "",
      "userId": "01574346278563741173"
     },
     "user_tz": -540
    },
    "id": "z20G1Trgqngi",
    "outputId": "c38fa1ca-a64a-4e41-ef24-ebe0063082e5"
   },
   "outputs": [
    {
     "data": {
      "image/png": "[encoded data removed]",
      "text/plain": [
       "<Figure size 432x288 with 1 Axes>"
      ]
     },
     "metadata": {
      "needs_background": "light"
     },
     "output_type": "display_data"
    }
   ],
   "source": [
    "# 구분이 불가능한 데이터입니다.\n",
    "draw_graph(wrong_weight_df, (), title='Wrong Dataset')"
   ]
  },
  {
   "cell_type": "markdown",
   "metadata": {
    "colab_type": "text",
    "id": "oxeWRXA3ubDt"
   },
   "source": [
    "만약 위와 같은 데이터가 주어진다면 선을 어떻게 그을 수 있을까요? 선을 어디에 그어도 높은 정확도를 얻기 어렵습니다. 우리는 8번 김슬기를 과연 비만으로 분류해야할까요? 아니면 정상으로 분류해야할까요?\n",
    "\n",
    "\n",
    "이전 글에서 머신러닝이 굉장히 만능인 것 처럼 묘사했지만, 머신러닝은 만능이 아닙니다. 매우 잘 정제된 데이터가 있어야만 머신러닝은 잘 동작합니다. 모델의 성능보다 데이터의 양과 질이 훨씬 중요하다고 할 수 있습니다. 작년 프로젝트 때 분류가 안되는 데이터를 분류하고 싶다는 분들이 너무 많으셨고, 프로젝트 막판쯤 가서 아이디어 바꾸고 고생하시고 그랬는데 올해는 그런 일이 없었으면 좋겠습니다."
   ]
  },
  {
   "cell_type": "markdown",
   "metadata": {
    "colab_type": "text",
    "id": "0WILxUnhSkM-"
   },
   "source": [
    "### 2) 회귀 (Regression)\n",
    "\n",
    "회귀라고 하니까 뭔가 굉장히 어려워 보이지만 실은 하나도 그렇지 않습니다. 분류는 정답 클래스가 확실하게 구분된 경우에 해당합니다. 회귀는 지도학습으로 정답은 주어지지만, 정답 클래스가 정확하게 구분되지 않는 경우를 의미합니다.\n",
    "\n",
    "#### 2-1) 집의 가격 회귀 예시"
   ]
  }
 ],
 "metadata": {
  "colab": {
   "authorship_tag": "ABX9TyMWmd4+9quz0tXD3xn4UWzB",
   "collapsed_sections": [],
   "name": "03-머신러닝의 분류.ipynb",
   "provenance": []
  },
  "kernelspec": {
   "display_name": "Python 3",
   "language": "python",
   "name": "python3"
  },
  "language_info": {
   "codemirror_mode": {
    "name": "ipython",
    "version": 3
   },
   "file_extension": ".py",
   "mimetype": "text/x-python",
   "name": "python",
   "nbconvert_exporter": "python",
   "pygments_lexer": "ipython3",
   "version": "3.6.7"
  }
 },
 "nbformat": 4,
 "nbformat_minor": 1
}
