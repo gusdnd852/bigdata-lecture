{
 "cells": [
  {
   "cell_type": "markdown",
   "metadata": {},
   "source": [
    "# 01. 모델 평가방법 및 오버피팅\n",
    "> 머신러닝 모델을 평가하는 방법과 오버피팅에 대해 알아봅시다.\n",
    "\n",
    "- toc: true \n",
    "- badges: true\n",
    "- comments: true\n",
    "- categories: [Day 5]\n",
    "- permalink: /evaluation_and_overfitting\n",
    "- exec: colab"
   ]
  },
  {
   "cell_type": "markdown",
   "metadata": {},
   "source": [
    "<br><br>\n",
    "\n",
    "### 1. 모델 평가방법과 오버피팅이란?\n",
    "![](https://github.com/gusdnd852/bigdata-lecture/blob/master/_notebooks/img/Day5/bao_0.png?raw=true)\n",
    "\n",
    "지난 시간까지 우리는 다양한 모델에 대해 학습하였고 모델의 결과물에 대해 Accuracy를 사용하여 평가하였습니다. 하지만 정말 모든 경우에서 Accuracy를 사용하는 것이 정답일까요?<br><br>\n",
    "\n",
    "이번 시간에는 Accuracy를 비롯한 Precision, Recall, F1 Score등의 모델 평가방법에 대해 알아보고 오버피팅이 무엇인지에 대해 학습하도록 하겠습니다.<br><br>"
   ]
  },
  {
   "cell_type": "markdown",
   "metadata": {},
   "source": [
    "### 2. Accuracy\n",
    "\n",
    "Accuracy는 모델이 예측하여 맞은 개수를 전체 개수로 나눈 값입니다. 예를 들어, 양성과 음성이 각각 500명인 질병 환자에 대해 감염 여부를 예측하는 모델을 실행하였을때 아래와 같은 결과가 나왔다고 가정해봅시다.\n",
    "\n",
    "- 예측 #1"
   ]
  },
  {
   "cell_type": "code",
   "execution_count": 9,
   "metadata": {},
   "outputs": [
    {
     "data": {
      "text/html": [
       "<div>\n",
       "<style scoped>\n",
       "    .dataframe tbody tr th:only-of-type {\n",
       "        vertical-align: middle;\n",
       "    }\n",
       "\n",
       "    .dataframe tbody tr th {\n",
       "        vertical-align: top;\n",
       "    }\n",
       "\n",
       "    .dataframe thead th {\n",
       "        text-align: right;\n",
       "    }\n",
       "</style>\n",
       "<table border=\"1\" class=\"dataframe\">\n",
       "  <thead>\n",
       "    <tr style=\"text-align: right;\">\n",
       "      <th></th>\n",
       "      <th>음성(예측)</th>\n",
       "      <th>양성(예측)</th>\n",
       "    </tr>\n",
       "  </thead>\n",
       "  <tbody>\n",
       "    <tr>\n",
       "      <th>음성(실제)</th>\n",
       "      <td>390</td>\n",
       "      <td>110</td>\n",
       "    </tr>\n",
       "    <tr>\n",
       "      <th>양성(실제)</th>\n",
       "      <td>10</td>\n",
       "      <td>490</td>\n",
       "    </tr>\n",
       "  </tbody>\n",
       "</table>\n",
       "</div>"
      ],
      "text/plain": [
       "        음성(예측)  양성(예측)\n",
       "음성(실제)     390     110\n",
       "양성(실제)      10     490"
      ]
     },
     "execution_count": 9,
     "metadata": {},
     "output_type": "execute_result"
    }
   ],
   "source": [
    "#collapse-hide\n",
    "import pandas as pd\n",
    "\n",
    "case1_df = pd.DataFrame(\n",
    "    columns=['음성(예측)', '양성(예측)'],\n",
    "    index=['음성(실제)', '양성(실제)'],\n",
    "    data=[[390, 110],\n",
    "          [10, 490]]\n",
    ")\n",
    "\n",
    "case1_df.head(2)"
   ]
  },
  {
   "cell_type": "markdown",
   "metadata": {},
   "source": [
    "실제로는 음성 500명, 양성 500명이지만 모델은 양성 400명, 음성 600명으로 예측하였고, Accuracy는 (390+490)/1000 = 0.88이 됩니다. 잘 평가된 것 같습니다. 하지만 다음과 같은 경우는 어떨까요?\n",
    "<br><br>\n",
    "\n",
    "- 예측 #2"
   ]
  },
  {
   "cell_type": "code",
   "execution_count": 7,
   "metadata": {},
   "outputs": [
    {
     "data": {
      "text/html": [
       "<div>\n",
       "<style scoped>\n",
       "    .dataframe tbody tr th:only-of-type {\n",
       "        vertical-align: middle;\n",
       "    }\n",
       "\n",
       "    .dataframe tbody tr th {\n",
       "        vertical-align: top;\n",
       "    }\n",
       "\n",
       "    .dataframe thead th {\n",
       "        text-align: right;\n",
       "    }\n",
       "</style>\n",
       "<table border=\"1\" class=\"dataframe\">\n",
       "  <thead>\n",
       "    <tr style=\"text-align: right;\">\n",
       "      <th></th>\n",
       "      <th>음성(예측)</th>\n",
       "      <th>양성(예측)</th>\n",
       "    </tr>\n",
       "  </thead>\n",
       "  <tbody>\n",
       "    <tr>\n",
       "      <th>음성(실제)</th>\n",
       "      <td>900</td>\n",
       "      <td>0</td>\n",
       "    </tr>\n",
       "    <tr>\n",
       "      <th>양성(실제)</th>\n",
       "      <td>100</td>\n",
       "      <td>0</td>\n",
       "    </tr>\n",
       "  </tbody>\n",
       "</table>\n",
       "</div>"
      ],
      "text/plain": [
       "        음성(예측)  양성(예측)\n",
       "음성(실제)     900       0\n",
       "양성(실제)     100       0"
      ]
     },
     "execution_count": 7,
     "metadata": {},
     "output_type": "execute_result"
    }
   ],
   "source": [
    "#collapse-hide\n",
    "import pandas as pd\n",
    "\n",
    "case2_df= pd.DataFrame(\n",
    "    columns=['음성(예측)', '양성(예측)'],\n",
    "    index=['음성(실제)', '양성(실제)'],\n",
    "    data=[[900, 0],\n",
    "          [100, 0]]\n",
    ")\n",
    "\n",
    "case2_df.head(2)"
   ]
  },
  {
   "cell_type": "markdown",
   "metadata": {},
   "source": [
    "동일하게 1000명을 대상으로 예측을 진행했지만, 이번에는 실제 양성의 수가 100명, 음성의 수가 900명입니다. 모델의 예측 결과는 1000명 모두 음성으로 판단하였기 때문에 Accuracy는 900/1000 = 0.90이 됩니다. 이 모델은 정말 병을 검출할 수 있는 능력이 있는 것일까요? <br><br>\n",
    "\n",
    "두번째 모델은 전체 1000명의 환자 중에 실제로 100명은 양성반응을 보이는데, 단 한명도 잡아내지 못했지만 정확도는 0.9를 기록했습니다. 심지어 두 번째 예측이 첫 번째 예측보다 0.02 높은 Accuracy를 기록했으므로 Accuracy에 기반하여 판단한다면 두 번째 모델이 더 좋은 모델이라고 판단할 수 있겠습니다. <br><br>\n",
    "\n",
    "하지만, 두 번째 예측은 양성을 단 한명도 예측해내지 못했습니다. 양성을 단 한명도 예측하지 못하는 모델이 Accuracy가 높다는 것만을 이유로 더 좋다고 판단하는 것이 옳은 선택일까요? 이처럼 **불균형한(Imbalanced) 데이터에서는 Accuracy를 사용할 경우 잘못된 성능 예측 결과를 가져올 수 있음**을 꼭 기억해야 합니다. 따라서 분류문제의 경우 Accuracy의 문제를 해결하기 위해 Precision, Recall과 이를 이용한 F1 Score 등을 주로 사용하는 편입니다. 이에 대해 알아봅시다. <br><br>"
   ]
  },
  {
   "cell_type": "markdown",
   "metadata": {},
   "source": [
    "### 3. Precision"
   ]
  },
  {
   "cell_type": "markdown",
   "metadata": {},
   "source": [
    "Precision은 모델이 True라고 분류한 항목에서 실제 True인 것의 비율로, **모델의 예측 관점**에서 보는 평가 방법입니다.\n",
    "\n",
    "![](https://github.com/gusdnd852/bigdata-lecture/blob/master/_notebooks/img/Day5/precision.png?raw=true)\n",
    "\n",
    "두 번째 모델을 이용하여 Precision을 계산해보도록 하겠습니다. 모델이 양성이라고 분류한 항목의 합은 0입니다. 그러므로 Precision(양성)=0입니다. 모델이 음성이라고 분류한 항목의 합은 1000이고, 실제 음성은 900입니다. 그러므로 Precision(음성)=900/(900+100) = 0.90입니다. 즉, **양성이라고 예측한 것은 0%이고, 음성이라고 예측한 것은 90%로 맞았다고 이해하시면 그 것이 Precision의 개념**입니다.<br><br>\n",
    "\n",
    "이제 두 Presicion의 평균을 구하면 두 번째 모델의 Presicion을 알아낼 수 있습니다. 모든 항목의 Presicion을 더하고 항목의 개수만큼 나눠주면 됩니다. 두 번째 모델의 Precision은 (0 + 0.9) / 2 = 0.45입니다. 실제로 이 모델의 성능은 이정도로 형편없다고 봐야합니다.<br><br>"
   ]
  },
  {
   "cell_type": "markdown",
   "metadata": {},
   "source": [
    "### 4. Recall"
   ]
  },
  {
   "cell_type": "markdown",
   "metadata": {},
   "source": [
    "Recall은 실제 True인 항목에서 모델이 True라고 예측한 것의 비율로, **데이터 관점**에서 보는 평가 방법입니다.\n",
    "\n",
    "![](https://github.com/gusdnd852/bigdata-lecture/blob/master/_notebooks/img/Day5/recall.png?raw=true)\n",
    "\n",
    "마찬가지로 두 번째 모델을 이용하여 Recall을 계산해 보겠습니다. 실제 양성인 항목에서 모델이 양성으로 예측한 값은 0, 음성으로 예측한 값은 100 입니다. 그러므로 Recall(양성) = 0/100 = 0입니다. 실제 음성인 항목에서 모델이 음성으로 예측한 값은 900, 양성으로 예측한 값은 0 입니다. 그러므로 Recall(Neg) = 900/900 = 1입니다. 즉, **실제로 음성인 데이터는 다 맞췄지만, 실제로 양성인 데이터는 하나도 못 맞춘 것이라고 생각하시면 그 것이 Recall의 개념**입니다. <br><br>\n",
    "\n",
    "두 Recall의 평균을 구하면 두 번째 모델의 Recall을 알아낼 수 있습니다. Presicion과 마찬가지로 모든 Recall을 더하고 항목의 개수로 나눠주면 됩니다. 두 번째 모델의 Recall은 (0 + 1) / 2 = 0.5입니다.<br><br>"
   ]
  },
  {
   "cell_type": "markdown",
   "metadata": {},
   "source": [
    "### 5. F1 Score"
   ]
  },
  {
   "cell_type": "markdown",
   "metadata": {},
   "source": [
    "앞서 구한 Presicion과 Recall을 이용하여 F1 Score를 계산할 수 있습니다. F1 Score를 구하는 식은 다음과 같습니다. \n",
    "\n",
    "<br>\n",
    "$$2 \\times \\frac{Presicion \\times Recall}{Presicion + Recall}$$\n",
    "<br>\n",
    "\n",
    "이를 이용하여 두 번째 모델의 F1 Score를 계산하면 2 * (0.45 * 0.5) / (0.45 + 0.5) = 0.473입니다. 이로써 두 번째 모델의 제대로 된 평가가 끝났습니다. Accuracy는 0.90이 나왔지만, F1 Score는 0.473이 나왔습니다. 이 모델의 Accuracy만 믿고 사용했다면 부정확한 예측를 대량으로 만들어버리는 좋지 못한 결과를 초래하였을 겁니다. 이를 방지하기 위해서는 Accuracy 이외에도 Precision, Recall, F1 Score를 이용한 평가를 진행하여 모델의 성능을 정확하게 알아내야 합니다. <br><br>"
   ]
  },
  {
   "cell_type": "markdown",
   "metadata": {},
   "source": [
    "### 6. sklearn에서 사용하는 방법\n",
    "\n",
    "저는 이미 이전 코드들에서 이러한 평가 기법을 사용해왔지만 제가 여러분에게 설명드리지 않았습니다. 정확도의 경우에는 `from sklearn.metrics import accuracy_score`로 계산할 수 있고, 나머지 요소의 경우 `from sklearn.metrics import XXXX_score`와 같이 import 할 수 있습니다."
   ]
  },
  {
   "cell_type": "code",
   "execution_count": 66,
   "metadata": {},
   "outputs": [
    {
     "name": "stdout",
     "output_type": "stream",
     "text": [
      "accuracy :  0.7368421052631579\n",
      "precision :  0.7444444444444445\n",
      "recall :  0.5833333333333334\n",
      "f1_score :  0.6153846153846153\n"
     ]
    }
   ],
   "source": [
    "from sklearn.metrics import accuracy_score\n",
    "from sklearn.metrics import precision_score\n",
    "from sklearn.metrics import recall_score\n",
    "from sklearn.metrics import f1_score\n",
    "\n",
    "label = [0, 0, 0, 0, 0, 0, 0, 0, 0, 0, 0, 1, 1, 1, 1, 2, 2, 2, 2]\n",
    "predict = [0, 0, 0, 0, 0, 0, 0, 0, 0, 0, 0, 0, 0, 0, 1, 1, 2, 2, 0]\n",
    "\n",
    "print('accuracy : ', accuracy_score(label, predict))\n",
    "print('precision : ', precision_score(label, predict, average='macro'))\n",
    "print('recall : ', recall_score(label, predict, average='macro'))\n",
    "print('f1_score : ', f1_score(label, predict, average='macro'))"
   ]
  },
  {
   "cell_type": "markdown",
   "metadata": {},
   "source": [
    "이렇게 평가하면 평가하는 코드가 너무 길어지게 됩니다. 따라서 저는 이를 아주 간단하게 표현하는 `from sklearn.metrics import classification_report`를 자주 사용합니다."
   ]
  },
  {
   "cell_type": "code",
   "execution_count": 67,
   "metadata": {},
   "outputs": [
    {
     "name": "stdout",
     "output_type": "stream",
     "text": [
      "              precision    recall  f1-score   support\n",
      "\n",
      "           0       0.73      1.00      0.85        11\n",
      "           1       0.50      0.25      0.33         4\n",
      "           2       1.00      0.50      0.67         4\n",
      "\n",
      "    accuracy                           0.74        19\n",
      "   macro avg       0.74      0.58      0.62        19\n",
      "weighted avg       0.74      0.74      0.70        19\n",
      "\n"
     ]
    }
   ],
   "source": [
    "from sklearn.metrics import accuracy_score\n",
    "from sklearn.metrics import classification_report\n",
    "\n",
    "label = [0, 0, 0, 0, 0, 0, 0, 0, 0, 0, 0, 1, 1, 1, 1, 2, 2, 2, 2]\n",
    "predict = [0, 0, 0, 0, 0, 0, 0, 0, 0, 0, 0, 0, 0, 0, 1, 1, 2, 2, 0]\n",
    "\n",
    "print(classification_report(label, predict))"
   ]
  },
  {
   "cell_type": "markdown",
   "metadata": {},
   "source": [
    "위를 보시면 accuracy, macro avg, weighted avg가 있는데, accuracy는 정확도이고, macro avg는 제가 위에서 설명한 방식대로 계산한 precision, recall, f1_score이고, weighted avg는 각 데이터의 숫자만큼 가중 시킨 값인데, **실제로는 macro avg로 평가하는 것이 가장 바람직합니다.** <br><br>\n",
    "\n",
    "weighted avg의 경우 imbalanced 데이터를 사용할 때에도 가중치를 곱해버려서 틀린 클래스의 imbalanced 했다면 거의 반영이 안됩니다. 가령 이전 예시처럼 1000명의 환자중 900명을 맞추고 100명이 틀렸다면 맞춘 900명에 가중치를 0.9를 주고, 틀린 100명에 가중치를 0.1을 주는데, 이렇게 하면 accuracy와 별반 다를게 없어집니다."
   ]
  },
  {
   "cell_type": "markdown",
   "metadata": {},
   "source": [
    "<br>\n",
    "\n",
    "### 7. Confusion Matrix (혼잡 행렬)\n",
    "\n",
    "혼잡행렬이라는 평가 기법도 있습니다. 이 것은 어떠한 정량적인 메트릭은 아니고, 정성적으로 눈으로 보면서 평가 할 수 있게 도와줍니다. 각 클래스별로 얼마나 맞췄는지에 대한 것으로 sklearn에서는 `from sklearn.metrics import confusion_matrix`를 이용하면 사용할 수 있습니다."
   ]
  },
  {
   "cell_type": "code",
   "execution_count": 68,
   "metadata": {},
   "outputs": [
    {
     "name": "stdout",
     "output_type": "stream",
     "text": [
      "[[11  0  0]\n",
      " [ 3  1  0]\n",
      " [ 1  1  2]]\n"
     ]
    }
   ],
   "source": [
    "from sklearn.metrics import accuracy_score\n",
    "from sklearn.metrics import confusion_matrix\n",
    "\n",
    "label = [0, 0, 0, 0, 0, 0, 0, 0, 0, 0, 0, 1, 1, 1, 1, 2, 2, 2, 2]\n",
    "predict = [0, 0, 0, 0, 0, 0, 0, 0, 0, 0, 0, 0, 0, 0, 1, 1, 2, 2, 0]\n",
    "\n",
    "print(confusion_matrix(label, predict))"
   ]
  },
  {
   "cell_type": "markdown",
   "metadata": {},
   "source": [
    "- 0번 클래스의 경우 11개중 11개를 0으로, 0개를 1로, 0개를 2로 예측하였습니다. \n",
    "- 1번 클래스의 경우 4개중 3개를 0으로, 1개를 1로, 0개를 2로 예측하였습니다.\n",
    "- 2번 클래스의 경우 1개를 0으로, 1개를 1로, 2개를 2로 예측하였습니다.\n",
    "\n",
    "이를 matplotlib이나 seaborn 등으로 시각화하면 아래처럼 예쁘게 시각화 할 수 있습니다."
   ]
  },
  {
   "cell_type": "code",
   "execution_count": 124,
   "metadata": {},
   "outputs": [
    {
     "data": {
      "text/plain": [
       "<matplotlib.axes._subplots.AxesSubplot at 0x227388f4390>"
      ]
     },
     "execution_count": 124,
     "metadata": {},
     "output_type": "execute_result"
    },
    {
     "data": {
      "image/png": "[encoded data removed]",
      "text/plain": [
       "<Figure size 432x360 with 2 Axes>"
      ]
     },
     "metadata": {},
     "output_type": "display_data"
    }
   ],
   "source": [
    "import seaborn as sns \n",
    "\n",
    "label = [0, 0, 0, 0, 0, 0, 0, 0, 0, 0, 0, 1, 1, 1, 1, 2, 2, 2, 2]\n",
    "predict = [0, 0, 0, 0, 0, 0, 0, 0, 0, 0, 0, 0, 0, 0, 1, 1, 2, 2, 0]\n",
    "cmatrix = confusion_matrix(label, predict)\n",
    "\n",
    "sns.set(rc={'figure.figsize':(6,5)})\n",
    "sns.heatmap(data=cmatrix, annot=True)"
   ]
  },
  {
   "cell_type": "code",
   "execution_count": 129,
   "metadata": {},
   "outputs": [],
   "source": [
    "import numpy as np\n",
    "from matplotlib import pyplot \n",
    "import itertools\n",
    "\n",
    "def draw_plt_matrix(cm: np.ndarray):\n",
    "        \"\"\"\n",
    "        metrics에서 출력된 confusion matrix을 시각화해서 그리고 저장합니다.\n",
    "\n",
    "        :param cm: confusion matrix 객체\n",
    "        \"\"\"\n",
    "        \n",
    "        label_length = len(cm[0])\n",
    "\n",
    "        cmap = plt.get_cmap('Blues')\n",
    "        cm = cm.astype('float') / cm.sum(axis=1)[:, np.newaxis]\n",
    "        plt.figure(figsize=(6, 5))\n",
    "        im = plt.imshow(cm, interpolation='nearest', cmap=cmap)\n",
    "        \n",
    "        tick_marks = np.arange(label_length)\n",
    "        plt.xticks(tick_marks)\n",
    "        plt.yticks(tick_marks)\n",
    "        \n",
    "        plt.colorbar(im, fraction=0.046, pad=0.04)\n",
    "        thresh = cm.max() / 1.5\n",
    "\n",
    "        for i, j in itertools.product(range(cm.shape[0]), range(cm.shape[1])):\n",
    "            plt.text(j, i, \"{:0.4f}\".format(cm[i, j]),\n",
    "                     horizontalalignment=\"center\",\n",
    "                     color=\"white\" if cm[i, j] > thresh else \"black\")\n",
    "        \n",
    "        plt.tight_layout()\n",
    "        plt.grid(False)\n",
    "        plt.show()\n",
    "        plt.close()"
   ]
  },
  {
   "cell_type": "code",
   "execution_count": 130,
   "metadata": {},
   "outputs": [
    {
     "data": {
      "image/png": "[encoded data removed]",
      "text/plain": [
       "<Figure size 432x360 with 2 Axes>"
      ]
     },
     "metadata": {},
     "output_type": "display_data"
    }
   ],
   "source": [
    "label = [0, 0, 0, 0, 0, 0, 0, 0, 0, 0, 0, 1, 1, 1, 1, 2, 2, 2, 2]\n",
    "predict = [0, 0, 0, 0, 0, 0, 0, 0, 0, 0, 0, 0, 0, 0, 1, 1, 2, 2, 0]\n",
    "cmatrix = confusion_matrix(label, predict)\n",
    "\n",
    "draw_plt_matrix(cm=cmatrix)"
   ]
  },
  {
   "cell_type": "markdown",
   "metadata": {},
   "source": [
    "<br>\n",
    "\n",
    "### 7. Overfitting (과적합)"
   ]
  },
  {
   "cell_type": "markdown",
   "metadata": {},
   "source": [
    "Overfitting은 공통적인 특징을 학습하는 것에 그치지 않고, 각각 샘플들의 자세한 특징까지 학습하여 나타나는 현상입니다.\n",
    "<br><br>\n",
    "\n",
    "![](https://github.com/gusdnd852/bigdata-lecture/blob/master/_notebooks/img/Day5/bao_1.PNG?raw=true)<br>\n",
    "\n",
    "예를 들어, 지폐를 구분하는 모델을 만들고 학습 데이터로 원화, 달러, 엔화를 사용하여 학습을 시켜봅시다.\n",
    "<br><br>\n",
    "\n",
    "![](https://github.com/gusdnd852/bigdata-lecture/blob/master/_notebooks/img/Day5/bao_2.PNG?raw=true)<br>\n",
    "\n",
    "모델은 직사각형 사이즈에, 금액이 적혀있고, 일련번호가 적힌 것들을 지폐라고 분류할 수 있게 되었습니다. 이제 어느정도 지폐를 잘 분류하는 모델이 되었습니다. 그러나 여기에서 더 욕심을 부려서 학습을 시키게 되면 새로운 특징으로 \"사람의 얼굴이 있다\"는 것 까지 배우게 됩니다. 더 자세한 특징을 학습시켰으니 모델이 더 정확한 판단을 내릴수 있을 것 같지만, 아래와 같이 결과는 더 나빠집니다. 사람의 얼굴이 없는 지폐는 지폐가 아니라고 판단해버리게 되었습니다.\n",
    "<br><br>\n",
    "\n",
    "![](https://github.com/gusdnd852/bigdata-lecture/blob/master/_notebooks/img/Day5/bao_3.png?raw=true)\n",
    "\n",
    "이처럼, 학습데이터의 너무 자세한 특징까지 학습하게 되어 새로운 데이터에 대해 잘 예측하지 못하는 현상을 overfitting이라고 합니다. 실제 데이터에서 우리가 회귀나 분류 등을 수행할 때는 아래처럼 선을 긋는다고 하였습니다.\n",
    "\n",
    "![](https://t1.daumcdn.net/thumb/R720x0/?fname=http://t1.daumcdn.net/brunch/service/user/Jr9/image/SbI5NgVY5ZLzvG6QCT8hUcC00lA.jpg)\n",
    "\n",
    "위의 3장의 이미지를 봅시다. 가장 왼쪽 그림은 underfitting(너무 학습이 덜 된 경우)를 의미합니다. 가운데 그림은 적당하게 잘 학습된 모델입니다. 그리고 가장 오른쪽 그림이 오늘 배운 overfitting(학습이 너무 과하게 된 경우)입니다. 보편적인 특징이 아니라 각각 샘플 자체를 암기해버려서, 그 샘플과 완벽하게 똑같지 않다면 틀려버리게 되는 경우입니다. 이러한 overfitting 문제는 꽤나 자주 일어나며 이를 해결하는 것이 머신러닝과 딥러닝의 영원한 숙제라고 할 수 있습니다. <br><br>\n",
    "\n",
    "overfitting문제를 완벽하게 해결하지는 못해도 어느정도 완화할 수는 있는데, 가장 기본적인 방법은 학습 데이터를 충분히 많이 사용하여 다양한 테스트 데이터에도 예측할 수 있도록 하는 것이며, 이외에도 Regularization과 Dropout등의 방법을 통해 해결할 수 있습니다. \n",
    "<br><br>\n"
   ]
  }
 ],
 "metadata": {
  "kernelspec": {
   "display_name": "Python 3",
   "language": "python",
   "name": "python3"
  },
  "language_info": {
   "codemirror_mode": {
    "name": "ipython",
    "version": 3
   },
   "file_extension": ".py",
   "mimetype": "text/x-python",
   "name": "python",
   "nbconvert_exporter": "python",
   "pygments_lexer": "ipython3",
   "version": "3.6.7"
  }
 },
 "nbformat": 4,
 "nbformat_minor": 4
}
