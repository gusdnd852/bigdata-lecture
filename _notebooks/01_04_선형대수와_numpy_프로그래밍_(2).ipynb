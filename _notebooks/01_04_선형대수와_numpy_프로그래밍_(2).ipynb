{
 "cells": [
  {
   "cell_type": "markdown",
   "metadata": {},
   "source": [
    "# 04. 선형대수와 Numpy 프로그래밍 (2)\n",
    "> 머신러닝에 꼭 필요한 선형대수학 개념들을 배우고 이를 Numpy로 구현하는 방법을 배워봅시다.\n",
    "\n",
    "- toc: true \n",
    "- badges: true\n",
    "- comments: true\n",
    "- categories: [Day 1]\n",
    "- permalink: /linear_algebra_with_numpy_2\n",
    "- exec: colab"
   ]
  },
  {
   "cell_type": "markdown",
   "metadata": {},
   "source": [
    "앞선 시간에서 선형대수의 대략적인 개념과 numpy를 소개했습니다. 이번 챕터에서는 이제 본격적으로 행렬, 선형대수의 각종 연산들, 그리고 numpy의 고급 사용법에 대해 알아봅시다.\n",
    "<br>\n"
   ]
  },
  {
   "cell_type": "markdown",
   "metadata": {},
   "source": [
    "### 1. 행렬\n",
    "\n",
    "행렬은 이미 많이 들어봐서 알고 있을 것입니다. 그러나 행렬이 진정으로 무엇을 의미하는지는 학교에서 잘 가르쳐주지 않습니다. 행렬을 알기 전에 \"변환\", 즉 \"Transformation\"이라는 단어에 대해 먼저 생각해봅시다. <br><br>\n",
    "\n",
    "#### 1.1. 변환 (Transformation)\n",
    "\n",
    "변환은 함수와 어느정도 일맥상통합니다. 함수는 어떤 수를 입력받아서 다른 수로 변환합니다.\n",
    "\n",
    "![img](https://github.com/gusdnd852/bigdata-lecture/blob/master/_notebooks/img/Day1/31.gif?raw=true)\n",
    "<br><br>\n",
    "\n",
    "선형대수의 맥락에서 보자면, 특정 벡터를 다른 벡터로 변환하는 것이라고 볼 수 있습니다.\n",
    "\n",
    "![img](https://github.com/gusdnd852/bigdata-lecture/blob/master/_notebooks/img/Day1/32.gif?raw=true)\n",
    "<br><br>\n",
    "\n",
    "즉 아래와 같이 어떤 입력벡터를 움직여서 출력 벡터로 만드는 것을 생각해볼 수 있습니다.\n",
    "\n",
    "![img](https://github.com/gusdnd852/bigdata-lecture/blob/master/_notebooks/img/Day1/33.gif?raw=true)\n",
    "<br><br>\n",
    "\n",
    "이러한 변환을 공간 전체에 있는 모든 벡터에 적용한다면, 아래처럼 진행이 될 수 있습니다. 공간에 있는 모든 벡터가 위와 같이 회전하거나 변환됩니다.\n",
    "\n",
    "![img](https://github.com/gusdnd852/bigdata-lecture/blob/master/_notebooks/img/Day1/41.gif?raw=true)\n",
    "<br><br><br>\n",
    "\n",
    "#### 1.2. 선형 변환 (Linear Transformation)\n",
    "그러나, 선형대수에서는 모든 종류의 변환을 다루지 않습니다. 선형대수에서는 모든 벡터가 선형성을 유지해야하기 때문에 \"선형 변환\"에 대하서만 다루고, \"비 선형 변환\"은 다루지 않습니다. 시각적으로 볼 때, 변환이 선형적(Linear)하다는 것은 두가지 속성을 의미합니다. \n",
    "\n",
    "- 모든 벡터는 변환 이후에도 휘지 않고 직선이여야 한다. \n",
    "- 원점은 그대로 원점(0, 0)이여야 한다.\n",
    "\n",
    "<br>\n",
    "\n",
    "두가지 조건을 만족하지 않는 경우 선형변환이라고 하지 않습니다. 아래처럼 변환 이후에 직선이 휘어서 곡선이 되어있거나, 원점이 다른 곳으로 이동하면 그러한 변환은 선형변환이 아닌, 비선형 변환입니다.\n",
    "\n",
    "![img](https://github.com/gusdnd852/bigdata-lecture/blob/master/_notebooks/img/Day1/42.gif?raw=true)\n",
    "<br><br>\n",
    "\n",
    "#### 1.3. 굳이 변환 이야기를 꺼내는 이유?\n",
    "선형 변환에 대해서 말씀 드린 이유는, 행렬이 바로 벡터를 선형 변환시키기 위한 도구이기 때문입니다. 선형대수의 장점은 하나의 연산이나 하나의 벡터에 대해 기하학적인 표현과 수치적인 표현이 모두 가능하다는 것에 있다고 이전에 말했습니다. 저는 지금까지 행렬에 대해서 기하학적으로 열심히 설명했던 것 입니다. 그러면 이러한 변환을 우리가 어떻게 수치적으로 계산할 수 있을까요?\n",
    "<br><br>\n",
    "\n",
    "예를 들어 $\\vec{v}$ = $\\begin{bmatrix} -1 \\\\ 2 \\end{bmatrix}$라는 벡터가 변환 되었다고 합시다. 그러면 어떻게 이 변환 함수를 찾아낼 수 있을까요? 이 변환이 어떤 변환이였는지 계산하려면, 우리는 기저벡터가 어디에서 어디로 이동했는지만 알면 됩니다. 이 부분을 이해하기 위해서 앞 선 챕터에서 기저벡터에 대해 언급 했던 것 입니다.\n",
    "\n",
    "<br>\n",
    "\n",
    "xy 평면공간의 정규직교 기저벡터는 $\\vec{i}$ = [1, 0]과 $\\vec{j}$ = [0, 1]입니다. 그리고 [-1, 2]는 -1$\\vec{i}$ + 2$\\vec{j}$가 됩니다. 여기까지는 이전 챕터에서 이야기 했던 내용입니다. \n",
    "\n",
    "![img](https://github.com/gusdnd852/bigdata-lecture/blob/master/_notebooks/img/Day1/43.gif?raw=true)\n",
    "<br><br>\n",
    "\n",
    "변환을 적용하면, 벡터가 움직인다고 했고, 기저벡터 역시 벡터이기 때문에 움직입니다. 자 이제, 변환이 적용된 이후에 기저벡터를 transformed $\\vec{i}$과 transformed $\\vec{j}$이라고 해보겠습니다. \n",
    "\n",
    "![img](https://github.com/gusdnd852/bigdata-lecture/blob/master/_notebooks/img/Day1/44.gif?raw=true)\n",
    "<br><br>\n",
    "\n",
    "기존에 변환 전 $\\vec{v}$ = [-1, 2] = -1 $\\vec{i}$ + 2 $\\vec{j}$ 였습니다. 마찬가지로 변환된 transformed $\\vec{v}$ = - 1 transformed $\\vec{i}$ + 2 transformed $\\vec{j}$로 이전의 비율(-1, 2)이 유지됩니다. <br><br>\n",
    "\n",
    "결론적으로 변환 전에 우리가 찾던 벡터 $\\vec{v}$(노란색)을 이루는 $\\vec{i}$와 $\\vec{j}$의 어떠한 선형결합이 변환 후에도 같은 결합으로 유지됩니다. 이 말은 즉, 단순히 $\\vec{i}$와 $\\vec{j}$가 변환 이후에 어디로 갔는지만 알면 벡터 $\\vec{v}$가 어디로 움직였는지도 알 수 있다는 말입니다.\n",
    "\n",
    "![img](https://github.com/gusdnd852/bigdata-lecture/blob/master/_notebooks/img/Day1/45.gif?raw=true)\n",
    "<br><br>\n",
    "\n",
    "변환 결과, 벡터 $\\vec{i}$는 [1,0]에서 [1,-2]로 움직였고, $\\vec{j}$는 [0,1]에서 [3,0]으로 움직였습니다. 따라서 변환된 벡터 $\\vec{v}$ = -1 * [1, -2] + 2 * [3, 0]이 되고, 이 값은 [5, 2]로 변환된 $\\vec{v}$의 위치와 동일합니다.\n",
    "\n",
    "![img](https://github.com/gusdnd852/bigdata-lecture/blob/master/_notebooks/img/Day1/46.gif?raw=true)\n",
    "<br><br>"
   ]
  }
 ],
 "metadata": {
  "kernelspec": {
   "display_name": "Python 3",
   "language": "python",
   "name": "python3"
  },
  "language_info": {
   "codemirror_mode": {
    "name": "ipython",
    "version": 3
   },
   "file_extension": ".py",
   "mimetype": "text/x-python",
   "name": "python",
   "nbconvert_exporter": "python",
   "pygments_lexer": "ipython3",
   "version": "3.6.7"
  }
 },
 "nbformat": 4,
 "nbformat_minor": 4
}
