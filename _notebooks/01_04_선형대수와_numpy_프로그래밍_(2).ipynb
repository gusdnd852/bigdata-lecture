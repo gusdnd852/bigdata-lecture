{
 "cells": [
  {
   "cell_type": "markdown",
   "metadata": {},
   "source": [
    "# 04. 선형대수와 Numpy 프로그래밍 (2)\n",
    "> 머신러닝에 꼭 필요한 선형대수학 개념들을 배우고 이를 Numpy로 구현하는 방법을 배워봅시다.\n",
    "\n",
    "- toc: true \n",
    "- badges: true\n",
    "- comments: true\n",
    "- categories: [Day 1]\n",
    "- permalink: /linear_algebra_with_numpy_2\n",
    "- exec: colab"
   ]
  },
  {
   "cell_type": "markdown",
   "metadata": {},
   "source": [
    "앞선 시간에서 선형대수의 대략적인 개념과 numpy를 소개했습니다. 이번 챕터에서는 이제 본격적으로 행렬, 선형대수의 각종 연산들, 그리고 numpy의 고급 사용법에 대해 알아봅시다.\n",
    "<br>\n"
   ]
  },
  {
   "cell_type": "markdown",
   "metadata": {},
   "source": [
    "### 1. 행렬\n",
    "\n",
    "행렬은 이미 많이 들어봐서 알고 있을 것입니다. 그러나 행렬이 진정으로 무엇을 의미하는지는 학교에서 잘 가르쳐주지 않습니다. 행렬을 알기 전에 \"변환\", 즉 \"Transformation\"이라는 단어에 대해 먼저 생각해봅시다.\n",
    "\n",
    "![img](https://github.com/gusdnd852/bigdata-lecture/blob/master/_notebooks/img/Day1/31.gif?raw=true)\n",
    "\n",
    "변환은 함수와 어느정도 일맥상통합니다. 함수는 어떤 수를 입력받아서 다른 수로 변환합니다. 선형대수의 맥락에서 보자면, 특정 벡터를 다른 벡터로 변환하는 것이라고 볼 수 있습니다.\n",
    "\n",
    "![img](https://github.com/gusdnd852/bigdata-lecture/blob/master/_notebooks/img/Day1/32.gif?raw=true)\n",
    "\n",
    "즉 아래와 같이 어떤 입력벡터를 움직여서 출력 벡터로 만드는 것을 생각해볼 수 있습니다.\n",
    "\n",
    "![img](https://github.com/gusdnd852/bigdata-lecture/blob/master/_notebooks/img/Day1/33.gif?raw=true)\n",
    "\n",
    "이러한 변환을 공간 전체에 있는 모든 벡터에 적용한다면, 아래처럼 진행이 될 수 있습니다. 공간에 있는 모든 벡터가 위와 같이 회전하거나 변환됩니다.\n",
    "\n",
    "![img](https://github.com/gusdnd852/bigdata-lecture/blob/master/_notebooks/img/Day1/40.gif?raw=true)\n",
    "\n",
    "그러나, "
   ]
  }
 ],
 "metadata": {
  "kernelspec": {
   "display_name": "Python 3",
   "language": "python",
   "name": "python3"
  },
  "language_info": {
   "codemirror_mode": {
    "name": "ipython",
    "version": 3
   },
   "file_extension": ".py",
   "mimetype": "text/x-python",
   "name": "python",
   "nbconvert_exporter": "python",
   "pygments_lexer": "ipython3",
   "version": "3.6.7"
  }
 },
 "nbformat": 4,
 "nbformat_minor": 4
}
