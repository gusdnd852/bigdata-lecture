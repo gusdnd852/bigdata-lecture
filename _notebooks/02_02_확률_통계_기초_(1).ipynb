{
 "cells": [
  {
   "cell_type": "markdown",
   "metadata": {},
   "source": [
    "# 02. 확률과 통계 기초 (1)\n",
    "> 머신러닝에 반드시 필요한 확률과 통계의 기초 이론을 배웁니다.\n",
    "\n",
    "- toc: true \n",
    "- badges: true\n",
    "- comments: true\n",
    "- categories: [Day 2]\n",
    "- permalink: /probability_statics\n",
    "- exec: colab"
   ]
  },
  {
   "cell_type": "markdown",
   "metadata": {},
   "source": [
    "우리는 이전 시간에 선형대수학과 그것들을 코드 상에서 어떻게 다루는지에 대해 배웠습니다. 이전에도 말씀드렸지만 선형대수학은 머신러닝의 What(무엇을?)에 해당합니다. 그러면 이 선형대수에서 배운 텐서조각들을 어떻게 활용해야 유의미한 결과를 도출할 수 있을까요? 여기에서 우리는 확률과 통계이론을 배웁니다. 텐서조각들로 확률 계산을 수행해 유의미한 결과를 도출할 것이기 때문입니다. 즉, 확률과 통계는 머신러닝의 How(어떻게?)에 해당합니다."
   ]
  },
  {
   "cell_type": "markdown",
   "metadata": {},
   "source": [
    "<br>\n",
    "\n",
    "### 1. Fundamental of Probability (시행, 표본공간, 집합, 사건 등)\n",
    "가장 먼저 확률에 대해 공부하기 전에 확률론의 대상이 되는 시행, 집합, 사건 등의 말에 대한 정의를 알아봅시다. 가장 먼저 우리가 주사위를 한 번 던진다고 해봅시다. 그러면 주사위의 6개의 눈 중 한 가지의 눈이 나올 것입니다.\n",
    "<br><br>\n",
    "\n",
    "![img](https://github.com/gusdnd852/bigdata-lecture/blob/master/_notebooks/img/Day2/01.jpg?raw=true)\n",
    "\n",
    "여러분이 주사위를 한 번 던지면, 1이 나올 수도, 2가 나올 수도, 3이 나올 수도 있습니다. 그러나 주사위를 한 번 던졌기 때문에, 한가지 숫자만 나오고, 2와 3이 동시에 나오는 경우는 없겠죠?\n",
    "<br><br>\n",
    "\n",
    "![img](https://github.com/gusdnd852/bigdata-lecture/blob/master/_notebooks/img/Day2/02.jpg?raw=true)\n",
    "\n",
    "이 때, 나올 수 있는 모든 눈을 가리켜서 '표본공간(Sample Space)'라고 합니다. 즉, 표본 공간이란 가능한 모든 결과들의 집합이라고 할 수 있습니다\n",
    "<br><br>\n",
    "\n",
    "\n",
    "![img](https://github.com/gusdnd852/bigdata-lecture/blob/master/_notebooks/img/Day2/03.jpg?raw=true)\n",
    "\n",
    "그리고 이 때, 각각의 눈을 '원소(Element)'라고 합니다. 위 처럼 2도 원소이고 3도 원소이고 6도 원소입니다.\n",
    "<br><br>\n",
    "\n",
    "![img](https://github.com/gusdnd852/bigdata-lecture/blob/master/_notebooks/img/Day2/04.jpg?raw=true)\n",
    "\n",
    "자, 이제 여기에서 눈이 3보다 작은 경우를 생각해봅시다. 언제 눈이 3보다 작을까요?\n",
    "<br><br>\n",
    "\n",
    "![img](https://github.com/gusdnd852/bigdata-lecture/blob/master/_notebooks/img/Day2/05.jpg?raw=true)\n",
    "\n",
    "네. 바로 녹색 동그라미의 경우들. 즉, 눈이 1이 나왔을 때와 2가 나왔을 때가 바로 3보다 작은 경우입니다. 그럼 이러한 '경우'를 지칭하는 말이 있었으면 좋겠는데요.\n",
    "<br><br>\n",
    "\n",
    "\n",
    "![img](https://github.com/gusdnd852/bigdata-lecture/blob/master/_notebooks/img/Day2/06.jpg?raw=true)\n",
    "\n",
    "이런 '경우'를 나타내는 것을 우리는 '사건(Event)'라고 합니다. '사건'은 확률론의 기본 매개체(선형대수에서의 '벡터'처럼)입니다. 즉, 우리는 이 사건들을 가지고 확률을 구할 것입니다.\n"
   ]
  },
  {
   "cell_type": "markdown",
   "metadata": {},
   "source": [
    "<br>\n",
    "\n",
    "#### 1.2. 표본 공간 (Sample Space)\n",
    "사건은 "
   ]
  },
  {
   "cell_type": "markdown",
   "metadata": {},
   "source": []
  },
  {
   "cell_type": "markdown",
   "metadata": {},
   "source": [
    "<br><br>\n",
    "\n",
    "### 1. 집합이란?\n",
    "\n",
    "![](https://lh3.googleusercontent.com/proxy/hZoA8ICJ__KfZNGh_ZcxtUOdhk5R3GNehZhWKwTNLHHijTn2JFYv33o41fKp79ItIo5bpp9qJ3zSAjmY8ifDXEoLQ229EodbTylX-L4J_skz8RFo8ZImuNunmYacT-9eELCcJ7L-o5DabYsZANKmg5lebFHzodY)\n",
    "\n",
    "먼저 확률을 공부하기 전에 집합에 대해서 알아야합니다. 집합이란 어떠한 자료가 **순서 없이, 중복 없이** 저장된 자료구조를 말합니다. 이 것은 리스트나 벡터와 상당히 다른 특징인데요. 파이썬에서도 set()으로 집합을 생성할 수 있습니다. 코드의 실행 결과를 보면서 리스트(벡터)와 집합의 차이를 알아 볼까요?"
   ]
  },
  {
   "cell_type": "code",
   "execution_count": 36,
   "metadata": {},
   "outputs": [
    {
     "name": "stdout",
     "output_type": "stream",
     "text": [
      "set :  set()\n",
      "list :  []\n"
     ]
    }
   ],
   "source": [
    "# 집합과 리스트 생성\n",
    "set_a = set()\n",
    "list_a = list()\n",
    "\n",
    "print('set : ', set_a)\n",
    "print('list : ', list_a)"
   ]
  },
  {
   "cell_type": "code",
   "execution_count": 37,
   "metadata": {},
   "outputs": [
    {
     "name": "stdout",
     "output_type": "stream",
     "text": [
      "set :  {3}\n",
      "list :  [3]\n"
     ]
    }
   ],
   "source": [
    "# 집합과 리스트에 3을 추가\n",
    "set_a.add(3)\n",
    "list_a.append(3)\n",
    "\n",
    "print('set : ', set_a)\n",
    "print('list : ', list_a)"
   ]
  },
  {
   "cell_type": "code",
   "execution_count": 38,
   "metadata": {},
   "outputs": [
    {
     "name": "stdout",
     "output_type": "stream",
     "text": [
      "set :  {3}\n",
      "list :  [3, 3]\n"
     ]
    }
   ],
   "source": [
    "# 집합과 리스트에 3을 추가\n",
    "set_a.add(3)\n",
    "list_a.append(3)\n",
    "\n",
    "print('set : ', set_a) # 중복이 없기 때문에 저장되지 않음\n",
    "print('list : ', list_a) # 중복이 허용되기 때문에 저장됨"
   ]
  },
  {
   "cell_type": "code",
   "execution_count": 39,
   "metadata": {},
   "outputs": [
    {
     "name": "stdout",
     "output_type": "stream",
     "text": [
      "set :  {3}\n",
      "list :  [3, 3, 3]\n"
     ]
    }
   ],
   "source": [
    "# 집합과 리스트에 한번 더 3을 추가\n",
    "set_a.add(3)\n",
    "list_a.append(3)\n",
    "\n",
    "print('set : ', set_a) # 중복이 없기 때문에 저장되지 않음\n",
    "print('list : ', list_a) # 중복이 허용되기 때문에 저장됨"
   ]
  },
  {
   "cell_type": "code",
   "execution_count": 40,
   "metadata": {},
   "outputs": [
    {
     "name": "stdout",
     "output_type": "stream",
     "text": [
      "set :  {1, 3}\n",
      "list :  [3, 3, 3, 1]\n"
     ]
    }
   ],
   "source": [
    "# 집합과 리스트에 1을 추가\n",
    "set_a.add(1)\n",
    "list_a.append(1)\n",
    "\n",
    "print('set : ', set_a) # 순서가 없기 때문에 아무렇게 저장\n",
    "print('list : ', list_a) # 순서가 있기 때문에 들어온 순서대로 차곡차곡 저장"
   ]
  },
  {
   "cell_type": "code",
   "execution_count": 41,
   "metadata": {},
   "outputs": [
    {
     "name": "stdout",
     "output_type": "stream",
     "text": [
      "set :  {0, 1, 3}\n",
      "list :  [3, 3, 3, 1, 0]\n"
     ]
    }
   ],
   "source": [
    "# 집합과 리스트에 0을 추가\n",
    "set_a.add(0)\n",
    "list_a.append(0)\n",
    "\n",
    "print('set : ', set_a) # 순서가 없기 때문에 아무렇게 저장\n",
    "print('list : ', list_a) # 순서가 있기 때문에 들어온 순서대로 차곡차곡 저장"
   ]
  },
  {
   "cell_type": "markdown",
   "metadata": {},
   "source": [
    "<br>\n",
    "\n",
    "이제 집합에 **중복과 순서**가 없다는 말이 무슨 말인지 아시겠죠? 우리는 확률에서 '사건'을 다룹니다. 그리고 그 사건들이 발생할 '확률'을 계산하게 됩니다. 그리고 '사건'은 바로 시행 결과의 '집합'입니다."
   ]
  },
  {
   "cell_type": "markdown",
   "metadata": {},
   "source": []
  }
 ],
 "metadata": {
  "kernelspec": {
   "display_name": "Python 3",
   "language": "python",
   "name": "python3"
  },
  "language_info": {
   "codemirror_mode": {
    "name": "ipython",
    "version": 3
   },
   "file_extension": ".py",
   "mimetype": "text/x-python",
   "name": "python",
   "nbconvert_exporter": "python",
   "pygments_lexer": "ipython3",
   "version": "3.6.7"
  }
 },
 "nbformat": 4,
 "nbformat_minor": 4
}
