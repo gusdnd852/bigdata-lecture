{
 "cells": [
  {
   "cell_type": "markdown",
   "metadata": {},
   "source": [
    "# SVM\n",
    "> 커널모델인 SVM(Support Vector Machine)을 배워보고 실습을 진행해봅시다.\n",
    "\n",
    "- toc: true \n",
    "- badges: true\n",
    "- comments: true\n",
    "- categories: [Day 4]\n",
    "- permal ink: /SVM\n",
    "- exec: colab"
   ]
  },
  {
   "cell_type": "markdown",
   "metadata": {},
   "source": [
    "<br><br>\n",
    "\n",
    "## 1. SVM이란?"
   ]
  },
  {
   "cell_type": "markdown",
   "metadata": {},
   "source": [
    "![](SVM.png)"
   ]
  },
  {
   "cell_type": "markdown",
   "metadata": {},
   "source": [
    "SVM은 Support Vector Machine의 줄임말로 분류를 위한 decision boundary(기준 선)를 정의하는 모델입니다. 기존에 분류되지 않는 새로운 데이터가 decision boundary 기준으로 어느 경계에 속하는지 확인해서 분류를 수행할 수 있도록 도와줍니다. \n",
    "\n",
    "먼저 decision boundary에 대해 살펴보도록 하겠습니다."
   ]
  },
  {
   "cell_type": "markdown",
   "metadata": {},
   "source": [
    "![](Decision.PNG)"
   ]
  },
  {
   "cell_type": "markdown",
   "metadata": {},
   "source": [
    "사과와 오렌지를 구별하는 그래프에서 빨간 선이 바로 decision boundary입니다. decision boundary가 어떻게 배치되는 지에 따라 성능이 달라지게 됩니다. 다음 그림과 같이 새로운 오렌지가 추가하겠습니다. 이때 decision boundary에 따라 예측이 올바르거나 틀릴 수 있습니다. "
   ]
  },
  {
   "cell_type": "markdown",
   "metadata": {},
   "source": [
    "![](newData.png)"
   ]
  },
  {
   "cell_type": "markdown",
   "metadata": {},
   "source": [
    "좌측 그래프와 같이 기준 선이 있으면 새로운 데이터인 오렌지는 사과로 분류가 됩니다. 하지만 우측 그래프와 같은 기준 선에서는 오렌지로 분류가 됩니다. 이렇게 잘못 분류되는 이유는 기준 선과 기준 선과 가장 가까이 있는 데이터의 간격이 좁기 때문입니다. "
   ]
  },
  {
   "cell_type": "markdown",
   "metadata": {},
   "source": [
    "![](margin.png)"
   ]
  },
  {
   "cell_type": "markdown",
   "metadata": {},
   "source": [
    "여기서의 좌측 그래프와 같이 간격을 margin이라 부르고, 우측 그래프와 같이 margin을 형성하는 decision boundary와 제일 가까운 데이터들을 support vector라고 부릅니다. SVM에서 분류를 실행할 때는 support vector만을 이용합니다. 아무리 많은 데이터가 있어도 support vector만을 사용하기 때문에 계산량이 줄어서 속도가 빨라지게 됩니다. "
   ]
  },
  {
   "cell_type": "markdown",
   "metadata": {},
   "source": [
    "<br><br>\n",
    "\n",
    "## 2. SVM의 파라미터\n",
    "\n",
    "SVM에서 Cost와 Gamma라는 2가지 파라미터가 존재합니다. 보통 Cost는 C로, gamma는 $\\gamma$로 작성합니다."
   ]
  },
  {
   "cell_type": "markdown",
   "metadata": {},
   "source": [
    "## 2.1. Cost(C)"
   ]
  },
  {
   "cell_type": "markdown",
   "metadata": {},
   "source": [
    "![](cost.png)"
   ]
  },
  {
   "cell_type": "markdown",
   "metadata": {},
   "source": [
    "Cost는 decision boundary와 margin의 간격을 어느 정도로 할 지를 결정합니다. Cost의 값이 작을 경우 margin이 넓어져서 좌측 그래프와 같이 decision boundary가 형성됩니다. 반대로 Cost의 값이 클 경우는 margin이 좁아져서 우측과 같은 decision bounday가 형성됩니다. "
   ]
  },
  {
   "cell_type": "markdown",
   "metadata": {},
   "source": [
    "![](cost2.png)"
   ]
  },
  {
   "cell_type": "markdown",
   "metadata": {},
   "source": [
    "Cost의 값에 따라 decision boundary가 달라지는 것을 확인할 수도 있습니다. "
   ]
  },
  {
   "cell_type": "markdown",
   "metadata": {},
   "source": [
    "## 2.2. Gamma($\\gamma$)"
   ]
  },
  {
   "cell_type": "markdown",
   "metadata": {},
   "source": [
    "![](gamma.png)"
   ]
  },
  {
   "cell_type": "markdown",
   "metadata": {},
   "source": [
    "Gamma는 하나의 데이터당 영향을 끼치는 범위를 조절하는 파라미터입니다. 그림과 같이 gamma의 값이 작을 수록 영향을 끼치는 범위가 넓은 것을 확인할 수 있습니다. gamma의 값이 커질 수록 영향을 끼치는 범위는 줄어드는 것을 확인할 수 있습니다. "
   ]
  },
  {
   "cell_type": "markdown",
   "metadata": {},
   "source": [
    "## 2.3. Grid Search"
   ]
  },
  {
   "cell_type": "markdown",
   "metadata": {},
   "source": [
    "![](GridSearch.png)"
   ]
  },
  {
   "cell_type": "markdown",
   "metadata": {},
   "source": [
    "그림과 같이 표를 형성해서 grid Search를 할 수 있습니다. Cost와 gamma의 값 중에서 가장 성능이 좋은 최적의 값을 찾을 수 있습니다.  "
   ]
  }
 ],
 "metadata": {
  "kernelspec": {
   "display_name": "Python 3",
   "language": "python",
   "name": "python3"
  },
  "language_info": {
   "codemirror_mode": {
    "name": "ipython",
    "version": 3
   },
   "file_extension": ".py",
   "mimetype": "text/x-python",
   "name": "python",
   "nbconvert_exporter": "python",
   "pygments_lexer": "ipython3",
   "version": "3.6.7"
  }
 },
 "nbformat": 4,
 "nbformat_minor": 4
}
