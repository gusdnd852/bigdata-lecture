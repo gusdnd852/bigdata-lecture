{
 "cells": [
  {
   "cell_type": "markdown",
   "metadata": {},
   "source": [
    "# 01. 순환 신경망 (RNN & LSTM)\n",
    "> 순환신경망 (RNN)에 대해 알아봅시다.\n",
    "\n",
    "- toc: true \n",
    "- badges: true\n",
    "- comments: true\n",
    "- categories: [Day 7]\n",
    "- permalink: /rnn_lstm\n",
    "- exec: colab"
   ]
  },
  {
   "cell_type": "markdown",
   "metadata": {},
   "source": [
    "### 1. RNN as Auto Regressive Model\n",
    "\n",
    "![](https://github.com/gusdnd852/bigdata-lecture/blob/master/_notebooks/img/Day5/reg05.png?raw=true)\n",
    " \n",
    "우리는 이미 회귀모델 시간에 '자기 종속성'이라는 속성에 대해 이야기 한적이 있습니다. 자기종속성이란 이전 타임스텝의 출력이 다음 타임스텝의 입력에 영향을 준다는 속성입니다. 우리가 오늘 배울 RNN이라는 신경망은 바로 이러한 자기 종속성을 다층 퍼셉트론으로 모델링한 구조입니다. <br><br>\n",
    "\n",
    "음악, 동영상, 에세이, 시, 소스 코드, 주가 차트. 이것들의 공통점은 무엇일까요? 바로 **시간적인 순서를 갖는 시퀀스**라는 점입니다. 음악은 음계들의 시퀀스, 동영상은 이미지의 시퀀스, 에세이는 단어들의 시퀀스로 볼 수 있습니다. 시퀀스의 길이는 가변적입니다. 소설에는 한 페이지짜리 단편소설도 있고 열권짜리 장편소설도 있죠. 기존의 뉴럴 네트워크 알고리즘은 고정된 크기의 입력을 다루는 데는 탁월하지만, 가변적인 크기의 데이터를 모델링하기에는 적합하지 않습니다. <br><br>\n",
    "\n",
    "RNN(Recurrent Neural Network, 순환신경망)은 **시퀀스 데이터를 모델링 하기 위해 등장**했습니다. RNN이 기존의 뉴럴 네트워크와 다른 점은 **‘기억’(다른 말로 hidden state)을 갖고 있다는 점**입니다. 네트워크의 기억은 지금까지의 입력 데이터를 요약한 정보라고 볼 수 있습니다. 새로운 입력이 들어올때마다 네트워크는 자신의 기억을 조금씩 수정합니다. 결국 입력을 모두 처리하고 난 후 네트워크에게 남겨진 기억은 시퀀스 전체를 요약하는 정보가 됩니다. 이는 사람이 시퀀스를 처리하는 방식과 비슷합니다. 이 글을 읽을 때도 우리는 이전까지의 단어에 대한 기억을 바탕으로 새로운 단어를 이해합니다. <br><br>\n",
    "\n",
    "이 과정은 새로운 단어마다 계속해서 반복되기 때문에 RNN에는 Recurrent, 즉 순환적이라는 이름이 붙습니다. RNN은 이런 반복을 통해 아무리 긴 시퀀스라도 처리할 수 있는 것입니다. <br><br>\n",
    "\n",
    "![](https://files.slack.com/files-pri/T25783BPY-F6YUKQKCP/rnn-diagram.png?pub_secret=9e9b7d3f1e)\n",
    "\n",
    "위 다이어그램에서 빨간색 사각형은 입력, 노란색 사각형은 기억, 파란색 사각형은 출력을 나타냅니다. 첫번째 입력이 들어오면 첫번째 기억이 만들어집니다. 두번째 입력이 들어오면 기존의 기억과 새로운 입력을 참고하여 새 기억을 만듭니다. 입력의 길이만큼 이 과정을 얼마든지 반복할 수 있습니다. 각각의 기억은 그때까지의 입력을 요약해서 갖고 있는 정보입니다. RNN은 이 요약된 정보를 바탕으로 출력을 만들어 냅니다. <br><br>"
   ]
  },
  {
   "cell_type": "markdown",
   "metadata": {},
   "source": [
    "### 2. What can RNNs do?\n",
    "\n",
    "RNN의 입력과 출력은 우리가 네트워크에게 시키고 싶은 것이 무엇이냐에 따라 얼마든지 달라질 수 있습니다. 아래는 몇가지 예시입니다. <br><br>\n",
    "\n",
    "#### 2.1. 시계열 예측(e.g. 주가 예측)\n",
    "![](https://t1.daumcdn.net/cfile/tistory/99C2D5465C66628B13)\n",
    "\n",
    "주가예측과 같은 시계열 예측 문제를 RNN으로 풀어볼 수 있습니다. 주가예측의 경우 이전 시간의 주가가 다음 시간의 주가에 영향을 주기 때문에 Auto regressive model인 RNN을 사용해서 문제를 풀어볼 수 있는 것입니다. \n",
    "<br><br>\n",
    "\n",
    "#### 2.2. 자연어 처리(e.g. 기계 번역)\n",
    "\n",
    "![](https://files.slack.com/files-pri/T25783BPY-F6X6W5UTA/machine-translator.png?pub_secret=c4b0c11754)\n",
    "\n",
    "구글의 번역기와 네이버의 파파고와 같은 자연어처리 시스템들은 RNN을 응용한 모델로 만들어졌습니다. RNN 기반 모델은 기존 통계 기반 모델의 비해 우수한 성능을 낸다고 알려져 있습니다. 자연어 역시 마찬가지로 이전 단어에 의해 다음 단어가 결정되므로 RNN을 사용할 수 있는 것입니다. <br><br>\n",
    "\n",
    "#### 2.3. 음성 처리(e.g. 음성 인식)\n",
    "\n",
    "![](https://file.hstatic.net/1000400311/file/chuyen_van_ban_thanh_giong_noi_c72b34f374f646e7891357808323eee2.jpg)\n",
    "\n",
    "대부분의 음성처리 시스템들도 RNN을 기반으로 만들어진 것으로 알려졌습니다. 소리 역시 이전 소리가 다음 소리에 영향을 주기 때문에, 이러한 관계를 모델링하기 위해 RNN을 사용합니다.\n",
    "<br><br>"
   ]
  },
  {
   "cell_type": "markdown",
   "metadata": {},
   "source": [
    "### 3. More Details in RNN\n",
    "\n",
    "![](https://t1.daumcdn.net/cfile/tistory/261D7C4757AC186F04)\n",
    "\n",
    "RNN은 sequence data를 처리하는 모델입니다. sequence는 순서대로 처리해야 하는 것을 뜻하고, 이런 데이터에는 시계열 처리, 음성인식, 자연어처리 등이 포함됩니다. 자연어의 경우 단어 하나만 안다고 해서 처리될 수 없고, 앞뒤 문맥을 함께 이해해야 해석이 가능하기 때문입니다. 이러한 작업은 적어도, 지금까지 열심히 공부한 neural network나 다양한 머신러닝 모델들, 앞으로 배울 CNN으로도 이렇게 시간적인 특성을 가르치는 것은 불가능합니다. <br><br>\n",
    "\n",
    "![](https://t1.daumcdn.net/cfile/tistory/2578204757AC186F2A)\n",
    "\n",
    "위 그림에서 보면 $x_t$가 입력되어서 히든레이어 $A$를 거쳐서 최종적으로 $h_t$라는 출력을 반환하게 됩니다. 이것만 보면 이전에 배운 다층 퍼셉트론(MLP)와 차이가 없습니다. 그러나 RNN의 특징은 저기에 있는 순환구조의 화살표에 있습니다. 저 화살표는 히든레이어인 $A$에서 나와서 다시 히든레이어 $A$로 들어갑니다. 이 것을 간단하게 표현하기 위해 시간순으로 펼쳐서(unfold) 오른쪽 처럼도 표현할 수 있습니다. 이렇게 보면 시간의 흐름에 따라 같은 모양의 신경망이 마치 복사된 것처럼 느껴집니다\n",
    "<br><br>\n",
    "\n",
    "![](https://t1.daumcdn.net/cfile/tistory/2201424757AC187023)\n",
    "\n",
    "RNN(Recurrent Neural Network)은 일반적으로 step을 거칠 때마다 어떤 결과를 예측하게 됩니다. 그리고, 이런 예측 값을 앞에서 배웠던 것처럼 y라고 부릅니다. y = Wx + b와 같이 생각하시면 됩니다. 그리고 RNN에서는 y 대신에 h를 자주 사용하는 편입니다. 따라서 저도 h로 놓고 설명드리도록 하겠습니다.\n",
    "<br><br>\n",
    "\n",
    "![](https://t1.daumcdn.net/cfile/tistory/271F9B4757AC187002)\n",
    "\n",
    "수식으로 표현하면 위와 같습니다. 새로운 출력인 $h_t$는 이전의 출력인 $h_{t-1}$과 새로운 입력 $x_t$이 입력되어 나온 출력입니다.  여기서 노드 갯수는 layer에 포함된 노드(그림에서는 초록색으로 표시된 RNN) 갯수를 말합니다. <br><br>\n",
    "\n",
    "![](https://t1.daumcdn.net/cfile/tistory/21140B4757AC18710F)\n",
    "\n",
    "수식을 좀 더 자세히 보겠습니다. 오른쪽 그림에서 가장 먼저 $x_0$이 입력됩니다. 그러면 히든레이어 $A$를 거쳐서 $h_0$이 출력됩니다. 그리고 나서 그 다음 타임스텝의 사건이 $x_1$으로 입력됩니다. 그러면 RNN 모델은 현재 타임스텝의 입력인 $x_1$과 이전 타임스텝까지 저장하고 있던 출력$h_0$을 다시 히든레이어에 입력합니다. 그래서 이 둘이 더해져서 현재 타임스텝인 $h_1$가 완성됩니다. 이를 수식으로 표현하면 아래와 같습니다.\n",
    "\n",
    "<br>\n",
    "$$h_1 = activation(w_x \\cdot x_1 + w_h \\cdot h_0)$$\n",
    "<br><br>\n",
    "\n",
    "![](https://t1.daumcdn.net/cfile/tistory/274D224F57AC187225)\n",
    "\n",
    "이 때, $x$와 $h$가 입력될 때, 각각 $w_x$와 $w_h$가 곱해지고나서 더해지는데, 이들이 바로 RNN의 가중치입니다. 한가지 주의할 점은 매 타임스텝마다 다른 $w$들이 있는 것이 아니라, $w$는 $w_x$와 $w_h$로 딱 2개만 존재하고, 매 타임스텝마다 들어오는 입력들이 매번 같은 weight와 곱해진다는 것입니다. \n"
   ]
  },
  {
   "cell_type": "markdown",
   "metadata": {},
   "source": [
    "<br>\n",
    "\n",
    "### 4. RNN의 학습 알고리즘 : BPTT\n",
    "\n",
    "RNN은 기존 신경망의 역전파(backprop)와는 달리 타임 스텝별로 네트워크를 펼친 다음, 역전파 알고리즘을 사용하는데 이를 BPTT(BackPropagation Through Time)라고 합니다. \n",
    "\n",
    "![](https://img1.daumcdn.net/thumb/R1280x0/?scode=mtistory2&fname=http%3A%2F%2Fcfile23.uf.tistory.com%2Fimage%2F99DB59465BD2ACC420D345)\n",
    "\n",
    "BPTT 또한 일반적인 역전파와 같이 먼저 순전파(forward prop)로 각 타임 스텝별 시퀀스를 출력합니다. 그런다음 이 출력 시퀀스와 손실(비용)함수를 사용하여 각 타임 스텝별 Loss를 구합니다. 그리고 손실 함수의 그래디언트는 위의 그림과 같이 펼쳐진 네트워크를 따라 역방향으로 전파됩니다. BPTT는 그래디언트가 마지막 타임 스텝인 출력뿐만 아니라 손실함수를 사용한 모든 출력에서 역방향으로 전파됩니다.  \n",
    "\n",
    "RNN은 각 타임 스텝마다 같은 매개변수 $W$와 $b$이 사용되기 때문에 역전파가 진행되면서 모든 타임 스텝에 걸쳐 매개변수 값이 합산됩니다. 이렇게 업데이트된 가중치는 순전파 동안에는 모든 타임 스텝에 동일한 가중치가 적용됩니다.\n",
    "<br><br>\n",
    "\n",
    "#### 4.1. BPTT의 문제점\n",
    "\n",
    "BPTT는 RNN에서의 역전파 방법인 BPTT(BackPropagation Through Time)은 위의 그림과 같이 모든 타임스텝마다 처음부터 끝까지 역전파합니다. 그렇기 때문에 타임 스텝이 클 경우, 위의 그림과 같이 RNN을 펼치게(unfold)되면 매우 깊은 네트워크가 될것이며, 이러한 네트워크는 05-1. 심층 신경망 학습에서 살펴본 그래디언트 소실 및 폭주(vanishing & exploding gradient) 문제가 발생할 가능성이 큽니다. 그리고, 계산량 또한 많기 때문에 한번 학습하는데 아주 오랜 시간이 걸리는 문제가 있습니다.\n",
    "<br><br>\n",
    "\n",
    "#### 4.2. Truncated BPTT\n",
    "\n",
    "![](https://img1.daumcdn.net/thumb/R1280x0/?scode=mtistory2&fname=http%3A%2F%2Fcfile29.uf.tistory.com%2Fimage%2F99E13D3E5BD5F5AC0314BB)\n",
    "\n",
    "BPTT의 이러한 문제를 해결하기 위해 아래의 그림과 같이 타임 스텝을 일정 구간(보통 5-steps)으로 나누어 역전파(backprop)를 계산하여, 전체 역전파로 근사시키는 방법인 Truncated BPTT를 대안으로 사용할 수 있습니다. BPTT의 이러한 문제를 해결하기 위해 아래의 그림과 같이 타임 스텝을 일정 구간(보통 5-steps)으로 나누어 역전파(backprop)를 계산하여, 전체 역전파로 근사시키는 방법인 Truncated BPTT를 대안으로 사용할 수 있습니다. \n",
    "<br><br>\n"
   ]
  },
  {
   "cell_type": "markdown",
   "metadata": {},
   "source": [
    "### 5. LSTM (Long Short Term Memory)\n",
    "\n",
    "RNN의 장점은 이전의 정보를 공유하여 활용할 수 있다는 것입니다. 하지만, 시점간의 간격(Gap)이 크지 않을 경우에 가능하며 이러한 문제의 원인은 Vanishing Gradient에서 알 수 있듯이 BPTT에서 Chain Rule에 의해 [-1, 1]사이의 값들이 계속 곱해지다보니 앞쪽으로 갈 수록 그 값이 작아져, 결국에는 소멸해버려 Parameter들의 업데이트가 되지 않는 문제가 발생하기 때문입니다.\n",
    "이러한 문제를 해결하기 위해 등장한 것이 바로 LSTM입니다.\n",
    "\n",
    "![](https://img1.daumcdn.net/thumb/R1280x0/?scode=mtistory2&fname=http%3A%2F%2Fcfile26.uf.tistory.com%2Fimage%2F2270DB4B592AE7E12C854F)\n",
    "\n",
    "![](https://img1.daumcdn.net/thumb/R1280x0/?scode=mtistory2&fname=http%3A%2F%2Fcfile1.uf.tistory.com%2Fimage%2F26698E4F592AE818420518)\n",
    "\n",
    "<br>\n",
    "\n",
    "LSTM(Long Short Term Meomory networks)는 RNN의 한 종류입니다. LSTM은 장기 의존성 문제를 해결할 수 있으며 Hochreiter(1997)가 제안한 알고리즘입니다.\n",
    "아래의 그림을 통해 기존 RNN과 LSTM차이를 살펴보도록 합시다.\n",
    "\n",
    "![](https://img1.daumcdn.net/thumb/R1280x0/?scode=mtistory2&fname=http%3A%2F%2Fcfile22.uf.tistory.com%2Fimage%2F2145AC4E592AE84229EBFF)\n",
    "\n",
    "기존의 RNN은 Hidden Layer에서 Hidden State(St)를 계산할 때 단순히 St=tanh(Uxt+WSt)로 계산하였지만, LSTM에서는 총 4가지의 계산과정이 있습니다.\n",
    "아래의 LSTM의 Hidden Layer에서 볼 수 있듯이 Neural Network Layer가 4개가 존재한다고 봐도 무방하다. 각각에 대해 자세히 알아 보도록 합시다.\n",
    "\n",
    "![](https://img1.daumcdn.net/thumb/R1280x0/?scode=mtistory2&fname=http%3A%2F%2Fcfile28.uf.tistory.com%2Fimage%2F22023B4F592AE8B6173AE9)\n",
    "\n",
    "#### 5.1. Cell State\n",
    "\n",
    "LSTM의 핵심이라고 할 수 있는 이 Cell State는 아래의 그림4에서 볼 수 있듯이, 단순한 연산(곱셉, 덧셈)을 거쳐 LSTM Unit(초록색 박스)을 통과합니다. 이러한 Cell State를 통해 이전 정보(Ct−1)는 큰 변화 없이 다은 단계로 전달됩니다.\n",
    "\n",
    "![](https://img1.daumcdn.net/thumb/R1280x0/?scode=mtistory2&fname=http%3A%2F%2Fcfile8.uf.tistory.com%2Fimage%2F2532104B592AE95F161BBF)\n",
    "\n",
    "Cell State는 input, forget, output 세 개의 게이트(gate)들을 이용하여 정보의 반영 여부를 결정해줍니다. 각 게이트 들은 그림4에서 볼 수 있듯이 simgmoid 와 곱셈으로 이루어져 있습니다. Simgmoid 는 0<σ<1의 값을 출력해 각 정보가 어느정도로 영향을 줄 것인지 결정하는 역할을 합니다. LSTM은 Cell State를 컨트롤하기 위해 세가지 게이트(gate)들로 이루어져있습다. LSTM의 세가지 게이트들의 핵심은 아래와 같습니다.\n",
    "\n",
    "- 무엇을 쓰고 > input gate\n",
    "- 무엇을 읽고 > out gate\n",
    "- 무엇을 잊을 것인가 forget gate\n",
    "<br><br>\n",
    "\n",
    "#### 5.2. LSTM의 단계\n",
    "\n",
    "- 1) Forget Gate\n",
    "\n",
    "LSTM의 첫번째 단계는 어떠한 정보를 반영할지에 대한 결정을 하는 게이트입니다. 이러한 결정은 sigmoid layer통해 이루어집니다. ht−1과 xt를 입력값으로 받아 sigmoid활성화 함수를 통해 0 ~ 1사이의 값을 출력합니다. 1에 가까울 수록 정보의 반영을 많이하고, 0에 가까울 수록 해당 정보의 반영을 적게한다는 의미입니다.\n",
    "\n",
    "![](https://img1.daumcdn.net/thumb/R1280x0/?scode=mtistory2&fname=http%3A%2F%2Fcfile23.uf.tistory.com%2Fimage%2F25722347592AE9A32F3834)\n",
    "\n",
    "<br>\n",
    "\n",
    "- 2) Input Gate\n",
    "\n",
    "두번쨰 단계는 새로운 정보가 Cell State에 저장이 될지를 결정하는 게이트입니다. Input Gate에는 두개의 Layer가 있는데, 하나는 sigmoid layer로 (이 레이어를 input gate라고 함) 어떤 값을 업데이트 할 것인지 결정하는 레이어입니다. 다른하나는 tanh layer로 구성되어 있으며, Cell State에 더해질 vector of new candidate values(후보값들의 벡터)를 만드는 레이어(Update gate)입니다.\n",
    "\n",
    "![](https://img1.daumcdn.net/thumb/R1280x0/?scode=mtistory2&fname=http%3A%2F%2Fcfile25.uf.tistory.com%2Fimage%2F2163D94F592AE9CF1F4547)\n",
    "\n",
    "<br>\n",
    "\n",
    "- 3) Update Cell State\n",
    "\n",
    "이렇게 forget gate와 input gate에서 출력된 값들을 Cell State Ct−1를 Ct 로 업데이트해줍니다.\n",
    "\n",
    "- ft⋅Ct−1 계산 해준뒤\n",
    "- it⋅Ct 를 더해줍니다. 최종 Ct의 식은 아래의 그림과 같다.\n",
    "\n",
    "![](https://img1.daumcdn.net/thumb/R1280x0/?scode=mtistory2&fname=http%3A%2F%2Fcfile6.uf.tistory.com%2Fimage%2F2158E350592AE9F10EBB26)\n",
    "\n",
    "<br>\n",
    "\n",
    "- 4) Output Gate Layer\n",
    "\n",
    "마지막 단계는 출력값(ht)을 결정하는 단계입니다. ht는 Cell State(Ct)를 필터링해준 값입니다. 먼저, 출력할 Cell State의 부분을 결정하는 sigmoid layer를통해 계산합니다(ot). 그런다음, 앞 단계에서 업데이트 된 Cell State(Ct)를 **tanh**를 통해 -1 ~ 1사이로 출력된 값을 곱해줍니다.\n",
    "\n",
    "![](https://img1.daumcdn.net/thumb/R1280x0/?scode=mtistory2&fname=http%3A%2F%2Fcfile5.uf.tistory.com%2Fimage%2F220BB84B592AEA1B1EDAB1)\n",
    "\n",
    "<br>\n",
    "\n",
    "LSTM은 위와 같은 메커니즘을 이용하여 RNN의 장기기억 문제를 효과적으로 해결하였고 매우 높은 성능을 보여주는 네트워크가 되었습니다. 이제 이 LSTM을 가지고 실습을 진행해보도록 하겠습니다."
   ]
  },
  {
   "cell_type": "markdown",
   "metadata": {},
   "source": [
    "<br>\n",
    "\n",
    "### 6. RNN(LSTM)으로 시계열 예측(주가 예측)을 해보자.\n",
    "\n",
    "백문이 불여 일견이죠. RNN에 대해 어느정도 이해하셨다면 코드로 구현해봅시다. 우리는 여기에서 시계열 예측 문제 중 하나인 주가 예측 문제를 풀어보려고합니다. 이 문제의 경우 정답열이 연속적이기 때문에 Regression 예제입니다."
   ]
  },
  {
   "cell_type": "markdown",
   "metadata": {},
   "source": [
    "#### 6.1. 데이터 로딩"
   ]
  },
  {
   "cell_type": "code",
   "execution_count": 12,
   "metadata": {},
   "outputs": [
    {
     "name": "stdout",
     "output_type": "stream",
     "text": [
      "ERROR! Session/line number was not unique in database. History logging moved to new session 440\n"
     ]
    },
    {
     "data": {
      "text/html": [
       "<div>\n",
       "<style scoped>\n",
       "    .dataframe tbody tr th:only-of-type {\n",
       "        vertical-align: middle;\n",
       "    }\n",
       "\n",
       "    .dataframe tbody tr th {\n",
       "        vertical-align: top;\n",
       "    }\n",
       "\n",
       "    .dataframe thead th {\n",
       "        text-align: right;\n",
       "    }\n",
       "</style>\n",
       "<table border=\"1\" class=\"dataframe\">\n",
       "  <thead>\n",
       "    <tr style=\"text-align: right;\">\n",
       "      <th></th>\n",
       "      <th>일자</th>\n",
       "      <th>시가</th>\n",
       "      <th>고가</th>\n",
       "      <th>저가</th>\n",
       "      <th>종가</th>\n",
       "      <th>거래량</th>\n",
       "    </tr>\n",
       "  </thead>\n",
       "  <tbody>\n",
       "    <tr>\n",
       "      <th>0</th>\n",
       "      <td>20200107</td>\n",
       "      <td>55700</td>\n",
       "      <td>56400</td>\n",
       "      <td>55600</td>\n",
       "      <td>55800</td>\n",
       "      <td>9893846</td>\n",
       "    </tr>\n",
       "    <tr>\n",
       "      <th>1</th>\n",
       "      <td>20200106</td>\n",
       "      <td>54900</td>\n",
       "      <td>55600</td>\n",
       "      <td>54600</td>\n",
       "      <td>55500</td>\n",
       "      <td>10278951</td>\n",
       "    </tr>\n",
       "    <tr>\n",
       "      <th>2</th>\n",
       "      <td>20200103</td>\n",
       "      <td>56000</td>\n",
       "      <td>56600</td>\n",
       "      <td>54900</td>\n",
       "      <td>55500</td>\n",
       "      <td>15422255</td>\n",
       "    </tr>\n",
       "    <tr>\n",
       "      <th>3</th>\n",
       "      <td>20200102</td>\n",
       "      <td>55500</td>\n",
       "      <td>56000</td>\n",
       "      <td>55000</td>\n",
       "      <td>55200</td>\n",
       "      <td>12993228</td>\n",
       "    </tr>\n",
       "    <tr>\n",
       "      <th>4</th>\n",
       "      <td>20191230</td>\n",
       "      <td>56200</td>\n",
       "      <td>56600</td>\n",
       "      <td>55700</td>\n",
       "      <td>55800</td>\n",
       "      <td>8356767</td>\n",
       "    </tr>\n",
       "    <tr>\n",
       "      <th>...</th>\n",
       "      <td>...</td>\n",
       "      <td>...</td>\n",
       "      <td>...</td>\n",
       "      <td>...</td>\n",
       "      <td>...</td>\n",
       "      <td>...</td>\n",
       "    </tr>\n",
       "    <tr>\n",
       "      <th>9283</th>\n",
       "      <td>19850109</td>\n",
       "      <td>126</td>\n",
       "      <td>126</td>\n",
       "      <td>122</td>\n",
       "      <td>123</td>\n",
       "      <td>324836</td>\n",
       "    </tr>\n",
       "    <tr>\n",
       "      <th>9284</th>\n",
       "      <td>19850108</td>\n",
       "      <td>129</td>\n",
       "      <td>129</td>\n",
       "      <td>127</td>\n",
       "      <td>127</td>\n",
       "      <td>845098</td>\n",
       "    </tr>\n",
       "    <tr>\n",
       "      <th>9285</th>\n",
       "      <td>19850107</td>\n",
       "      <td>129</td>\n",
       "      <td>130</td>\n",
       "      <td>128</td>\n",
       "      <td>129</td>\n",
       "      <td>771895</td>\n",
       "    </tr>\n",
       "    <tr>\n",
       "      <th>9286</th>\n",
       "      <td>19850105</td>\n",
       "      <td>129</td>\n",
       "      <td>129</td>\n",
       "      <td>128</td>\n",
       "      <td>128</td>\n",
       "      <td>108496</td>\n",
       "    </tr>\n",
       "    <tr>\n",
       "      <th>9287</th>\n",
       "      <td>19850104</td>\n",
       "      <td>130</td>\n",
       "      <td>130</td>\n",
       "      <td>129</td>\n",
       "      <td>129</td>\n",
       "      <td>111764</td>\n",
       "    </tr>\n",
       "  </tbody>\n",
       "</table>\n",
       "<p>9288 rows × 6 columns</p>\n",
       "</div>"
      ],
      "text/plain": [
       "            일자     시가     고가     저가     종가       거래량\n",
       "0     20200107  55700  56400  55600  55800   9893846\n",
       "1     20200106  54900  55600  54600  55500  10278951\n",
       "2     20200103  56000  56600  54900  55500  15422255\n",
       "3     20200102  55500  56000  55000  55200  12993228\n",
       "4     20191230  56200  56600  55700  55800   8356767\n",
       "...        ...    ...    ...    ...    ...       ...\n",
       "9283  19850109    126    126    122    123    324836\n",
       "9284  19850108    129    129    127    127    845098\n",
       "9285  19850107    129    130    128    129    771895\n",
       "9286  19850105    129    129    128    128    108496\n",
       "9287  19850104    130    130    129    129    111764\n",
       "\n",
       "[9288 rows x 6 columns]"
      ]
     },
     "execution_count": 12,
     "metadata": {},
     "output_type": "execute_result"
    }
   ],
   "source": [
    "import pandas as pd\n",
    "\n",
    "df_price = pd.read_csv('https://raw.githubusercontent.com/gusdnd852/bigdata-lecture/master/_notebooks/sample_data/samsung.csv', encoding='utf8')\n",
    "df_price"
   ]
  },
  {
   "cell_type": "markdown",
   "metadata": {},
   "source": [
    "컬럼은 [일자, 시가, 고가, 저가, 종가, 거래량]으로 구성된 매우 단순한 데이터 셋입니다. 총 9,288개의 row로 구성되어 있네요. 우리는 일자, 시가, 고가, 저가, 거래량을 토대로 미래의 주가인 “종가”를 예측해 보도록 하겠습니다."
   ]
  },
  {
   "cell_type": "markdown",
   "metadata": {},
   "source": [
    "#### 6.2. 데이터 전처리"
   ]
  },
  {
   "cell_type": "code",
   "execution_count": 13,
   "metadata": {},
   "outputs": [],
   "source": [
    "pd.to_datetime(df_price['일자'], format='%Y%m%d')\n",
    "# 0      2020-01-07\n",
    "# 1      2020-01-06\n",
    "# 2      2020-01-03\n",
    "# 3      2020-01-02\n",
    "# 4      2019-12-30\n",
    "\n",
    "df_price['일자'] = pd.to_datetime(df_price['일자'], format='%Y%m%d')\n",
    "df_price['연도'] =df_price['일자'].dt.year\n",
    "df_price['월'] =df_price['일자'].dt.month\n",
    "df_price['일'] =df_price['일자'].dt.day"
   ]
  },
  {
   "cell_type": "code",
   "execution_count": 14,
   "metadata": {},
   "outputs": [
    {
     "data": {
      "text/html": [
       "<div>\n",
       "<style scoped>\n",
       "    .dataframe tbody tr th:only-of-type {\n",
       "        vertical-align: middle;\n",
       "    }\n",
       "\n",
       "    .dataframe tbody tr th {\n",
       "        vertical-align: top;\n",
       "    }\n",
       "\n",
       "    .dataframe thead th {\n",
       "        text-align: right;\n",
       "    }\n",
       "</style>\n",
       "<table border=\"1\" class=\"dataframe\">\n",
       "  <thead>\n",
       "    <tr style=\"text-align: right;\">\n",
       "      <th></th>\n",
       "      <th>일자</th>\n",
       "      <th>시가</th>\n",
       "      <th>고가</th>\n",
       "      <th>저가</th>\n",
       "      <th>종가</th>\n",
       "      <th>거래량</th>\n",
       "      <th>연도</th>\n",
       "      <th>월</th>\n",
       "      <th>일</th>\n",
       "    </tr>\n",
       "  </thead>\n",
       "  <tbody>\n",
       "    <tr>\n",
       "      <th>0</th>\n",
       "      <td>2020-01-07</td>\n",
       "      <td>55700</td>\n",
       "      <td>56400</td>\n",
       "      <td>55600</td>\n",
       "      <td>55800</td>\n",
       "      <td>9893846</td>\n",
       "      <td>2020</td>\n",
       "      <td>1</td>\n",
       "      <td>7</td>\n",
       "    </tr>\n",
       "    <tr>\n",
       "      <th>1</th>\n",
       "      <td>2020-01-06</td>\n",
       "      <td>54900</td>\n",
       "      <td>55600</td>\n",
       "      <td>54600</td>\n",
       "      <td>55500</td>\n",
       "      <td>10278951</td>\n",
       "      <td>2020</td>\n",
       "      <td>1</td>\n",
       "      <td>6</td>\n",
       "    </tr>\n",
       "    <tr>\n",
       "      <th>2</th>\n",
       "      <td>2020-01-03</td>\n",
       "      <td>56000</td>\n",
       "      <td>56600</td>\n",
       "      <td>54900</td>\n",
       "      <td>55500</td>\n",
       "      <td>15422255</td>\n",
       "      <td>2020</td>\n",
       "      <td>1</td>\n",
       "      <td>3</td>\n",
       "    </tr>\n",
       "    <tr>\n",
       "      <th>3</th>\n",
       "      <td>2020-01-02</td>\n",
       "      <td>55500</td>\n",
       "      <td>56000</td>\n",
       "      <td>55000</td>\n",
       "      <td>55200</td>\n",
       "      <td>12993228</td>\n",
       "      <td>2020</td>\n",
       "      <td>1</td>\n",
       "      <td>2</td>\n",
       "    </tr>\n",
       "    <tr>\n",
       "      <th>4</th>\n",
       "      <td>2019-12-30</td>\n",
       "      <td>56200</td>\n",
       "      <td>56600</td>\n",
       "      <td>55700</td>\n",
       "      <td>55800</td>\n",
       "      <td>8356767</td>\n",
       "      <td>2019</td>\n",
       "      <td>12</td>\n",
       "      <td>30</td>\n",
       "    </tr>\n",
       "    <tr>\n",
       "      <th>...</th>\n",
       "      <td>...</td>\n",
       "      <td>...</td>\n",
       "      <td>...</td>\n",
       "      <td>...</td>\n",
       "      <td>...</td>\n",
       "      <td>...</td>\n",
       "      <td>...</td>\n",
       "      <td>...</td>\n",
       "      <td>...</td>\n",
       "    </tr>\n",
       "    <tr>\n",
       "      <th>9283</th>\n",
       "      <td>1985-01-09</td>\n",
       "      <td>126</td>\n",
       "      <td>126</td>\n",
       "      <td>122</td>\n",
       "      <td>123</td>\n",
       "      <td>324836</td>\n",
       "      <td>1985</td>\n",
       "      <td>1</td>\n",
       "      <td>9</td>\n",
       "    </tr>\n",
       "    <tr>\n",
       "      <th>9284</th>\n",
       "      <td>1985-01-08</td>\n",
       "      <td>129</td>\n",
       "      <td>129</td>\n",
       "      <td>127</td>\n",
       "      <td>127</td>\n",
       "      <td>845098</td>\n",
       "      <td>1985</td>\n",
       "      <td>1</td>\n",
       "      <td>8</td>\n",
       "    </tr>\n",
       "    <tr>\n",
       "      <th>9285</th>\n",
       "      <td>1985-01-07</td>\n",
       "      <td>129</td>\n",
       "      <td>130</td>\n",
       "      <td>128</td>\n",
       "      <td>129</td>\n",
       "      <td>771895</td>\n",
       "      <td>1985</td>\n",
       "      <td>1</td>\n",
       "      <td>7</td>\n",
       "    </tr>\n",
       "    <tr>\n",
       "      <th>9286</th>\n",
       "      <td>1985-01-05</td>\n",
       "      <td>129</td>\n",
       "      <td>129</td>\n",
       "      <td>128</td>\n",
       "      <td>128</td>\n",
       "      <td>108496</td>\n",
       "      <td>1985</td>\n",
       "      <td>1</td>\n",
       "      <td>5</td>\n",
       "    </tr>\n",
       "    <tr>\n",
       "      <th>9287</th>\n",
       "      <td>1985-01-04</td>\n",
       "      <td>130</td>\n",
       "      <td>130</td>\n",
       "      <td>129</td>\n",
       "      <td>129</td>\n",
       "      <td>111764</td>\n",
       "      <td>1985</td>\n",
       "      <td>1</td>\n",
       "      <td>4</td>\n",
       "    </tr>\n",
       "  </tbody>\n",
       "</table>\n",
       "<p>9288 rows × 9 columns</p>\n",
       "</div>"
      ],
      "text/plain": [
       "             일자     시가     고가     저가     종가       거래량    연도   월   일\n",
       "0    2020-01-07  55700  56400  55600  55800   9893846  2020   1   7\n",
       "1    2020-01-06  54900  55600  54600  55500  10278951  2020   1   6\n",
       "2    2020-01-03  56000  56600  54900  55500  15422255  2020   1   3\n",
       "3    2020-01-02  55500  56000  55000  55200  12993228  2020   1   2\n",
       "4    2019-12-30  56200  56600  55700  55800   8356767  2019  12  30\n",
       "...         ...    ...    ...    ...    ...       ...   ...  ..  ..\n",
       "9283 1985-01-09    126    126    122    123    324836  1985   1   9\n",
       "9284 1985-01-08    129    129    127    127    845098  1985   1   8\n",
       "9285 1985-01-07    129    130    128    129    771895  1985   1   7\n",
       "9286 1985-01-05    129    129    128    128    108496  1985   1   5\n",
       "9287 1985-01-04    130    130    129    129    111764  1985   1   4\n",
       "\n",
       "[9288 rows x 9 columns]"
      ]
     },
     "execution_count": 14,
     "metadata": {},
     "output_type": "execute_result"
    }
   ],
   "source": [
    "df_price"
   ]
  },
  {
   "cell_type": "markdown",
   "metadata": {},
   "source": [
    "1990년도 이후의 주가를 시각화 해보겠습니다."
   ]
  },
  {
   "cell_type": "code",
   "execution_count": 16,
   "metadata": {},
   "outputs": [
    {
     "data": {
      "text/plain": [
       "Text(0, 0.5, 'price')"
      ]
     },
     "execution_count": 16,
     "metadata": {},
     "output_type": "execute_result"
    },
    {
     "data": {
      "image/png": "[encoded data removed]",
      "text/plain": [
       "<Figure size 1152x648 with 1 Axes>"
      ]
     },
     "metadata": {
      "needs_background": "light"
     },
     "output_type": "display_data"
    }
   ],
   "source": [
    "from matplotlib import pyplot as plt\n",
    "import seaborn as sns\n",
    "\n",
    "\n",
    "df = df_price.loc[df_price['연도']>=1990]\n",
    "\n",
    "plt.figure(figsize=(16, 9))\n",
    "sns.lineplot(y=df['종가'], x=df['일자'])\n",
    "plt.xlabel('time')\n",
    "plt.ylabel('price')"
   ]
  },
  {
   "cell_type": "markdown",
   "metadata": {},
   "source": [
    "데이터를 표준화합니다. sklearn의 `StandardScaler`를 이용하였습니다."
   ]
  },
  {
   "cell_type": "code",
   "execution_count": 17,
   "metadata": {},
   "outputs": [
    {
     "name": "stdout",
     "output_type": "stream",
     "text": [
      "            시가        고가        저가        종가       거래량\n",
      "0     0.968482  0.980394  0.979423  0.975012  0.030291\n",
      "1     0.954474  0.966389  0.961684  0.969733  0.031470\n",
      "2     0.973735  0.983895  0.967005  0.969733  0.047217\n",
      "3     0.964980  0.973391  0.968779  0.964454  0.039781\n",
      "4     0.977237  0.983895  0.981197  0.975012  0.025585\n",
      "...        ...       ...       ...       ...       ...\n",
      "7823  0.005095  0.005094  0.005073  0.004927  0.002960\n",
      "7824  0.005165  0.005129  0.005215  0.005068  0.005279\n",
      "7825  0.005236  0.005199  0.005162  0.005015  0.005483\n",
      "7826  0.005236  0.005339  0.005286  0.005279  0.008384\n",
      "7827  0.004955  0.005129  0.004860  0.005138  0.005251\n",
      "\n",
      "[7828 rows x 5 columns]\n"
     ]
    }
   ],
   "source": [
    "from sklearn.preprocessing import MinMaxScaler\n",
    "\n",
    "scaler = MinMaxScaler()\n",
    "scale_cols = ['시가', '고가', '저가', '종가', '거래량']\n",
    "df_scaled = scaler.fit_transform(df[scale_cols])\n",
    "\n",
    "df_scaled = pd.DataFrame(df_scaled)\n",
    "df_scaled.columns = scale_cols\n",
    "\n",
    "print(df_scaled)"
   ]
  },
  {
   "cell_type": "markdown",
   "metadata": {},
   "source": [
    "학습을 시킬 데이터 셋을 생성합니다. 여기서 window_size를 정의하여 학습 데이터를 생성할 예정입니다. window_size는 내가 얼마동안(기간)의 주가 데이터에 기반하여 다음날 종가를 예측할 것인가를 정하는 parameter 입니다. 즉 내가 과거 20일을 기반으로 내일 데이터를 예측한다라고 가정했을 때는 window_size=20이 됩니다. <br><br>\n",
    "\n",
    "저는 과거 20일을 기준으로 그 다음날의 데이터를 예측해 보도록 하겠습니다. TEST_SIZE = 200은 학습은 과거부터 200일 이전의 데이터를 학습하게 되고, TEST를 위해서 이후 200일의 데이터로 모델이 주가를 예측하도록 한 다음, 실제 데이터와 오차가 얼마나 있는지 확인해 보도록 하겠습니다."
   ]
  },
  {
   "cell_type": "code",
   "execution_count": 18,
   "metadata": {},
   "outputs": [],
   "source": [
    "split = int(len(df_scaled) * 0.8)\n",
    "\n",
    "train = df_scaled[:split]\n",
    "test = df_scaled[split:]"
   ]
  },
  {
   "cell_type": "code",
   "execution_count": 19,
   "metadata": {},
   "outputs": [],
   "source": [
    "import numpy as np\n",
    "\n",
    "def make_dataset(data, label, window_size=20):\n",
    "    feature_list = []\n",
    "    label_list = []\n",
    "    for i in range(len(data) - window_size):\n",
    "        feature_list.append(np.array(data.iloc[i:i+window_size]))\n",
    "        label_list.append(np.array(label.iloc[i+window_size]))\n",
    "    return np.array(feature_list), np.array(label_list)"
   ]
  },
  {
   "cell_type": "code",
   "execution_count": 20,
   "metadata": {},
   "outputs": [],
   "source": [
    "feature_cols = ['시가', '고가', '저가', '거래량']\n",
    "label_cols = ['종가']\n",
    "\n",
    "train_feature = train[feature_cols]\n",
    "train_label = train[label_cols]\n",
    "test_feature = test[feature_cols]\n",
    "test_label = test[label_cols]"
   ]
  },
  {
   "cell_type": "code",
   "execution_count": 21,
   "metadata": {},
   "outputs": [],
   "source": [
    "train_feature, train_label = make_dataset(train_feature, train_label, 20)\n",
    "test_feature, test_label = make_dataset(test_feature, test_label, 20)"
   ]
  },
  {
   "cell_type": "markdown",
   "metadata": {},
   "source": [
    "<br>\n",
    "\n",
    "#### 6.3. 모델링 (LSTM)\n",
    "\n",
    "LSTM 모델을 생성합니다."
   ]
  },
  {
   "cell_type": "code",
   "execution_count": 94,
   "metadata": {},
   "outputs": [],
   "source": [
    "from tensorflow.keras import Model\n",
    "from tensorflow.keras.layers import Dense, Dropout, LSTM\n",
    "from tensorflow.keras.regularizers import l2\n",
    "\n",
    "\n",
    "class StockPriceNetwork(Model):\n",
    "\n",
    "    def __init__(self):\n",
    "        super().__init__()\n",
    "        self.hidden_layer = LSTM(16, \n",
    "                               activation='relu',\n",
    "                               kernel_regularizer=l2(0.01),\n",
    "                               kernel_initializer='he_normal',\n",
    "                               return_sequences=False,\n",
    "                               input_shape=(train_feature.shape[1], train_feature.shape[2]))\n",
    "\n",
    "        self.output_layer = Dense(1,\n",
    "                                  kernel_regularizer=l2(0.01),\n",
    "                                  kernel_initializer='he_normal',)\n",
    "\n",
    "    def call(self, x):\n",
    "        x = self.hidden_layer(x)\n",
    "        x = self.output_layer(x)\n",
    "        return x\n",
    "    "
   ]
  },
  {
   "cell_type": "code",
   "execution_count": 95,
   "metadata": {},
   "outputs": [
    {
     "name": "stdout",
     "output_type": "stream",
     "text": [
      "WARNING:tensorflow:Layer lstm_7 will not use cuDNN kernel since it doesn't meet the cuDNN kernel criteria. It will use generic GPU kernel as fallback when running on GPU\n"
     ]
    },
    {
     "name": "stderr",
     "output_type": "stream",
     "text": [
      "WARNING:tensorflow:Layer lstm_7 will not use cuDNN kernel since it doesn't meet the cuDNN kernel criteria. It will use generic GPU kernel as fallback when running on GPU\n"
     ]
    },
    {
     "name": "stdout",
     "output_type": "stream",
     "text": [
      "Model: \"stock_price_network_11\"\n",
      "_________________________________________________________________\n",
      "Layer (type)                 Output Shape              Param #   \n",
      "=================================================================\n",
      "lstm_7 (LSTM)                multiple                  1344      \n",
      "_________________________________________________________________\n",
      "dense_10 (Dense)             multiple                  17        \n",
      "=================================================================\n",
      "Total params: 1,361\n",
      "Trainable params: 1,361\n",
      "Non-trainable params: 0\n",
      "_________________________________________________________________\n"
     ]
    }
   ],
   "source": [
    "net = StockPriceNetwork()\n",
    "net.build((None, train_feature.shape[1], train_feature.shape[2]))\n",
    "net.summary()"
   ]
  },
  {
   "cell_type": "code",
   "execution_count": 112,
   "metadata": {},
   "outputs": [
    {
     "name": "stdout",
     "output_type": "stream",
     "text": [
      "Epoch 1/5\n",
      "391/391 [==============================] - 20s 52ms/step - loss: 6.2524e-04\n",
      "Epoch 2/5\n",
      "391/391 [==============================] - 20s 52ms/step - loss: 6.6533e-04\n",
      "Epoch 3/5\n",
      "391/391 [==============================] - 21s 53ms/step - loss: 5.6335e-04\n",
      "Epoch 4/5\n",
      "391/391 [==============================] - 21s 53ms/step - loss: 6.1914e-04\n",
      "Epoch 5/5\n",
      "391/391 [==============================] - 20s 51ms/step - loss: 5.8727e-04\n"
     ]
    },
    {
     "data": {
      "text/plain": [
       "<tensorflow.python.keras.callbacks.History at 0x1f1300806a0>"
      ]
     },
     "execution_count": 112,
     "metadata": {},
     "output_type": "execute_result"
    }
   ],
   "source": [
    "net.compile(loss='mean_squared_error', optimizer='adam')\n",
    "net.fit(train_feature, train_label, epochs=10, batch_size=16)"
   ]
  },
  {
   "cell_type": "code",
   "execution_count": 105,
   "metadata": {},
   "outputs": [
    {
     "data": {
      "text/plain": [
       "array([[0.02096493],\n",
       "       [0.02078937],\n",
       "       [0.02060248],\n",
       "       ...,\n",
       "       [0.00597665],\n",
       "       [0.00598183],\n",
       "       [0.00598907]], dtype=float32)"
      ]
     },
     "execution_count": 105,
     "metadata": {},
     "output_type": "execute_result"
    }
   ],
   "source": [
    "pred = net.predict(test_feature)\n",
    "pred"
   ]
  },
  {
   "cell_type": "code",
   "execution_count": 111,
   "metadata": {},
   "outputs": [
    {
     "data": {
      "image/png": "[encoded data removed]",
      "text/plain": [
       "<Figure size 864x648 with 1 Axes>"
      ]
     },
     "metadata": {
      "needs_background": "light"
     },
     "output_type": "display_data"
    }
   ],
   "source": [
    "plt.figure(figsize=(12, 9))\n",
    "plt.plot(test_label, label='actual')\n",
    "plt.plot(pred, label='prediction')\n",
    "plt.legend()\n",
    "plt.show()"
   ]
  }
 ],
 "metadata": {
  "kernelspec": {
   "display_name": "Python 3",
   "language": "python",
   "name": "python3"
  },
  "language_info": {
   "codemirror_mode": {
    "name": "ipython",
    "version": 3
   },
   "file_extension": ".py",
   "mimetype": "text/x-python",
   "name": "python",
   "nbconvert_exporter": "python",
   "pygments_lexer": "ipython3",
   "version": "3.6.7"
  }
 },
 "nbformat": 4,
 "nbformat_minor": 4
}
