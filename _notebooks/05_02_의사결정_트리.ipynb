{
 "cells": [
  {
   "cell_type": "markdown",
   "metadata": {},
   "source": [
    "# 02. 의사결정 트리 알고리즘\n",
    "> 트리기반 모델인 의사결정 트리 알고리즘을 배워보고 실습을 진행해봅시다.\n",
    "\n",
    "- toc: true \n",
    "- badges: true\n",
    "- comments: true\n",
    "- categories: [Day 5]\n",
    "- permalink: /decision_tree\n",
    "- exec: colab"
   ]
  },
  {
   "cell_type": "markdown",
   "metadata": {},
   "source": [
    "<br>\n",
    "\n",
    "### 1. 트리란?\n",
    "\n",
    "의사결정 트리는 트리기반의 머신러닝 모델입니다. 그러나 컴퓨터 사이언스를 배우지 않은 여러분은 '트리'라는 자료구조를 잘 모르실테니 우선 '트리'에 대해 먼저 설명드리겠습니다.\n",
    "<br><br>\n",
    "\n",
    "![](https://s3.ap-northeast-2.amazonaws.com/learn.codestate.com/sos/Data+Structure/Advanced%20Data%20Structures/Untitled%204.png)\n",
    "\n",
    "트리는 '노드'로 구성된 계층적 자료구조입니다. '노드'는 위 그림에 있는 동그라미에 해당하는데, 트리의 기본 요소를 의미합니다. 트리에는 루트(최상위 노드)가 존재하고, 루트에서부터 시작해서 자식노드들이 아래로 뻗어나가게 됩니다. 그리고 가장 마지막에 위치한 노드를 리프노트(잎사귀 노드)라고 합니다. <br><br>\n",
    "\n",
    "각 노드는 여러개의 자식노드를 가질 수 있는데, 최대 N개까지만 가질 수 있는 트리를 N진 트리라고 합니다. 예를 들어 위 그림처럼 각 노드가 최대 2개의 자식노드를 가질 수 있으면 그런 트리를 이진트리라고 합니다. 모양이 꼭 뒤집어 놓은 나무같다고 해서 '트리'라고 부른다고 합니다.<br><br>\n",
    "\n",
    "\n"
   ]
  },
  {
   "cell_type": "markdown",
   "metadata": {},
   "source": [
    "### 2. 의사결정 트리 알고리즘이란?\n",
    "\n",
    "![](https://i2.wp.com/hleecaster.com/wp-content/uploads/2020/01/dct01.png?resize=1536%2C802)\n",
    "\n",
    "의사결정 트리 알고리즘은 트리 구조를 이용한 매우 직관적인  머신러닝 모델로, 분류와 회귀가 모두 가능한 지도학습 모델입니다. 아래의 예시를 봅시다. <br><br>\n",
    "\n",
    "![](https://github.com/gusdnd852/bigdata-lecture/blob/master/_notebooks/img/Day5/01.jpg?raw=true)\n",
    "\n",
    "만약 여러분에게 겨울에 찍은 가족 사진을 분류해볼래? 라고 말한다면 여러분은 어떤 기준으로 이미지를 분류해내실 건가요? <br><br>\n",
    "\n",
    "![](https://github.com/gusdnd852/bigdata-lecture/blob/master/_notebooks/img/Day5/02.jpg?raw=true)\n",
    "\n",
    "가장 먼저 '사진'을 찾아달라고 했기 때문에, '사진'이 아닌 '그림(만화)'를 걸러낼 수 있습니다.\n",
    "<br><br>\n",
    "\n",
    "![](https://github.com/gusdnd852/bigdata-lecture/blob/master/_notebooks/img/Day5/03.jpg?raw=true)\n",
    "\n",
    "그리고 나서 위 처럼 '겨울'사진이 아닌 사진을 걸러낼 수 있습니다.\n",
    "<br><br>\n",
    "\n",
    "![](https://github.com/gusdnd852/bigdata-lecture/blob/master/_notebooks/img/Day5/04.jpg?raw=true)\n",
    "\n",
    "마지막으로 사진에 여러명의 사람들이 있는 저 한 장의 사진을 겨울 가족 사진일 것이라고 분류해낼 수 있습니다. 의사결정 트리는 이렇게 여러개의 질문으로 데이터를 분리해내는 방법이고, 각 질문마다 데이터가 나뉘게 됩니다. 매우 직관적이죠? 학습시에는 이런 트리구조를 생성해서 파일로 저장하고, 테스트시에는 저장된 파일을 불러와서 사용하게 됩니다.\n",
    "<br><br>"
   ]
  },
  {
   "cell_type": "markdown",
   "metadata": {},
   "source": [
    "### 3. ID3 알고리즘 : 의사결정 트리의 학습 알고리즘\n",
    "\n",
    "![](https://github.com/gusdnd852/bigdata-lecture/blob/master/_notebooks/img/Day5/05.jpg?raw=true)\n",
    "\n",
    "그렇다면 이러한 의사결정 트리는 어떻게 학습될까요? 우선 위의 예제를 그대로 사용해봅시다. 아래와 같은 학습데이터가 있습니다. 우리는 3차원 데이터를 사용하였습니다. (이미지 데이터가 아닙니다) 우선 (1. 사진인지 만화인지), (2. 겨울사진인지 아닌지), (3. 사람이 여러명인지 한명인지)의 속성을 가지고 있고, 정답열(라벨)로 우리가 찾던 겨울 가족사진인지 아닌지에 대한 여부가 기록되어있습니다.\n",
    "<br><br>\n",
    "\n",
    "![](https://github.com/gusdnd852/bigdata-lecture/blob/master/_notebooks/img/Day5/06.jpg?raw=true)\n",
    "\n",
    "컴퓨터는 각 속성(열)을 질문처럼 만들어서 맞는 경우 오른쪽으로, 틀리는 경우 왼쪽으로 보내는 트리를 만들어냅니다. 매우 간단하죠? 그런데 속성(열)이 총 3개 있으니 질문의 순서에 따라 위 처럼 다양한 종류의 트리가 만들어질 수 있습니다. 때문에 이 질문의 순서를 정하는 일이 중요해보입니다.\n",
    "<br><br>\n",
    "\n",
    "![](https://github.com/gusdnd852/bigdata-lecture/blob/master/_notebooks/img/Day5/07.jpg?raw=true)\n",
    "\n",
    "질문이 효율적이려면, 하나의 질문에서 많은 오답데이터를 걸러낼 수 있어야합니다. 위를 보면 (1. 사진인지 만화인지)는 총 4장의 오답을 걸러내서, 다음번부터는 4장만 확인하면 됩니다. 그에 비해 나머지 두개의 질문은 3장의 오답을 걸러내서, 다음번에 5장의 사진을 분류해야합니다. 따라서 (1. 사진인지 만화인지)가 가장 좋은 질문이라고 할 수 있습니다.\n",
    "<br><br>\n",
    "\n",
    "![](https://github.com/gusdnd852/bigdata-lecture/blob/master/_notebooks/img/Day5/08.jpg?raw=true)\n",
    "\n",
    "그 다음에 2개의 질문 중 어떤 질문이 먼저일지 골라야합니다. (2. 겨울사진인지 아닌지)는 1장의 사진을 걸러내서 다음번에 4장의 이미지를 분류해야합니다. 그에 비해 (3. 사람이 여러명인지 한명인지)는 2장의 사진을 걸러내서 다음 번에 3장의 사진을 분류해야합니다. 따라서 (3. 사람이 여러명인지 한명인지)가 더 좋은 질문이라고 할 수 있습니다.<br><br>\n",
    "\n",
    "![](https://github.com/gusdnd852/bigdata-lecture/blob/master/_notebooks/img/Day5/09.jpg?raw=true)\n",
    "\n",
    "마지막으로 (2. 겨울사진인지 아닌지)를 이용해 최종적인 분류를 마치게 됩니다. 이렇게 의사결정 트리를 구현할 수 있습니다. 그렇다면 이러한 순서는 어떻게 기계적으로 구현할 수 있을까요? 우리는 여기서 정보이론 시간에 배운 엔트로피(Entropy)를 사용합니다."
   ]
  },
  {
   "cell_type": "markdown",
   "metadata": {},
   "source": [
    "<br>\n",
    "\n",
    "### 4. ID3 알고리즘의 수학적 이해\n",
    "\n",
    "ID3 알고리즘은 실제로 구현할 때 정보이론의 엔트로피를 계산하여 구현합니다. 엔트로피를 다시 리마인드 해봅시다. \n",
    "\n",
    "<br>\n",
    "$$\n",
    "H(x) =  \\sum_{i} -P_i \\cdot \\log P_i\n",
    "$$\n",
    "<br>\n",
    "\n",
    "엔트로피는 위의 공식으로 구할 수 있습니다. 이전에 설명했다시피, $-\\log P_i$들의 기댓값을 구한 것이 엔트로피라고 설명했습니다. 그러면 예시 상황의 엔트로피를 구해봅시다.\n",
    "<br><br>\n",
    "\n",
    "![](https://github.com/gusdnd852/bigdata-lecture/blob/master/_notebooks/img/Day5/10.jpg?raw=true)\n",
    "\n",
    "총 8장의 사진 중 겨울 가족사진(Yes)가 나올 확률은 $\\frac{1}{8}$로 엔트로피는 $H(Yes) = -\\frac{1}{8} \\cdot \\log \\frac{1}{8}$입니다. 그리고 겨울 가족사진이 아닌 사진(No)가 나올 확률은 $\\frac{7}{8}$로 엔트로피는 $H(Yes) = -\\frac{7}{8} \\cdot \\log \\frac{7}{8}$입니다. 따라서 $\\sum Entropy = -\\frac{1}{8} \\cdot \\log \\frac{1}{8} -\\frac{7}{8} \\cdot \\log \\frac{7}{8}$로 0.543이 됩니다. 엔트로피를 구했으니, 이제 정보 획득량 (Information Gain)을 구해봅시다.\n",
    "<br><br>\n",
    "\n",
    "정보 획득량 (Information Gain)은 이전 엔트로피에서 어떠한 정보를 얻었을 때, 얼마나 엔트로피가 많이 감소하는지를 의미합니다. 수식으로 나타내면, 아래처럼 나타낼 수 있습니다.\n",
    "\n",
    "<br>\n",
    "$$\n",
    "Information Gain = prev Entropy - after Entropy\n",
    "$$\n",
    "<br>\n",
    "\n",
    "이전의 엔트로피는 고정 상태(0.543)에서 새롭게 데이터를 분리했을때, 엔트로피가 **더 작아질수록** 무질서도가 낮아지므로 더욱 **좋은 것**이라고 할 수 있습니다. 따라서 **새로운 엔트로피의 크기가 더 작아질수록 정보 획득량은 더 커지게 되고**, 그 말은 해당 질문으로부터 더 많은 정보를 얻었다는 것이 됩니다. \n",
    "<br><br>\n",
    "\n",
    "새로운 엔트로피를 구할 땐, 양쪽 가지로 뻗어나가는 모든 데이터에 대해 엔트로피를 구해서 더한 것과 같습니다. 가령, 겨울사진인지 아닌지 물어봤을 때, 그렇다가 5장, 아니다가 3장이라면 5장에 대해 엔트로피를 구하고 3장에 대해 엔트로피를 구한 뒤 더해야합니다. 이를 각각 계산하여 표현하면 아래와 같습니다.\n",
    "<br><br>\n",
    "\n",
    "![](https://github.com/gusdnd852/bigdata-lecture/blob/master/_notebooks/img/Day5/11.jpg?raw=tre)\n",
    "\n",
    "- 먼저 사진인지 만화인지 구분하는 경우, 전체에서 $\\frac{4}{8}$는 만화사진이고, 나머지 $\\frac{4}{8}$는 실제 사진입니다. 따라서 $\\frac{4}{8}$ * 만화사진 엔트로피($- \\frac{0}{4} \\log \\frac{0}{4} - \\frac{4}{4} \\log \\frac{4}{4} $) + $\\frac{4}{8}$ * 실제사진 엔트로피($- \\frac{0}{4} \\log \\frac{0}{4} - \\frac{4}{4} \\log \\frac{4}{4} $)를 구하면 0.405입니다. 따라서 정보획득량은 0.543 - 0.405 = 0.138이됩니다.\n",
    "<br><br>\n",
    "\n",
    "- 만약 겨울사진인지 아닌지로 구분하는 경우 전체에서 $\\frac{5}{8}$는 겨울사진이고, 나머지 $\\frac{3}{8}$는 여름사진입니다. 따라서 $\\frac{5}{8}$ * 겨울사진 엔트로피($- \\frac{1}{5} \\log \\frac{1}{5} - \\frac{4}{5} \\log \\frac{4}{5} $) +  $\\frac{3}{8}$ * 겨울이 아닌 사진 엔트로피($- \\frac{0}{3} \\log \\frac{0}{3} - \\frac{3}{3} \\log \\frac{3}{3} $)를 구하면 0.45입니다. 따라서 정보획득량은 0.543 - 0.45 = 0.093이 됩니다. <br><br>\n",
    "\n",
    "- 가족사진인지 아닌지로 구분하는 경우 전체에서 $\\frac{5}{8}$는 가족사진이고, 나머지 $\\frac{3}{8}$는 혼자 찍은 사진입니다. 따라서 $\\frac{5}{8}$ * 가족사진 엔트로피($- \\frac{1}{5} \\log \\frac{1}{5} - \\frac{4}{5} \\log \\frac{4}{5} $) +  $\\frac{3}{8}$ * 혼자 찍은 사진 엔트로피($- \\frac{0}{3} \\log \\frac{0}{3} - \\frac{3}{3} \\log \\frac{3}{3} $)를 구하면 0.45입니다. 따라서 정보획득량은 0.543 - 0.45 = 0.093이 됩니다. <br><br>\n",
    "\n",
    "따라서 사진인지 만화인지 구분하는 것이 가장 큰 정보획득량은 가진 질문이기 때문에 사진인지 만화인지를 먼저 구분해서 분리하는 것이 좋습니다. 그 이후에도 계속 이렇게 정보획득량을 계산해가면서 질문의 순서를 결정합니다. 이해가시나요?"
   ]
  },
  {
   "cell_type": "markdown",
   "metadata": {},
   "source": [
    "<br>\n",
    "\n",
    "### 5. C4.5 알고리즘 : ID3 알고리즘의 업데이트 버전\n",
    "\n",
    "위의 경우는 범주형 속성(속성이 연속적이지 않고 이산적인 경우)에만 적용할 수 있습니다. 그러니까, 속성(열)이 Yes, No 혹은 A, B, C 처럼 구분된 경우에만 적용할 수 있습니다. 그러나 대부분의 데이터는 연속성 속성(3.45, 2.14 등)으로 구성된 경우가 많습니다. 그런 경우 어떻게 해야할까요? <br><br>\n",
    "\n",
    "ID3 알고리즘의 개선버전인 C 4.5 알고리즘은 ID3 알고리즘의 많은 문제를 해결하려고 했습니다. 대표적으로 위에서 말한 연속형 데이터를 처리하는 문제, 가지를 너무 깊게 만드는 문제를 해결하기 위한 Pruning(가지치기)기법, 결측치 처리기법 등을 개선한 알고리즘입니다. <br><br>\n",
    "\n",
    "#### 5.1. 연속형 데이터 처리\n",
    "\n",
    "가령 아래와 같은 데이터가 있다고 해봅시다."
   ]
  },
  {
   "cell_type": "code",
   "execution_count": 2,
   "metadata": {},
   "outputs": [
    {
     "data": {
      "text/html": [
       "<div>\n",
       "<style scoped>\n",
       "    .dataframe tbody tr th:only-of-type {\n",
       "        vertical-align: middle;\n",
       "    }\n",
       "\n",
       "    .dataframe tbody tr th {\n",
       "        vertical-align: top;\n",
       "    }\n",
       "\n",
       "    .dataframe thead th {\n",
       "        text-align: right;\n",
       "    }\n",
       "</style>\n",
       "<table border=\"1\" class=\"dataframe\">\n",
       "  <thead>\n",
       "    <tr style=\"text-align: right;\">\n",
       "      <th></th>\n",
       "      <th>수분함유량</th>\n",
       "      <th>당도</th>\n",
       "      <th>등급</th>\n",
       "    </tr>\n",
       "  </thead>\n",
       "  <tbody>\n",
       "    <tr>\n",
       "      <th>0</th>\n",
       "      <td>16.2</td>\n",
       "      <td>34.0</td>\n",
       "      <td>A</td>\n",
       "    </tr>\n",
       "    <tr>\n",
       "      <th>1</th>\n",
       "      <td>18.3</td>\n",
       "      <td>32.5</td>\n",
       "      <td>A</td>\n",
       "    </tr>\n",
       "    <tr>\n",
       "      <th>2</th>\n",
       "      <td>10.4</td>\n",
       "      <td>12.2</td>\n",
       "      <td>B</td>\n",
       "    </tr>\n",
       "    <tr>\n",
       "      <th>3</th>\n",
       "      <td>5.2</td>\n",
       "      <td>6.6</td>\n",
       "      <td>C</td>\n",
       "    </tr>\n",
       "    <tr>\n",
       "      <th>4</th>\n",
       "      <td>15.1</td>\n",
       "      <td>36.9</td>\n",
       "      <td>A</td>\n",
       "    </tr>\n",
       "  </tbody>\n",
       "</table>\n",
       "</div>"
      ],
      "text/plain": [
       "   수분함유량    당도 등급\n",
       "0   16.2  34.0  A\n",
       "1   18.3  32.5  A\n",
       "2   10.4  12.2  B\n",
       "3    5.2   6.6  C\n",
       "4   15.1  36.9  A"
      ]
     },
     "execution_count": 2,
     "metadata": {},
     "output_type": "execute_result"
    }
   ],
   "source": [
    "#collapse-hide\n",
    "\n",
    "import pandas as pd\n",
    "\n",
    "dataset = pd.DataFrame(\n",
    "    columns=['수분함유량', '당도', '등급'],\n",
    "    \n",
    "    data=[\n",
    "        [16.2, 34.0, 'A'],\n",
    "        [18.3, 32.5, 'A'],\n",
    "        [10.4, 12.2, 'B'],\n",
    "        [5.2, 6.6, 'C'],\n",
    "        [15.1, 36.9, 'A']\n",
    "    ]\n",
    ")\n",
    "\n",
    "dataset"
   ]
  },
  {
   "cell_type": "markdown",
   "metadata": {},
   "source": [
    "이러한 데이터는 ID3 알고리즘으로는 질문 생성이 불가능합니다. 가령, \"수분함유량이 5이상인가?\" 혹은 \"수분함유량이 10이상인가?\" 라고 물을 수 있지만 **과연 어느 기점을 기준으로 물어야하는지** 알 수가 없습니다. 이전 예시에서는 A냐? B냐?, Yes냐? No냐? 라고 물을 수 있었지만 여기에서는 불가능합니다. C4.5 알고리즘은 이러한 문제를 해결합니다. <br><br>\n",
    "\n",
    "C4.5 알고리즘은 기본적으로 이진분리 방법을 사용하는데, 하나의 수치를 가지고 그 수치보다 큰가? 작은가?로 질문을 만들어냅니다. 다만, 그 수치는 **가능한 모든 수치를 계산해봐서 가장 정보획득량 (Information Gain)이 높은 수치**를 사용합니다. 뭔가 대단한게 있을 줄 알았는데 생각보다 간단하죠? <br><br>"
   ]
  },
  {
   "cell_type": "markdown",
   "metadata": {},
   "source": [
    "#### 5.2. 가지치기 기법 (Pruning)\n",
    "\n",
    "의사결정 트리 알고리즘의 가장 큰 문제는 너무 쉽게 Overfitting 되어버린다는 문제가 있습니다. 따라서 이런 문제를 해결하기 위한 기법이 필요한데 첫번째가 가지치기 기법이고, 두번째는 다음 시간에 수업할 앙상블입니다.\n",
    "<br><br>\n",
    "\n",
    "![](https://github.com/gusdnd852/bigdata-lecture/blob/master/_notebooks/img/Day5/12.jpg?raw=tre)\n",
    "\n",
    "가지치기 기법은 의사결정 트리 알고리즘에서 트리의 깊이가 너무 깊어지는 문제를 막기 위해 적절한 위치에서 노드를 결합하는 방식입니다. 가지치기 지점을 선정하기 위해서는 아래와 같은 함수를 이해할 수 있어야합니다.\n",
    "\n",
    "<br>\n",
    "$$\n",
    "PruningCost(T) = Error(T) + \\alpha \\cdot Leaf(T)\n",
    "$$\n",
    "<br>\n",
    "\n",
    "가지치기 지수는 해당 지점의 에러(Error) + 리프노드의 수(Leaf)로 결정되며 여기에 리프노드의 수에 대한 파라미터 $\\alpha$가 붙게 됩니다. PruningCost가 최소가 되는 지점에서 가지치기가 일어나게 됩니다. 가지치기와 같은 고급 기법들도 역시 sklearn에 모두 구현되어있으니 여러분이 직접 구현할 필요는 없습니다. 이제 예제를 풀어봅시다."
   ]
  },
  {
   "cell_type": "markdown",
   "metadata": {},
   "source": [
    "<br>\n",
    "\n",
    "### 6. 당뇨병 예측하기\n",
    "\n",
    "당뇨병 데이터셋은 총 9개의 열이 있고 당뇨병 발병 여부가 라벨로 포함되어있습니다.\n",
    "아래 주소에서 다운로드 받은 뒤, 압축을 풀고 sample_data 폴더에 넣어주세요! (그냥 드래그 하면 됩니다)\n",
    "<br>\n",
    "\n",
    "https://github.com/gusdnd852/bigdata-lecture/files/4977229/diabetes.zip\n",
    "\n",
    "```\n",
    "root경로\n",
    "    |_...\n",
    "    |_sample_data\n",
    "        |diabetes.csv\n",
    "```\n",
    "<br><br>"
   ]
  },
  {
   "cell_type": "markdown",
   "metadata": {},
   "source": [
    "#### 6.1. 데이터에 대한 설명\n",
    "- Pregnancies : 임신 횟수\n",
    "- Glucose : 2시간 동안의 경구 포도당 내성 검사에서 혈장 포도당 농도\n",
    "- BloodPressure : 이완기 혈압 (mm Hg)\n",
    "- SkinThickness : SkinThicknessTriceps 피부 주름 두께 (mm)\n",
    "- Insulin : 2시간 혈청 인슐린 (mu U / ml)\n",
    "- BMI : 체질량 지수 (체중kg / 키(m)^2)\n",
    "- DiabetesPedigreeFunction : 당뇨병 혈통 기능\n",
    "- Age : 나이\n",
    "- Outcome : 768개 중에 268개의 결과 클래스 변수(0 또는 1)\n",
    "<br>"
   ]
  },
  {
   "cell_type": "markdown",
   "metadata": {},
   "source": [
    "<br>\n",
    "\n",
    "#### 6.2. 데이터 로딩"
   ]
  },
  {
   "cell_type": "code",
   "execution_count": 6,
   "metadata": {},
   "outputs": [],
   "source": [
    "import pandas as pd\n",
    "import numpy as np\n",
    "import seaborn as sns\n",
    "import matplotlib.pyplot as plt\n",
    "%matplotlib inline\n",
    "\n",
    "\n",
    "dataset = pd.read_csv(\"sample_data/diabetes.csv\")\n",
    "\n",
    "# 블로그에서 깨지니, colab에서 주석 풀어주세요\n",
    "# dataset "
   ]
  },
  {
   "cell_type": "markdown",
   "metadata": {},
   "source": [
    "<br>\n",
    "\n",
    "#### 6.3 결측치 확인"
   ]
  },
  {
   "cell_type": "code",
   "execution_count": 7,
   "metadata": {},
   "outputs": [
    {
     "name": "stdout",
     "output_type": "stream",
     "text": [
      "<class 'pandas.core.frame.DataFrame'>\n",
      "RangeIndex: 768 entries, 0 to 767\n",
      "Data columns (total 9 columns):\n",
      " #   Column                    Non-Null Count  Dtype  \n",
      "---  ------                    --------------  -----  \n",
      " 0   Pregnancies               768 non-null    int64  \n",
      " 1   Glucose                   768 non-null    int64  \n",
      " 2   BloodPressure             768 non-null    int64  \n",
      " 3   SkinThickness             768 non-null    int64  \n",
      " 4   Insulin                   768 non-null    int64  \n",
      " 5   BMI                       768 non-null    float64\n",
      " 6   DiabetesPedigreeFunction  768 non-null    float64\n",
      " 7   Age                       768 non-null    int64  \n",
      " 8   Outcome                   768 non-null    int64  \n",
      "dtypes: float64(2), int64(7)\n",
      "memory usage: 54.1 KB\n"
     ]
    }
   ],
   "source": [
    "dataset.info()"
   ]
  },
  {
   "cell_type": "code",
   "execution_count": 10,
   "metadata": {},
   "outputs": [
    {
     "data": {
      "text/plain": [
       "Pregnancies                 0\n",
       "Glucose                     0\n",
       "BloodPressure               0\n",
       "SkinThickness               0\n",
       "Insulin                     0\n",
       "BMI                         0\n",
       "DiabetesPedigreeFunction    0\n",
       "Age                         0\n",
       "Outcome                     0\n",
       "dtype: int64"
      ]
     },
     "execution_count": 10,
     "metadata": {},
     "output_type": "execute_result"
    }
   ],
   "source": [
    "dataset.isnull().sum()"
   ]
  },
  {
   "cell_type": "markdown",
   "metadata": {},
   "source": [
    "타이타닉 분석때는 이런 방식으로 결측치를 확인했습니다. 당뇨병 데이터는 결측치가 없어보이네요. 그러나, 정말 그럴까요?"
   ]
  },
  {
   "cell_type": "code",
   "execution_count": 16,
   "metadata": {},
   "outputs": [
    {
     "data": {
      "text/plain": [
       "count    768.000000\n",
       "mean       3.845052\n",
       "std        3.369578\n",
       "min        0.000000\n",
       "25%        1.000000\n",
       "50%        3.000000\n",
       "75%        6.000000\n",
       "max       17.000000\n",
       "Name: Pregnancies, dtype: float64"
      ]
     },
     "execution_count": 16,
     "metadata": {},
     "output_type": "execute_result"
    }
   ],
   "source": [
    "dataset.describe().iloc[:, 0]\n",
    "# 임신횟수"
   ]
  },
  {
   "cell_type": "code",
   "execution_count": 17,
   "metadata": {},
   "outputs": [
    {
     "data": {
      "text/plain": [
       "count    768.000000\n",
       "mean     120.894531\n",
       "std       31.972618\n",
       "min        0.000000\n",
       "25%       99.000000\n",
       "50%      117.000000\n",
       "75%      140.250000\n",
       "max      199.000000\n",
       "Name: Glucose, dtype: float64"
      ]
     },
     "execution_count": 17,
     "metadata": {},
     "output_type": "execute_result"
    }
   ],
   "source": [
    "dataset.describe().iloc[:, 1]\n",
    "# 포도당 농도"
   ]
  },
  {
   "cell_type": "code",
   "execution_count": 18,
   "metadata": {},
   "outputs": [
    {
     "data": {
      "text/plain": [
       "count    768.000000\n",
       "mean      69.105469\n",
       "std       19.355807\n",
       "min        0.000000\n",
       "25%       62.000000\n",
       "50%       72.000000\n",
       "75%       80.000000\n",
       "max      122.000000\n",
       "Name: BloodPressure, dtype: float64"
      ]
     },
     "execution_count": 18,
     "metadata": {},
     "output_type": "execute_result"
    }
   ],
   "source": [
    "dataset.describe().iloc[:, 2]\n",
    "# 혈압"
   ]
  },
  {
   "cell_type": "code",
   "execution_count": 20,
   "metadata": {},
   "outputs": [
    {
     "data": {
      "text/plain": [
       "count    768.000000\n",
       "mean      20.536458\n",
       "std       15.952218\n",
       "min        0.000000\n",
       "25%        0.000000\n",
       "50%       23.000000\n",
       "75%       32.000000\n",
       "max       99.000000\n",
       "Name: SkinThickness, dtype: float64"
      ]
     },
     "execution_count": 20,
     "metadata": {},
     "output_type": "execute_result"
    }
   ],
   "source": [
    "dataset.describe().iloc[:, 3]\n",
    "# 피부 주름 두께"
   ]
  },
  {
   "cell_type": "code",
   "execution_count": 21,
   "metadata": {},
   "outputs": [
    {
     "data": {
      "text/plain": [
       "count    768.000000\n",
       "mean      79.799479\n",
       "std      115.244002\n",
       "min        0.000000\n",
       "25%        0.000000\n",
       "50%       30.500000\n",
       "75%      127.250000\n",
       "max      846.000000\n",
       "Name: Insulin, dtype: float64"
      ]
     },
     "execution_count": 21,
     "metadata": {},
     "output_type": "execute_result"
    }
   ],
   "source": [
    "dataset.describe().iloc[:, 4]\n",
    "# 혈청 인슐린"
   ]
  },
  {
   "cell_type": "code",
   "execution_count": 22,
   "metadata": {},
   "outputs": [
    {
     "data": {
      "text/plain": [
       "count    768.000000\n",
       "mean      31.992578\n",
       "std        7.884160\n",
       "min        0.000000\n",
       "25%       27.300000\n",
       "50%       32.000000\n",
       "75%       36.600000\n",
       "max       67.100000\n",
       "Name: BMI, dtype: float64"
      ]
     },
     "execution_count": 22,
     "metadata": {},
     "output_type": "execute_result"
    }
   ],
   "source": [
    "dataset.describe().iloc[:, 5]\n",
    "# BMI (체질량 지수)"
   ]
  },
  {
   "cell_type": "code",
   "execution_count": 25,
   "metadata": {},
   "outputs": [
    {
     "data": {
      "text/plain": [
       "count    768.000000\n",
       "mean       0.471876\n",
       "std        0.331329\n",
       "min        0.078000\n",
       "25%        0.243750\n",
       "50%        0.372500\n",
       "75%        0.626250\n",
       "max        2.420000\n",
       "Name: DiabetesPedigreeFunction, dtype: float64"
      ]
     },
     "execution_count": 25,
     "metadata": {},
     "output_type": "execute_result"
    }
   ],
   "source": [
    "dataset.describe().iloc[:, 6]\n",
    "# 당뇨병 혈통 기능"
   ]
  },
  {
   "cell_type": "markdown",
   "metadata": {},
   "source": [
    "<br>\n",
    "\n",
    "언뜻 보면 데이터에 결측치가 없어보이지만, 인슐린이나 혈압, 피부두께, BMI등이 0일 수는 없습니다. 따라서 이 수치들은 결측치라고 이해하고 접근하면 될 것 같습니다. 즉, 결측치는 `isnull().sum()`으로만 확인할 것이 아니라 `describe()`를 이용해서 값을 꼭 분석해보셔야합니다. 여러분이 실제로 사용할 데이터가 이런식으로 주어진다면 결측치를 꼭 제거하고 사용해야 좋은 성능을 얻을 수 있겠죠?"
   ]
  },
  {
   "cell_type": "code",
   "execution_count": 28,
   "metadata": {},
   "outputs": [
    {
     "data": {
      "text/plain": [
       "['Pregnancies',\n",
       " 'Glucose',\n",
       " 'BloodPressure',\n",
       " 'SkinThickness',\n",
       " 'Insulin',\n",
       " 'BMI',\n",
       " 'DiabetesPedigreeFunction',\n",
       " 'Age']"
      ]
     },
     "execution_count": 28,
     "metadata": {},
     "output_type": "execute_result"
    }
   ],
   "source": [
    "feature_columns = df.columns[:-1].tolist()\n",
    "feature_columns\n",
    "\n",
    "# 라벨을 제외한 Feature들을 데이터프레임으로 만듭니다."
   ]
  },
  {
   "cell_type": "code",
   "execution_count": 32,
   "metadata": {},
   "outputs": [
    {
     "data": {
      "text/plain": [
       "['Glucose',\n",
       " 'BloodPressure',\n",
       " 'SkinThickness',\n",
       " 'Insulin',\n",
       " 'BMI',\n",
       " 'DiabetesPedigreeFunction',\n",
       " 'Age']"
      ]
     },
     "execution_count": 32,
     "metadata": {},
     "output_type": "execute_result"
    }
   ],
   "source": [
    "cols = feature_columns[1:]\n",
    "cols\n",
    "\n",
    "# 임신횟수는 실제로 값이 실제로 0이여도 상관 없기 때문에 제외합니다."
   ]
  },
  {
   "cell_type": "code",
   "execution_count": 33,
   "metadata": {},
   "outputs": [
    {
     "data": {
      "text/plain": [
       "Glucose                       5\n",
       "BloodPressure                35\n",
       "SkinThickness               227\n",
       "Insulin                     374\n",
       "BMI                          11\n",
       "DiabetesPedigreeFunction      0\n",
       "Age                           0\n",
       "dtype: int64"
      ]
     },
     "execution_count": 33,
     "metadata": {},
     "output_type": "execute_result"
    }
   ],
   "source": [
    "cols = df[cols].replace(0, np.nan)\n",
    "cols = cols.isnull()\n",
    "cols.sum()"
   ]
  },
  {
   "cell_type": "code",
   "execution_count": 34,
   "metadata": {},
   "outputs": [
    {
     "data": {
      "text/plain": [
       "<matplotlib.axes._subplots.AxesSubplot at 0x228e107e358>"
      ]
     },
     "execution_count": 34,
     "metadata": {},
     "output_type": "execute_result"
    },
    {
     "data": {
      "image/png": "[encoded data removed]",
      "text/plain": [
       "<Figure size 432x288 with 1 Axes>"
      ]
     },
     "metadata": {
      "needs_background": "light"
     },
     "output_type": "display_data"
    }
   ],
   "source": [
    "cols.sum().plot.barh()"
   ]
  },
  {
   "cell_type": "markdown",
   "metadata": {},
   "source": [
    "Age와 DiabetesPedigreeFunction는 0인 데이터가 없고, 나머지는 0인 데이터가 많았으며, 인슐린이나 피부두께는 200 샘플 이상의 데이터가 결측치로 되어있습니다."
   ]
  }
 ],
 "metadata": {
  "kernelspec": {
   "display_name": "Python 3",
   "language": "python",
   "name": "python3"
  },
  "language_info": {
   "codemirror_mode": {
    "name": "ipython",
    "version": 3
   },
   "file_extension": ".py",
   "mimetype": "text/x-python",
   "name": "python",
   "nbconvert_exporter": "python",
   "pygments_lexer": "ipython3",
   "version": "3.6.7"
  }
 },
 "nbformat": 4,
 "nbformat_minor": 4
}
