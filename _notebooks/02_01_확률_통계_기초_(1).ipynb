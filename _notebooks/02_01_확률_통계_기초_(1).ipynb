{
 "cells": [
  {
   "cell_type": "markdown",
   "metadata": {},
   "source": [
    "# 01. 확률과 통계 기초 (1)\n",
    "> 머신러닝에 반드시 필요한 확률과 통계의 기초 이론을 배웁니다.\n",
    "\n",
    "- toc: true \n",
    "- badges: true\n",
    "- comments: true\n",
    "- categories: [Day 2]\n",
    "- permalink: /probability_statics\n",
    "- exec: colab"
   ]
  },
  {
   "cell_type": "markdown",
   "metadata": {},
   "source": [
    "우리는 이전 시간에 선형대수학과 그것들을 코드 상에서 어떻게 다루는지에 대해 배웠습니다. 이전에도 말씀드렸지만 선형대수학은 머신러닝의 What(무엇을?)에 해당합니다. 즉, 우리는 머신러닝에서 선형대수의 Tensor를 다룹니다. \n",
    "<br><br>\n",
    "\n",
    "그러면 이 선형대수에서 배운 텐서조각들을 어떻게 활용해야 유의미한 결과를 도출할 수 있을까요? 여기에서 우리는 확률과 통계이론을 배웁니다. 텐서조각들로 확률 계산을 수행해 유의미한 결과를 도출할 것이기 때문입니다. 즉, 확률과 통계는 머신러닝의 How(어떻게?)에 해당합니다."
   ]
  },
  {
   "cell_type": "markdown",
   "metadata": {},
   "source": [
    "<br>\n",
    "\n",
    "### 1. Fundamental of Probability\n",
    "가장 먼저 확률에 대해 공부하기 전에 확률론의 대상이 되는 시행, 집합, 사건 등의 말에 대한 정의를 알아봅시다. 가장 먼저 우리가 주사위를 한 번 던진다고 해봅시다. 그러면 주사위의 6개의 눈 중 한 가지의 눈이 나올 것입니다. 이 때, 이렇게 **주사위를 던지는 행위를 우리는 '시행(Trial)'이라고 합니다.** 시행은 동일한 조건에서 반복해서 수행 가능해야하며, 결과가 우연에 의해 지배되어야합니다. 즉, 마음대로 결과를 조작할 수 없어야합니다.\n",
    "<br><br>\n",
    "\n",
    "![img](https://github.com/gusdnd852/bigdata-lecture/blob/master/_notebooks/img/Day2/01.jpg?raw=true)\n",
    "\n",
    "여러분이 주사위를 한 번 던지면, 1이 나올 수도, 2가 나올 수도, 3이 나올 수도 있습니다. 그러나 주사위를 한 번 던졌기 때문에, 한가지 숫자만 나오고, 2와 3이 동시에 나오는 경우는 없겠죠?\n",
    "<br><br>\n",
    "\n",
    "![img](https://github.com/gusdnd852/bigdata-lecture/blob/master/_notebooks/img/Day2/02.jpg?raw=true)\n",
    "\n",
    "이 때, **나올 수 있는 모든 경우를 가리켜서 '표본공간(Sample Space)'라고 합니다.** 즉, 표본 공간이란 가능한 모든 결과들의 집합이라고 할 수 있습니다\n",
    "<br><br>\n",
    "\n",
    "\n",
    "![img](https://github.com/gusdnd852/bigdata-lecture/blob/master/_notebooks/img/Day2/03.jpg?raw=true)\n",
    "\n",
    "그리고 이 때, **발생 가능한 각각의 눈을 '원소(Element)'라고 합니다.** 위 처럼 2도 원소이고 3도 원소이고 6도 원소입니다.\n",
    "<br><br>\n",
    "\n",
    "![img](https://github.com/gusdnd852/bigdata-lecture/blob/master/_notebooks/img/Day2/04.jpg?raw=true)\n",
    "\n",
    "자, 이제 여기에서 눈이 3보다 작은 경우만 생각해봅시다. 언제 눈이 3보다 작을까요?\n",
    "<br><br>\n",
    "\n",
    "![img](https://github.com/gusdnd852/bigdata-lecture/blob/master/_notebooks/img/Day2/05.jpg?raw=true)\n",
    "\n",
    "네. 바로 녹색 동그라미의 경우들. {1}이거나 {2}일 때입니다. 그럼 이러한 '경우'를 지칭하는 말이 있었으면 좋겠는데요.\n",
    "<br><br>\n",
    "\n",
    "\n",
    "![img](https://github.com/gusdnd852/bigdata-lecture/blob/master/_notebooks/img/Day2/06.jpg?raw=true)\n",
    "\n",
    "이렇게 **전체 표본공간 중, 특수한 '경우'를 나타내는 것을 '사건(Event)'라고 합니다.** '사건'은 확률의 기본 요소(선형대수의 '벡터'처럼)이면서, 앞서 이야기한 **표본 공간의 '부분집합'** 입니다. 즉, 우리는 이 사건들을 가지고 확률에 대해 생각해 볼 것입니다. \n",
    "<br><br>\n",
    "\n",
    "\n",
    "![img](https://github.com/gusdnd852/bigdata-lecture/blob/master/_notebooks/img/Day2/08.jpg?raw=true)\n",
    "\n",
    "또 다른 예를 하나 들어볼까요? 제가 중국집에 갔다고 가정해보겠습니다. 중국집에는 메뉴가 짜장면, 짬뽕, 탕수육이라는 3개의 메뉴가 있었습니다. 이 때 표본공간은 {}, {짜장면}, {짬뽕}, {탕수육}, {짜장면, 짬뽕}, {짜장면, 탕수육}, {짬뽕, 탕수육}, {짜장면, 짬뽕, 탕수육}이며, 위 8가지 경우는 '원소'에 해당합니다. \n",
    "<br><br>\n",
    "\n",
    "![img](https://github.com/gusdnd852/bigdata-lecture/blob/master/_notebooks/img/Day2/13.jpg?raw=true)\n",
    "\n",
    "이 때, 제 의지와 상관 없이 룰렛을 돌려서 메뉴를 주문한다고 생각해봅시다. 룰렛에 있는 '짜장면만 시킬 경우'가 사건 A이고, 제가 '짜장면을 시킬 경우'가 사건 B라고 합시다. 그렇다면 사건 A는 {짜장면}이 되고, 사건 B는 {짜장면}, {짜장면, 탕수육}, {짬뽕, 짜장면}, {짜장면, 짬뽕, 탕수육}중 한 가지가 되겠죠? 이해가 좀 가시나요? 그런데 아까부터 표본공간과 사건을 이야기할 때 제가 '집합'에 대해 언급했습니다. 집합이란 무엇일까요?"
   ]
  },
  {
   "cell_type": "markdown",
   "metadata": {},
   "source": [
    "<br><br>\n",
    "\n",
    "### 2. 집합이란?\n",
    "\n",
    "![](https://lh3.googleusercontent.com/proxy/hZoA8ICJ__KfZNGh_ZcxtUOdhk5R3GNehZhWKwTNLHHijTn2JFYv33o41fKp79ItIo5bpp9qJ3zSAjmY8ifDXEoLQ229EodbTylX-L4J_skz8RFo8ZImuNunmYacT-9eELCcJ7L-o5DabYsZANKmg5lebFHzodY)\n",
    "\n",
    "먼저 확률을 공부하기 전에 집합에 대해서 알아야합니다. 집합이란 어떠한 자료가 **순서 없이, 중복 없이** 저장된 자료구조를 말합니다. 이 것은 리스트나 벡터와 상당히 다른 특징인데요. 파이썬에서도 set()으로 집합을 생성할 수 있습니다. 코드의 실행 결과를 보면서 리스트(벡터)와 집합의 차이를 알아 볼까요?"
   ]
  },
  {
   "cell_type": "code",
   "execution_count": 36,
   "metadata": {},
   "outputs": [
    {
     "name": "stdout",
     "output_type": "stream",
     "text": [
      "set :  set()\n",
      "list :  []\n"
     ]
    }
   ],
   "source": [
    "# 집합과 리스트 생성\n",
    "set_a = set()\n",
    "list_a = list()\n",
    "\n",
    "print('set : ', set_a)\n",
    "print('list : ', list_a)"
   ]
  },
  {
   "cell_type": "code",
   "execution_count": 37,
   "metadata": {},
   "outputs": [
    {
     "name": "stdout",
     "output_type": "stream",
     "text": [
      "set :  {3}\n",
      "list :  [3]\n"
     ]
    }
   ],
   "source": [
    "# 집합과 리스트에 3을 추가\n",
    "set_a.add(3)\n",
    "list_a.append(3)\n",
    "\n",
    "print('set : ', set_a)\n",
    "print('list : ', list_a)"
   ]
  },
  {
   "cell_type": "code",
   "execution_count": 38,
   "metadata": {},
   "outputs": [
    {
     "name": "stdout",
     "output_type": "stream",
     "text": [
      "set :  {3}\n",
      "list :  [3, 3]\n"
     ]
    }
   ],
   "source": [
    "# 집합과 리스트에 3을 추가\n",
    "set_a.add(3)\n",
    "list_a.append(3)\n",
    "\n",
    "print('set : ', set_a) # 중복이 없기 때문에 저장되지 않음\n",
    "print('list : ', list_a) # 중복이 허용되기 때문에 저장됨"
   ]
  },
  {
   "cell_type": "code",
   "execution_count": 39,
   "metadata": {},
   "outputs": [
    {
     "name": "stdout",
     "output_type": "stream",
     "text": [
      "set :  {3}\n",
      "list :  [3, 3, 3]\n"
     ]
    }
   ],
   "source": [
    "# 집합과 리스트에 한번 더 3을 추가\n",
    "set_a.add(3)\n",
    "list_a.append(3)\n",
    "\n",
    "print('set : ', set_a) # 중복이 없기 때문에 저장되지 않음\n",
    "print('list : ', list_a) # 중복이 허용되기 때문에 저장됨"
   ]
  },
  {
   "cell_type": "code",
   "execution_count": 40,
   "metadata": {},
   "outputs": [
    {
     "name": "stdout",
     "output_type": "stream",
     "text": [
      "set :  {1, 3}\n",
      "list :  [3, 3, 3, 1]\n"
     ]
    }
   ],
   "source": [
    "# 집합과 리스트에 1을 추가\n",
    "set_a.add(1)\n",
    "list_a.append(1)\n",
    "\n",
    "print('set : ', set_a) # 순서가 없기 때문에 아무렇게 저장\n",
    "print('list : ', list_a) # 순서가 있기 때문에 들어온 순서대로 차곡차곡 저장"
   ]
  },
  {
   "cell_type": "code",
   "execution_count": 41,
   "metadata": {},
   "outputs": [
    {
     "name": "stdout",
     "output_type": "stream",
     "text": [
      "set :  {0, 1, 3}\n",
      "list :  [3, 3, 3, 1, 0]\n"
     ]
    }
   ],
   "source": [
    "# 집합과 리스트에 0을 추가\n",
    "set_a.add(0)\n",
    "list_a.append(0)\n",
    "\n",
    "print('set : ', set_a) # 순서가 없기 때문에 아무렇게 저장\n",
    "print('list : ', list_a) # 순서가 있기 때문에 들어온 순서대로 차곡차곡 저장"
   ]
  },
  {
   "cell_type": "markdown",
   "metadata": {},
   "source": [
    "<br>\n",
    "\n",
    "이제 집합에 **중복과 순서**가 없다는 말이 무슨 말인지 아시겠죠? \n",
    "<br><br>\n",
    "\n",
    "![img](https://github.com/gusdnd852/bigdata-lecture/blob/master/_notebooks/img/Day2/09.jpg?raw=true)\n",
    "\n",
    "우리는 확률에서 **'사건'** 을 기본 요소로 다룹니다. 그리고 표본공간 중에서 그 사건들이 발생할 **'확률'** 을 계산하게 될 것입니다. 여기에서 반드시 기억하셔야할 내용은 **'표본 공간'** 은 발생할 수 있는 모든 원소의 **집합** (중복과 순서가 없음)이며, **사건은 표본공간의 부분 집합(Subset)** 입니다."
   ]
  },
  {
   "cell_type": "markdown",
   "metadata": {},
   "source": [
    "<br>\n",
    "\n",
    "### 3. 집합의 연산과 표기법\n",
    "집합에는 몇가지 연산이 있습니다. 바로 '합집합', '교집합', '차집합', '여집합' 등이 있는데요. 집합과 집합 사이에서 아래와 같은 연산을 하면 결과 집합이 반환합니다. 아래에서 알아봅시다. (중학교 1학년 때 배우는건데, 이 정도 내용은 다들 아실 것이라고 가정하고 가볍게 서머리만 하고 넘어갑니다.)\n",
    "\n",
    "<br>\n",
    "\n",
    "#### 3.1. 교집합 (곱사건)\n",
    "\n",
    "![](https://t1.daumcdn.net/cfile/tistory/145A8333502E0B4C0A)\n",
    "\n",
    "교집합은 두 집합의 곱을 의미합니다. 두 집합 A, B 모두에 해당되는 집합을 바로 교집합이라고 합니다. 사건에서는 3의 배수 **'이면서'** 2의 배수인 사건 = {6, 12, 18, ...} 등을 나타낼 때 쓰입니다.\n",
    "<br><br>\n",
    "\n",
    "\n",
    "#### 3.2. 합집합 (합사건)\n",
    "\n",
    "![](https://t1.daumcdn.net/cfile/blog/20654B45511EF8CD23)\n",
    "\n",
    "합집합은 두 집합의 합을 의미합니다. 두 집합에서 발생 할 수 있는 모든 경우를 말합니다. 그러나, 그냥 집합 두개를 더하면 교집합 부분이 겹쳐서 더해지므로 A + B - (A n B)처럼 계산합니다. 사건에서는 3의 배수 **'또는'** 2의 배수인 사건 = {2, 3, 4, 6, 8, 9, 12, ...}등을 나타낼 때 쓰입니다.\n",
    "<br><br>\n",
    "\n",
    "#### 3.3. 차집합 (차사건)\n",
    "\n",
    "![](https://t1.daumcdn.net/cfile/tistory/15130245502E083F28)\n",
    "\n",
    "차집합은 두 집합의 차를 의미합니다. 집합A 에서 집합B와의 교집합부분을 제외한 순수한 집합 A만을 의미합니다. 3의 배수 **'이지만'** 2의 배수는 아닌 사건 = {3, 9, 15, 21, ...}등을 나타낼 때 쓰입니다.\n",
    "<br><br>\n",
    "\n",
    "#### 3.4. 여집합 (여사건)\n",
    "\n",
    "![](https://t1.daumcdn.net/cfile/tistory/1319C245502E083F1F)\n",
    "\n",
    "여집합은 해당 집합을 제외한 나머지 전부를 의미합니다. $A^C$와 같이 표기합니다. 3의 배수가 **'아닌'** 사건 = {1, 2, 4, 5, 7, 8, 10, 11, ...}등을 나타낼 때 쓰입니다.\n",
    "<br><br>\n",
    "\n",
    "#### 3.5. 집합의 표기법\n",
    "- 원소 나열법 : {1, 2, 3, 5}와 같이 원소를 나열합니다.\n",
    "- 조건 제시법 : {x|x > 2}와 같이 조건을 제시합니다.\n",
    "\n",
    "앞으로 위의 두가지 방법으로 사건(집합)을 표기하려고 합니다."
   ]
  },
  {
   "cell_type": "markdown",
   "metadata": {},
   "source": [
    "<br>\n",
    "\n",
    "### 3. 근원 사건\n",
    "\n",
    "근원사건에 대해 이야기해볼까 합니다. 근원사건은 사건의 원소가 딱 1개일 때를 말합니다. 아래의 예시를 볼까요?\n",
    "<br><br>\n",
    "\n",
    "![img](https://github.com/gusdnd852/bigdata-lecture/blob/master/_notebooks/img/Day2/08.jpg?raw=true)\n",
    "\n",
    "만약 제가 '짜장면만 주문할 경우(사건 A)'를 이야기 한다면 {짜장면}이외에는 어떤 경우도 존재하지 않습니다. 때문에 이러한 사건은 근원사건입니다. 그에 비해 제가 '짜장면을 주문할 경우(사건 B)'는 다른 메뉴도 주문할 수 있다는 것이기 때문에 {짜장면}, {짜장면, 짬뽕}, {짜장면, 탕수육} 등이 존재합니다. 따라서 이런 사건은 근원사건이 아닙니다. 근원사건은 중요한 개념이니 잘 알아두시길 바랍니다.\n"
   ]
  },
  {
   "cell_type": "markdown",
   "metadata": {},
   "source": [
    "<br>\n",
    "\n",
    "### 4. 배반 사건\n",
    "\n",
    "이번엔 배반사건에 대해 알아봅니다. 배반사건은 교집합이 존재하지 않는 사건들을 말합니다. 아래의 예시를 볼까요?\n",
    "<br><br>\n",
    "\n",
    "![img](https://github.com/gusdnd852/bigdata-lecture/blob/master/_notebooks/img/Day2/10.jpg?raw=true)\n",
    "\n",
    "사건 A는 짜장면'만' 시키는 사건이고 사건 B는 짬뽕 '만' 시키는 사건입니다. 두 사건 사이에 어떠한 공유원소도 없기 때문에 이러한 경우를 배반사건이라고 합니다. 배반사건 역시 굉장히 중요한 개념이니 잘 익혀두시길 바랍니다.\n",
    "\n"
   ]
  },
  {
   "cell_type": "markdown",
   "metadata": {},
   "source": [
    "<br>\n",
    "\n",
    "### 5. 확률\n",
    "\n",
    "자 이제 우리가 확률을 공부하기 위한 선행조건을 모두 끝냈습니다. 이제 확률에 대해 이야기해봅시다. 확률은 여러가지의 정의가 있습니다. 가장 먼저 수학적 확률, 그리고 기하학적 확률, 마지막으로 공리적 확률에 대해 알아봅시다.\n",
    "<br><br>\n",
    "\n",
    "#### 5.1. 수학적 확률 (라플라스 확률)\n",
    "확률의 역사에서 가장 처음 등장한 확률의 개념은 바로 라플라스의 수학적 확률입니다. 수학적 확률에서 주의할 것은 수학적 확률을 계산하기 위해서는 반드시 **'근원 사건이 일어날 가능성이 모두 같을 때'** 라는 조건이 있습니다. 예를 들면, 우리가 주사위를 한번 던진다고 할 때, 근원사건은 {1}, {2}, {3}, ... , {6}로 총 6가지가 있습니다. \n",
    "<br><br>\n",
    "\n",
    "![](https://upload.wikimedia.org/wikipedia/commons/thumb/4/4c/Fair_dice_probability_distribution.svg/1200px-Fair_dice_probability_distribution.svg.png)\n",
    "\n",
    "우리는 흔히 이 여섯개의 근원사건이 발생할 확률은 $\\frac{1}{6}$로 모두 똑같다고 합니다. 이들이 일어날 확률이 같다는 것은 모든 근원사건이 일어날 가능성이 같다는 것으로 이해할 수 있습니다. 이렇게 모든 근원 사건이 일어날 확률이 같을 때는 우리가 \"수학적 확률을 계산한다\"라고 말 할수 있습니다.\n",
    "<br><br>\n",
    "\n",
    "우리가 이 때, 수학적 확률을 계산할 때는 아래와 같은 방법으로 계산합니다.\n",
    "\n",
    "![img](https://github.com/gusdnd852/bigdata-lecture/blob/master/_notebooks/img/Day2/11.jpg?raw=true)\n",
    "\n",
    "확률은 영어로 Probability이기 때문에 확률을 나타내는 함수를 우리는 P라고 부릅니다. 수학적 확률에서는 표본공간S의 부분집합인 사건 A가 일어날 확률을 $P(A) = \\frac{n(A)}{n(S)}$로 정의 합니다. 즉, 표본공간이 {1}, {2}, {3}, ... , {6}로 총 6가지이고, 그 중에서 한가지 사건이 일어날 확률이므로 $\\frac{1}{6}$이 됩니다. 여기에서 우리는 중요한 성질을 알 수 있는데, 근원사건의 전체 갯수에서 한가지가 일어날 확률이기 때문에, 사건A 는 근원사건의 전체를 넘을 수 없습니다. 따라서 확률 P(A)는 0 ~ 1의 범위를 가지게 됩니다. \n",
    "<br><br>\n",
    "\n",
    "그러나 경우의 수나 원소의 수를 셀 수 없는 경우에는 어떻게 할까요? 예를 들어 아래와 같이 우리가 양궁을 한다고 해봅시다. \n",
    "<br><br>\n",
    "\n",
    "![](https://data.ac-illust.com/data/thumbnails/0f/0f30392fce08598d9746b81440a9f87a_t.jpeg)\n",
    "\n",
    "양궁의 화살은 해당 영역의 어디든 꽂힐 수 있습니다. 중앙으로부터 0.5cm부근에도, 0.49cm부근에도, 0.499cm부근에도 양궁의 화살이 꽂힐 수 있습니다. 그러면 0.5cm부근에서 일어날 경우, 0.49cm, 0.499cm, 0.4999cm 등등 모든 경우를 표본공간에 넣고 갯수를 세는게 가능할까요? 정답은 거의 불가능합니다. 이러한 문제를 해결하기 위해 기하학적 확률이라는 것이 등장했습니다."
   ]
  }
 ],
 "metadata": {
  "kernelspec": {
   "display_name": "Python 3",
   "language": "python",
   "name": "python3"
  },
  "language_info": {
   "codemirror_mode": {
    "name": "ipython",
    "version": 3
   },
   "file_extension": ".py",
   "mimetype": "text/x-python",
   "name": "python",
   "nbconvert_exporter": "python",
   "pygments_lexer": "ipython3",
   "version": "3.6.7"
  }
 },
 "nbformat": 4,
 "nbformat_minor": 4
}
