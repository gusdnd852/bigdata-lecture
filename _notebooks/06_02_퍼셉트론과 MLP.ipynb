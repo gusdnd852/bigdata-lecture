{
 "cells": [
  {
   "cell_type": "markdown",
   "metadata": {},
   "source": [
    "# 02. 퍼셉트론과 다층 퍼셉트론\n",
    "> 인공신경망 알고리즘인 퍼셉트론에 대해 배워봅시다.\n",
    "\n",
    "- toc: true \n",
    "- badges: true\n",
    "- comments: true\n",
    "- categories: [Day 5]\n",
    "- permalink: /perceptron\n",
    "- exec: colab"
   ]
  },
  {
   "cell_type": "markdown",
   "metadata": {},
   "source": [
    "<br>\n",
    "\n",
    "### 1. 퍼셉트론의 탄생 배경\n",
    "\n",
    "![](https://assets-global.website-files.com/5bc662b786ecfc12c8d29e0b/5d018a9ba972742ad9698ed9_deep%20learning.jpg)\n",
    "\n",
    "인공지능(AI)은 우리 사람의 뇌를 흉내내는 인공신경망(딥러닝)과 다양한 머신러닝 알고리즘을 통해 구현됩니다. 이전 수업에서도 잠시 언급했던 딥러닝 알고리즘이 현재 가장 널리 사용되는 인공지능을 위한 알고리즘이죠. 이런 딥러닝도 수십년전에 개념이 정립되었던 초기 인공신경망으로부터 발전된 것이라 볼 수 있습니다. 여기서 소개할 퍼셉트론은 이해하기가 다소 까다로울수 있지만 앞으로 계속 등장할 딥러닝의 다양한 내용을 위한 기초 개념이 되므로 이해하고 넘어가는 것이 좋습니다.\n",
    "<br><br>\n",
    "\n",
    "![](https://github.com/gusdnd852/bigdata-lecture/blob/master/_notebooks/img/Day6/11.gif?raw=true)\n",
    "\n",
    "우리 사람의 뇌는 신경계를 구성하는 주된 세포인 뉴런(neuron)을 약 1000억개 정도 가지고 있으며, 뉴런들은 시냅스라는 구조를 통해 전기, 화학적 신호를 주고 받음으로써 다양한 정보를 받아들이고, 그 정보를 저장하는 기능을 수행합니다. 위 그림은 하나의 뉴런에서 신호를 입력 받고 그에 대한 결과 신호를 출력하는 개념을 도식화 한 것입니다.\n",
    "<br><br>\n",
    "\n",
    "\n",
    "인간의 뉴런은 다음과 같은 메커니즘으로 작동합니다. 여러 방향에서 들어오는 전기적 신호들을 가지돌기(Dendrite)에서 입력받습니다. 가지돌기에서 입력된 신호들이 세포핵 부근에서 모입니다. 모여진 전기적 자극이 축삭돌기(Axon)를 따라 이동합니다. 이동 후에 입력되어 모인 전기적 자극의 크기가 일정 값(역치) 이상이면 다음 뉴런으로 신호를 전달하고, 만약 일정 값(역치)보다 낮으면 다음 뉴런으로 신호를 전달하지 않습니다. <br><br>\n",
    "\n",
    "![](https://t3.daumcdn.net/thumb/R720x0/?fname=http://t1.daumcdn.net/brunch/service/user/301t/image/XcA97WckMIJnlE3Vrw8puEIAfDo.jpg)\n",
    "<br><br>\n",
    "\n",
    "1943년 신경과학자인 Warren S. McCulloch과 논리학자인 Walter Pitts는 하나의 사람 뇌 신경세포를 단순 논리 게이트로 설명했습니다. 위 그림에서 여러 개의 입력 신호가 가지돌기(Dendrite)에 도착하면 신경세포 내에서 이들을 하나의 신호로 통합하고, 통합된 신호 값이 어떤 임계값을 초과하면 하나의 단일 신호가 생성되며, 이 신호가 축삭돌기(Axon)를 통해 다른 신경세포로 전달하는 것으로 이해했습니다. 이렇게 단순화 된 원리로 동작하는 뇌 세포를 McCulloch-Pitts뉴런(MCP 뉴런)이라 부릅니다.\n",
    "<br><br>\n",
    "\n",
    "![](https://github.com/gusdnd852/bigdata-lecture/blob/master/_notebooks/img/Day6/12.png?raw=true)\n",
    "\n",
    "1957년 코넬 항공 연구소에 근무하던 Frank Rosenblatt은 MCP 뉴런 모델을 기초로 **퍼셉트론(Perceptron) 학습 규칙**이라는 개념을 고안하게 되는데, Rosenblatt은 하나의 MCP 뉴런이 출력신호를 발생할지 안할지 결정하기 위해, MCP 뉴런으로 들어오는 각 입력값에 곱해지는 가중치 값을 자동적으로 학습하는 알고리즘을 제안했습니다.\n",
    "\n",
    "​이 알고리즘은 머신러닝의 지도학습이나 뷴류(classification)의 맥락에서 볼 때, 하나의 샘플이 어떤 클래스에 속해 있는지 예측하는데 사용될 수 있습니다.\n"
   ]
  }
 ],
 "metadata": {
  "kernelspec": {
   "display_name": "Python 3",
   "language": "python",
   "name": "python3"
  },
  "language_info": {
   "codemirror_mode": {
    "name": "ipython",
    "version": 3
   },
   "file_extension": ".py",
   "mimetype": "text/x-python",
   "name": "python",
   "nbconvert_exporter": "python",
   "pygments_lexer": "ipython3",
   "version": "3.6.7"
  }
 },
 "nbformat": 4,
 "nbformat_minor": 4
}
