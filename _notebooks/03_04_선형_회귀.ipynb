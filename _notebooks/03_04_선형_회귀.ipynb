{
 "cells": [
  {
   "cell_type": "markdown",
   "metadata": {},
   "source": [
    "### 1. 선형 회귀(linear regression) 알고리즘 이란?\n",
    "\n",
    "![](https://mlfromscratch.com/content/images/2020/01/linearRegression2-3.png)\n",
    "\n",
    "이번에 알려드릴 선형 회귀(linear regression) 알고리즘은 머신 러닝에 기초가 되는 회귀 알고리즘입니다. 선형 회귀 알고리즘은 데이터 샘플에 맞는 **최적의 선형 함수**를 구하고 이를 통해 예측값을 산출하는 회귀 알고리즘입니다. \n",
    "<br><br>\n",
    "\n",
    "그러나 모든 경우에 사용할 수는 없고, 선형 회귀는 **\"우리가 예측하고자 하는 데이터는 선형적인 특성을 갖고 있다. 즉, 선형 모델($H(x_i) = w \\cdot x_i$)에 적합하다.\"** 라는 가정이 있을 때만 사용합니다.\n",
    "<br><br>"
   ]
  },
  {
   "cell_type": "markdown",
   "metadata": {},
   "source": [
    "가장 기초적인 머신러닝 알고리즘인 선형회귀에 대해 배워봅시다.\n",
    "<br><br>"
   ]
  },
  {
   "cell_type": "markdown",
   "metadata": {},
   "source": [
    "# 04. 선형회귀법\n",
    "> 가장 기초적인 머신러닝 알고리즘인 선형회귀에 대해 배워봅시다.\n",
    "\n",
    "- toc: true \n",
    "- badges: true\n",
    "- comments: true\n",
    "- categories: [Day 3]\n",
    "- permalink: /linear_regression\n",
    "- exec: colab"
   ]
  },
  {
   "cell_type": "code",
   "execution_count": null,
   "metadata": {},
   "outputs": [],
   "source": []
  }
 ],
 "metadata": {
  "kernelspec": {
   "display_name": "Python 3",
   "language": "python",
   "name": "python3"
  },
  "language_info": {
   "codemirror_mode": {
    "name": "ipython",
    "version": 3
   },
   "file_extension": ".py",
   "mimetype": "text/x-python",
   "name": "python",
   "nbconvert_exporter": "python",
   "pygments_lexer": "ipython3",
   "version": "3.6.7"
  }
 },
 "nbformat": 4,
 "nbformat_minor": 4
}
