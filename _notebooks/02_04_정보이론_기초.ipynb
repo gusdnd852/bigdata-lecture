{
 "cells": [
  {
   "cell_type": "markdown",
   "metadata": {},
   "source": [
    "# 04. 정보이론 기초\n",
    "> 머신러닝에 반드시 필요한 정보이론의 기초 이론을 배웁니다.\n",
    "\n",
    "- toc: true \n",
    "- badges: true\n",
    "- comments: true\n",
    "- categories: [Day 2]\n",
    "- permalink: /information_theory\n",
    "- exec: colab"
   ]
  },
  {
   "cell_type": "markdown",
   "metadata": {},
   "source": [
    "머신러닝의 학습의핵심 아이디어 중 한가지인 정보이론의 Entropy, Cross Entropy, KL-Divergence 등의 개념에 대해 배우고, One-hot 인코딩 등의 몇가지 팁을 배워봅시다."
   ]
  },
  {
   "cell_type": "markdown",
   "metadata": {},
   "source": []
  }
 ],
 "metadata": {
  "kernelspec": {
   "display_name": "Python 3",
   "language": "python",
   "name": "python3"
  },
  "language_info": {
   "codemirror_mode": {
    "name": "ipython",
    "version": 3
   },
   "file_extension": ".py",
   "mimetype": "text/x-python",
   "name": "python",
   "nbconvert_exporter": "python",
   "pygments_lexer": "ipython3",
   "version": "3.6.7"
  }
 },
 "nbformat": 4,
 "nbformat_minor": 4
}
