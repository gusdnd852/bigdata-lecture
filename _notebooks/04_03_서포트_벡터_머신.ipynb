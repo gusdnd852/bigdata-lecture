{
 "cells": [
  {
   "cell_type": "markdown",
   "metadata": {},
   "source": [
    "# 03. 서포트 벡터 머신\n",
    "> 커널기반의 서포트 벡터머신 알고리즘을 배워보고 실습을 진행해봅시다.\n",
    "\n",
    "- toc: true \n",
    "- badges: true\n",
    "- comments: true\n",
    "- categories: [Day 4]\n",
    "- permalink: /svm\n",
    "- exec: colab"
   ]
  },
  {
   "cell_type": "markdown",
   "metadata": {},
   "source": [
    "<br><br>\n",
    "\n",
    "### 1. 선을 조금 더 잘 그어보자"
   ]
  },
  {
   "cell_type": "markdown",
   "metadata": {},
   "source": [
    "로지스틱 회귀알고리즘에서 우리는 데이터를 분류하는 선(Decision Boundary)을 긋는 방법에 대해서 배웠습니다. 그런데, 데이터를 분류하기 위해 선을 1개가 아니라 여러개의 선을 그을 수 있습니다. 아래 그림을 볼까요?\n",
    "<br><br>\n",
    "\n",
    "![](https://github.com/gusdnd852/bigdata-lecture/blob/master/_notebooks/img/Day4/01.png?raw=True)\n",
    "\n",
    "빨간색 네모와 파라색 원을 분류하기 위해 위 처럼 다양한 녹색 선을 그을 수 있습니다. 그러면 저렇게 다양한 선 중에서 과연 어떤 선이 좋은 선일까요?\n",
    "<br><br>\n",
    "\n",
    "![](https://img1.daumcdn.net/thumb/R800x0/?scode=mtistory2&fname=https%3A%2F%2Ft1.daumcdn.net%2Fcfile%2Ftistory%2F997C183B5E3A554502)\n",
    "\n",
    "서포트 벡터 머신은 로지스틱 회귀에서 한 단계 더 발전 시켜서 분류하기 좋은 선을 찾아냅니다. 분류를 위한 결정 선이 기본적으로 데이터들과 위치상 멀어야 한다는 것을 전제로 하고 선을 긋는 방법에 대해 학습합니다."
   ]
  }
 ],
 "metadata": {
  "kernelspec": {
   "display_name": "Python 3",
   "language": "python",
   "name": "python3"
  },
  "language_info": {
   "codemirror_mode": {
    "name": "ipython",
    "version": 3
   },
   "file_extension": ".py",
   "mimetype": "text/x-python",
   "name": "python",
   "nbconvert_exporter": "python",
   "pygments_lexer": "ipython3",
   "version": "3.6.7"
  }
 },
 "nbformat": 4,
 "nbformat_minor": 4
}
