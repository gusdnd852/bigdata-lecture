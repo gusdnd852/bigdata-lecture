{
 "cells": [
  {
   "cell_type": "markdown",
   "metadata": {},
   "source": [
    "# 05. 로지스틱 회귀 알고리즘\n",
    "> 가장 기초적인 분류 알고리즘인 로지스틱회귀에 대해 배워봅시다.\n",
    "\n",
    "- toc: true \n",
    "- badges: true\n",
    "- comments: true\n",
    "- categories: [Day 3]\n",
    "- permalink: /linear_regression\n",
    "- exec: colab"
   ]
  },
  {
   "cell_type": "markdown",
   "metadata": {},
   "source": [
    "가장 기초적인 머신러닝 분류 알고리즘인 로지스틱 회귀에 대해 배워보고, 실습을 진행해보겠습니다.\n",
    "<br><br>\n"
   ]
  },
  {
   "cell_type": "markdown",
   "metadata": {},
   "source": [
    "### 1. 로지스틱 회귀(logistic regression) 알고리즘 이란?\n",
    "\n",
    "![](https://t1.daumcdn.net/cfile/tistory/99F325485C7B76BC2B)\n",
    "\n",
    "이번에 알려드릴 로지스틱 회귀(logistic regression) 알고리즘은 선형 회귀 다음으로 간단한 분류, 회귀 알고리즘입니다. 로지스틱 회귀 알고리즘은 데이터 샘플에 맞는 최적의 로지스틱 함수를 구하고 이를 통해 (데이터 특성으로) 예측값을 추출하는 알고리즘입니다. 선형 회귀와 함수 모양이 다를 뿐 원리는 비슷하다고 볼 수 있습니다. 이름은 회귀라고 하지만, 본 강의에서는 분류 알고리즘으로 설명하겠습니다. (원래는 오직 분류목적으로 쓰이는 것이 아니라서 이름이 그런것입니다.)"
   ]
  },
  {
   "cell_type": "markdown",
   "metadata": {},
   "source": [
    "<br>\n",
    "\n",
    "### 2. 회귀를 해봤으니, 이제 분류를 해보자\n",
    "\n",
    "![](https://github.com/gusdnd852/bigdata-lecture/blob/master/_notebooks/img/Day3/15.png?raw=true)\n",
    "\n",
    "이전 시간에 선형회귀에 대해 배웠으니 이번엔 분류를 해봅시다. 선형회귀 모델의 출력은 연속형입니다. 이 연속형 값이 전체의 절반을 넘었으면 출력을 1, 절반을 못넘겼으면 출력을 0이라고 해서 분류 할 수 있을거라고 생각해봅시다. 예를 들자면, 위 그림(x:공부시간, y:합격여부)처럼 시험공부를 1시간, 2시간, 3시간한 친구들은 시험에서 떨어졌고, 시험공부를 4시간, 5시간, 6시간 한 친구들은 시험에 붙었다고 합시다. <br><br>\n",
    "<br><br>\n",
    "\n",
    "![](https://github.com/gusdnd852/bigdata-lecture/blob/master/_notebooks/img/Day3/16.png?raw=true)\n",
    "\n",
    "그러면 이전에 했던것과 비슷하게 선형회귀 모델을 사용해서 직선을 하나 찾고, 직선의 중간쯤을 넘어가면 불합격, 직선의 중간쯤을 넘어가면 합격이라고 예상할 수도 있지 않을까요? \n",
    "<br><br>\n",
    "\n",
    "![](https://github.com/gusdnd852/bigdata-lecture/blob/master/_notebooks/img/Day3/17.png?raw=true)\n",
    "\n",
    "선형회귀의 출력은 연속형이니까 뭔가 그럴싸 해보입니다. 출력이 0.5를 넘어가면 1(합격), 0.5를 넘지 못하면 0(불합격)이라고 생각할 수 있을 것 같습니다. 그러나 여기에는 커다란 문제가 있습니다.\n",
    "<br><br>\n",
    "\n",
    "![](https://github.com/gusdnd852/bigdata-lecture/blob/master/_notebooks/img/Day3/18.png?raw=true)\n",
    "\n",
    "만약 빨간 네모칸에 있는 데이터가 입력되었다고 해봅시다. 이 학생은 공부를 상당히 많이 했습니다. 그래서 x축의 가장 끝쪽에 위치합니다. 하지만 여기에서 문제가 발생합니다. 이 데이터가 들어오면 선형회귀 직선이 이 데이터에게 크게 영향을 받게 됩니다. \n",
    "<br><br>\n",
    "\n",
    "![](https://github.com/gusdnd852/bigdata-lecture/blob/master/_notebooks/img/Day3/20.png?raw=true)\n",
    "\n",
    "![](https://github.com/gusdnd852/bigdata-lecture/blob/master/_notebooks/img/Day3/19.png?raw=true)\n",
    "\n",
    "![](https://github.com/gusdnd852/bigdata-lecture/blob/master/_notebooks/img/Day3/21.png?raw=true)\n",
    "\n",
    "선형회귀 모델은 데이터($y$)와 직선($\\hat{y}$)간의 차이의 **평균**을 최소화 하게 학습했습니다. 때문에 가장 끝쪽에 들어온 데이터는 직선과 거리가 멀기 때문에 직선이 직접 옆으로 움직여서 이 데이터와 거리를 좁히려고 할 것입니다.\n",
    "<br><br>\n",
    "\n",
    "![](https://github.com/gusdnd852/bigdata-lecture/blob/master/_notebooks/img/Day3/22.png?raw=true)\n",
    "\n",
    "직선이 변했기 때문에, 함수값이 0.5를 지나는 구간도 변경되었습니다. \n",
    "<br><br>\n",
    "\n",
    "![](https://github.com/gusdnd852/bigdata-lecture/blob/master/_notebooks/img/Day3/22.png?raw=true)\n",
    "\n",
    "함수값이 0.5를 지나는 구간이 변경되었기 때문에 이에 다른 데이터들의 정답 여부가 바뀝니다.\n",
    "빨간색 동그라미 친 데이터는 원래 정답으로 맞췄지만 기준선이 지나치게 오른쪽으로 움직여버려서\n",
    "오답처리되었습니다. 즉, 선형회귀의 경우 기본적으로 회귀모델이기 때문에 분류에는 적합하지 않습니다.\n",
    "<br><br>\n"
   ]
  }
 ],
 "metadata": {
  "kernelspec": {
   "display_name": "Python 3",
   "language": "python",
   "name": "python3"
  },
  "language_info": {
   "codemirror_mode": {
    "name": "ipython",
    "version": 3
   },
   "file_extension": ".py",
   "mimetype": "text/x-python",
   "name": "python",
   "nbconvert_exporter": "python",
   "pygments_lexer": "ipython3",
   "version": "3.6.7"
  }
 },
 "nbformat": 4,
 "nbformat_minor": 4
}
