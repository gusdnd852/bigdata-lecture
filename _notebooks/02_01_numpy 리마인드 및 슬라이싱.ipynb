{
 "cells": [
  {
   "cell_type": "markdown",
   "metadata": {},
   "source": [
    "# 01. Numpy 리마인드 및 컴프리헨션, 슬라이싱 연습\n",
    "> 저번시간에 배운 numpy 함수들을 리마인드하고, 리스트 컴프리헨션, 슬라이싱이라는 새로운 기법을 배워봅시다.\n",
    "\n",
    "- toc: true \n",
    "- badges: true\n",
    "- comments: true\n",
    "- categories: [Day 2]\n",
    "- permalink: /numpy_practice\n",
    "- exec: colab"
   ]
  },
  {
   "cell_type": "markdown",
   "metadata": {},
   "source": [
    "이전시간에 굉장히 장황하게? 선형대수에 대해서 배웠습니다. 아마 다 머릿속에 기억하신다고 하는 건 거짓말일텐데요. 오늘은 간단하게 리마인드해보고, 새롭지만 굉장히 파워풀한 스킬인 리스트 컴프리헨션과 넘파이 슬라이싱 스킬에 대해 배워봅시다."
   ]
  },
  {
   "cell_type": "markdown",
   "metadata": {},
   "source": [
    "<br>\n",
    "\n",
    "### 1. 이전 시간 리마인드\n",
    "이전시간에는 벡터, 행렬, 텐서의 개념에 대해 배우고 numpy를 통해 이들을 계산하는 시간을 가졌습니다. 개념에 대한 내용은 집에서 스스로 복습하시고 지금 시간에는 조금더 실용적인 구현연습을 해볼까 합니다."
   ]
  },
  {
   "cell_type": "markdown",
   "metadata": {},
   "source": [
    "<br>\n",
    "\n",
    "#### 1.1. 텐서 생성하기\n",
    "이제부터 벡터, 행렬을 모두 텐서라고 부르겠습니다. 사실 벡터는 랭크가 1인 텐서, 행렬은 랭크가 2인 텐서입니다. 텐서는 이들 모두를 아우르는 말이기 때문에 여기에서부터는 벡터, 행렬과 같은 용어는 사용하지 않겠습니다. \n"
   ]
  }
 ],
 "metadata": {
  "kernelspec": {
   "display_name": "Python 3",
   "language": "python",
   "name": "python3"
  },
  "language_info": {
   "codemirror_mode": {
    "name": "ipython",
    "version": 3
   },
   "file_extension": ".py",
   "mimetype": "text/x-python",
   "name": "python",
   "nbconvert_exporter": "python",
   "pygments_lexer": "ipython3",
   "version": "3.6.7"
  }
 },
 "nbformat": 4,
 "nbformat_minor": 4
}
