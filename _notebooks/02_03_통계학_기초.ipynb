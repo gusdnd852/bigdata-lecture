{
 "cells": [
  {
   "cell_type": "markdown",
   "metadata": {},
   "source": [
    "# 03. 통계학 기초\n",
    "> 머신러닝에 반드시 필요한 통계학의 기초 이론을 배웁니다.\n",
    "\n",
    "- toc: true \n",
    "- badges: true\n",
    "- comments: true\n",
    "- categories: [Day 2]\n",
    "- permalink: /statics_theory\n",
    "- exec: colab"
   ]
  },
  {
   "cell_type": "markdown",
   "metadata": {},
   "source": [
    "본격적으로 머신러닝의 How에 해당하며, 데이터의 불확실성을 모델링 하는 방법인 통계에 대해 배워봅시다. 물론 통계 이론 전체를 배우려면 엄청나게 방대한 양의 내용을 배워야하지만, 시간이 한정적이므로 현재 머신러닝 모델들을 이해하는 수준까지만 공부하도록합니다."
   ]
  },
  {
   "cell_type": "markdown",
   "metadata": {},
   "source": [
    "<br><br>\n",
    "\n",
    "### 1. 통계학이란?\n",
    "\n",
    "![img](https://github.com/gusdnd852/bigdata-lecture/blob/master/_notebooks/img/Day2/90.jpg?raw=true)\n",
    "\n",
    "통계란 무엇일까요? **통계는 다양한 데이터를 가지고 다양한 가설을 세우는 과정**입니다. 그러나 100% 정확한 가설은 거의 존재하지 않습니다. 때문에 우리는 이러한 가설의 불확실성에 대해 생각해봐야합니다. 통계에서는 이러한 **불확실성을 '확률'이라는 도구를 사용하여 표현**합니다. 그런데 문제는 이러한 **'확률'을 바라보는 관점이 학파마다 달랐다** 는 것입니다."
   ]
  },
  {
   "cell_type": "markdown",
   "metadata": {},
   "source": [
    "<br>\n",
    "\n",
    "### 2. 빈도주의(Frequentist) VS 베이지안(Bayesian)\n",
    "\n",
    "![img](https://github.com/gusdnd852/bigdata-lecture/blob/master/_notebooks/img/Day2/91.png?raw=true)\n",
    "\n",
    "확률을 바라보는 관점에는 크게 두가지가 있습니다. 첫번째는 빈도주의, 두번째는 베이지안입니다. 이들에 대해 알아봅시다.\n",
    "<br><br>\n",
    "\n",
    "#### 2.1. 빈도주의 확률 (Frequentist)\n",
    "\n",
    "빈도주의는 보통 **데이터의 관점**에서, 확률을 생각합니다. 이들 빈도주의자들에게는 확률이란 **사건의 발생 빈도**를 의미합니다. 간단하게 예를 들어 설명하겠습니다. 먼저 \"동전을 던졌을 때 앞면이 나올 확률은 $0.5$이다.\" 라는 가설을 세웁니다. 이때 이 확률 $0.5$는 앞면이라는 **사건이 발생할 확률**을 의미합니다.\n",
    "<br><br>\n",
    "   \n",
    "그리고 나서 동전을 100번, 1000번 던져보고 앞면이 나올 확률이 약 $0.5$와 매우 비슷하다는 것을 확인하고 **가설을 채택**합니다. 빈도주의 학파가 집중하는 불확실성은 Aleatory Uncertainty라고 하는데, 이는 **사건 발생의 Random함이 불확실성을 만든다**라는 관점으로 해석할 수 있습니다.\n",
    "<br><br>\n",
    "\n",
    "#### 2.2. 베이지안 확률 (Bayesian)\n",
    "\n",
    "베이지안은 보통 **가설의 관점**에서 확률을 생각합니다. 이들 베이지안들에게는 확률이란 **가설의 신뢰도**를 의미합니다. 간단하게 예를 들면, 먼저 \"동전을 던졌을 때 앞면이 나올 확률이 절반 정도 일것이라는 가설의 신뢰도는 $0.5$이다\"라고 생각합니다. 이 때, 확률 $0.5$는 **주장하는 가설에 대한 신뢰도**입니다. <br><br>\n",
    "\n",
    "그리고 나서 동전을 던져보고 앞면이 나올 확률이 절반정도 된다는 것을 확인하고 **기존 주장에 대한 가설의 신뢰도를 업데이트**합니다. 베이지안 학파가 집중하는 불확실성은 Epidemic Uncertainty라고 하는데, 이는 **가설의 신뢰도가 불확실성을 만든다**라는 관점으로 해석할 수 있습니다. <br><br>"
   ]
  }
 ],
 "metadata": {
  "kernelspec": {
   "display_name": "Python 3",
   "language": "python",
   "name": "python3"
  },
  "language_info": {
   "codemirror_mode": {
    "name": "ipython",
    "version": 3
   },
   "file_extension": ".py",
   "mimetype": "text/x-python",
   "name": "python",
   "nbconvert_exporter": "python",
   "pygments_lexer": "ipython3",
   "version": "3.6.7"
  }
 },
 "nbformat": 4,
 "nbformat_minor": 4
}
