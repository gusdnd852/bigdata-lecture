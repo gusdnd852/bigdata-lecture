{
 "cells": [
  {
   "cell_type": "markdown",
   "metadata": {},
   "source": [
    "### 1. 의사결정트리란?\n",
    "의사결정트리(Decision Tree)는 매우 직관적이고 분류와 회귀가 모두 가능한 지도 학습 모델입니다. 의사결정 트리는 크게 두 종류가 있는데 예측된 결과로 입력 데이터가 분류되는 클래스를 출력하는 **분류 트리 분석**과 예측된 결과로 특정 의미를 지니는 실수 값을 출력하는 **회귀 트리 분석**이 있습니다. 그리고 구분 속성을 어떤 순서로 나열할지 결정하는 알고리즘 중 엔트로피(Entropy)와 정보 획득(Information gain)을 이용한 ID3가 있습니다."
   ]
  },
  {
   "cell_type": "markdown",
   "metadata": {},
   "source": [
    "### 2. 엔트로피와 정보 획득\n",
    "#### 2.1 엔트로피(Entropy)\n",
    "엔트로피는 앞에서 배웠듯이 무질서한 정도를 의미합니다.\n",
    ">$Entropy = -p(+)\\log_{2} p(+)-p(-)\\log_{2} p(-)$\n",
    "\n",
    "#### 2.2 정보획득(Information gain)\n",
    "정보획득이란 $base Entropy - new Entropy$를 의미합니다. \n",
    "#### 2.3 ID3\n",
    "ID3 알고리즘은 정보 획득(Information gain)이 가장 큰 속성을 상위 노드에 있게 트리를 구성하는 알고리즘이다."
   ]
  },
  {
   "cell_type": "markdown",
   "metadata": {},
   "source": [
    "### 3. 의사결정트리의 장점\n",
    "- 의사결정트리는 사용과 해석이 용이합니다. \n",
    "- 트리형태로 모델이 표현되기 때문에 사용자가 이해하기 쉽습니다."
   ]
  },
  {
   "cell_type": "markdown",
   "metadata": {},
   "source": [
    "### 4. 의사결정트리의 단점\n",
    "- 수평 또는 수직 분할로 잘 포착되지 않은 구조의 데이터가 있는 곳에서는 성능이 좋지 않을 수 있습니다.\n",
    "- 새로운 데이터를 잘 일반화하지 못해 일반적으로 사용되기 어렵다."
   ]
  },
  {
   "cell_type": "code",
   "execution_count": null,
   "metadata": {},
   "outputs": [],
   "source": []
  }
 ],
 "metadata": {
  "kernelspec": {
   "display_name": "Python 3",
   "language": "python",
   "name": "python3"
  },
  "language_info": {
   "codemirror_mode": {
    "name": "ipython",
    "version": 3
   },
   "file_extension": ".py",
   "mimetype": "text/x-python",
   "name": "python",
   "nbconvert_exporter": "python",
   "pygments_lexer": "ipython3",
   "version": "3.6.7"
  }
 },
 "nbformat": 4,
 "nbformat_minor": 4
}
