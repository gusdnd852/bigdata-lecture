{
 "cells": [
  {
   "cell_type": "markdown",
   "metadata": {},
   "source": [
    "# 성능의 정의와 평가\n",
    "> Performance정의, Throughput, Response Time, Elapse Time, CPU Time, Clock Rate, CPI 등의 개념과 계산법\n",
    "- toc: true \n",
    "- badges: true\n",
    "- comments: true\n",
    "- categories: [컴퓨터구조]\n",
    "- permalink: /computer_architecture/definition_of_performance"
   ]
  },
  {
   "cell_type": "markdown",
   "metadata": {},
   "source": [
    "<br>\n",
    "\n",
    "### 1. 다양한 Performance의 정의\n",
    "Performance의 정의는 관점에 따라 다양하다. 알고리즘의 관점에서는 Operation의 수가 적을 수록 좋은 Performance를 가진 알고리즘으로 평가되고 컴파일러의 관점에서는 Instruction의 수로 평가한다."
   ]
  }
 ],
 "metadata": {
  "kernelspec": {
   "display_name": "Python 3",
   "language": "python",
   "name": "python3"
  },
  "language_info": {
   "codemirror_mode": {
    "name": "ipython",
    "version": 3
   },
   "file_extension": ".py",
   "mimetype": "text/x-python",
   "name": "python",
   "nbconvert_exporter": "python",
   "pygments_lexer": "ipython3",
   "version": "3.6.9"
  }
 },
 "nbformat": 4,
 "nbformat_minor": 4
}
